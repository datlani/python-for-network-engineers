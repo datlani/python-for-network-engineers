{
 "cells": [
  {
   "cell_type": "markdown",
   "metadata": {},
   "source": [
    "<h1 align ='Center'>Python for Network Engineers </h1>\n",
    "<h2 align='Center'> Braun E. Brelin</h2>\n",
    "\n"
   ]
  },
  {
   "cell_type": "code",
   "execution_count": null,
   "metadata": {
    "collapsed": true
   },
   "outputs": [],
   "source": []
  },
  {
   "cell_type": "code",
   "execution_count": null,
   "metadata": {
    "collapsed": true
   },
   "outputs": [],
   "source": []
  },
  {
   "cell_type": "markdown",
   "metadata": {},
   "source": [
    "<h1 align='center'>Table of Contents</h1>\n",
    "\n",
    "1.  [About Python](#About Python)\n",
    "2.  [Installing and Using Python](#Installing and Using Python)\n",
    "3.  [Starting with Python](#Starting with Python)\n",
    "4.  [Binding variables to objects](#Binding variables to objects)\n",
    "5.  [Python operators](#Python operators)\n",
    "6.  [Control flow in Python](#Control Flow in Python)\n",
    "    1.  [if/elif/else statements](#if/elif/else statements)\n",
    "    2.  [for loops](#for loops)\n",
    "    3.  [while loops](#while loops)\n",
    "7.  [Defining and using functions in Python](#Defining and using functions in Python)\n",
    "    1.  [Parameter types, \\*args and \\*\\*kwargs](#Parameter types \\*args and \\*\\*kwargs)\n",
    "8.  [Python strings](#Python Strings)\n",
    "9.  [Lists and Tuples](#Lists and Tuples)\n",
    "10.  [Dictionaries](#Dictionaries)\n",
    "11.  [Sets](#Sets)\n",
    "12. [Comprehensions](#Comprehensions)\n",
    "13. [Problem Analysis](#Problem Analysis)<h1 align='center'>Chapter 1</h1>\n",
    "<h1 align='center'>About Python</h1>\n",
    "\n",
    "Python was created in the late 1980\\'s by Guido Van Rossum when he worked as a researcher at <a href = 'https://www.cwi.nl/'>Centrum Wiskunde & Informatica</a>.  In 2000. Python 2.0 was released.  The 2.0 release has gone through a number of major versions, ending in version 2.7. In 2008, Python 3.0 was released.  As of this writing, the latest stable version, 3.6, was released in December 2016.  \n",
    "\n",
    "Python is a programming language designed to be run on multiple operating systems, including Linux, Unix, MacOS X and Microsoft Windows.  The language supports a number of programming paradigms, including *Functional*, *Imperative* and *Object Oriented* styles.\n",
    "\n",
    "The core philosophy of Python is summarized in a paper entitled [*The zen of python*](#https://www.python.org/dev/peps/pep-0020/)\n",
    "\n",
    "In brief, \n",
    "- Beautiful is better than ugly. \n",
    "- Explicit is better than implicit.\n",
    "- Simple is better than complex\n",
    "- Complex is better than complicated.\n",
    "- There should be one—and preferably only one—obvious way to do it.\n",
    "\n",
    "[https://docs.python.org](#http://docs.python.org) is the URL for the repository of all the offical Python documentation, including a tutorial, API documentation, and much more.  \n",
    "\n",
    "This course will focus on the Python 3.x implementation of the language.  Although Python 2 is still in wide release, it is no longer being updated with the new features of Python 3 and there is a wide push among the Python developers to have existing Python code ported from version 2 to version 3 as well as suggesting that all new Python code be developed with the latest stable release of Python 3. \n",
    "\n",
    "14. [Introduction to Object Oriented Programming](#Introduction to Object Oriented Programming)\n",
    "15. [Classes](#Classes)\n",
    "    1.  [Inheritance](#Inheritance)\n",
    "    2.  [Polymorphism](#Polymorphism)\n",
    "16. [Writing Pythonic code](#Writing Pythonic Code)"
   ]
  },
  {
   "cell_type": "markdown",
   "metadata": {},
   "source": [
    "<h1 align='center'>Chapter 1</h1>\n",
    "<h1 align='center'>About Python</h1>\n",
    "\n",
    "Python was created in the late 1980\\'s by Guido Van Rossum when he worked as a researcher at <a href = 'https://www.cwi.nl/'>Centrum Wiskunde & Informatica</a>.  In 2000. Python 2.0 was released.  The 2.0 release has gone through a number of major versions, ending in version 2.7. In 2008, Python 3.0 was released.  As of this writing, the latest stable version, 3.6, was released in December 2016.  \n",
    "\n",
    "Python is a programming language designed to be run on multiple operating systems, including Linux, Unix, MacOS X and Microsoft Windows.  The language supports a number of programming paradigms, including *Functional*, *Imperative* and *Object Oriented* styles.\n",
    "\n",
    "The core philosophy of Python is summarized in a paper entitled [*The zen of python*](#https://www.python.org/dev/peps/pep-0020/)\n",
    "\n",
    "In brief, \n",
    "- Beautiful is better than ugly. \n",
    "- Explicit is better than implicit.\n",
    "- Simple is better than complex\n",
    "- Complex is better than complicated.\n",
    "- There should be one—and preferably only one—obvious way to do it.\n",
    "\n",
    "[https://docs.python.org](#http://docs.python.org) is the URL for the repository of all the offical Python documentation, including a tutorial, API documentation, and much more.  \n",
    "\n",
    "This course will focus on the Python 3.x implementation of the language.  Although Python 2 is still in wide release, it is no longer being updated with the new features of Python 3 and there is a wide push among the Python developers to have existing Python code ported from version 2 to version 3 as well as suggesting that all new Python code be developed with the latest stable release of Python 3. \n",
    "\n",
    " \n"
   ]
  },
  {
   "cell_type": "markdown",
   "metadata": {},
   "source": [
    "<h1 align='center'>Chapter 2</h1>\n",
    "<h1 align='center'>Installing and Using Python</h1>\n",
    "\n",
    "Python is widely available on the Internet.The official source URL for Python is at \n",
    "[python.org/downloads](#https://python.org/downloads).\n",
    "\n",
    "Additionally, you will want to also download the following software for use with this course. \n",
    "\n",
    "- [The Jupyter Notebook](#https://www.continuum.io/downloads). \n",
    "- [PIP](#https://pypi.python.org/pypi/pip)\n",
    "\n",
    "The Jupyter Notebook is part of the Anaconda software system, which bundles together a number of Python packages for use in scientific computing.  \n",
    "Download and install these packages on your local system in order to start using Python for this course. \n",
    "\n",
    "Once the software has been installed successfully, you can now start using Python.  The python environment comes with a shell, also known as a REPL (Read-Eval-Print-Loop).  To start it, simply type in the following:\n",
    "\n",
    "                                 \n",
    "<table align='left'>\n",
    "    <tr>\n",
    "        <td> \n",
    "             <p style = 'font-family:courier'>  \n",
    "             xvarix% python3<br>\n",
    "             Python 3.5.2 (default, Nov 17 2016, 17:05:23)<br> \n",
    "             [GCC 5.4.0 20160609] on linux<br>\n",
    "             Type \"help\", \"copyright\", \"credits\" or \"license\" for more information.<br>\n",
    "             >>>\n",
    "            </p>\n",
    "        </td>\n",
    "    </tr>\n",
    "</table>\n",
    "<br><br><br><br><br><br><br><br>\n",
    "Once the '>>>' prompt is printed, you can now type in Python commands and executable code.  For example\n",
    "<table align='left'>\n",
    "    <tr>\n",
    "        <td> \n",
    "             <p style = 'font-family:courier'>  \n",
    "             xvarix% python3<br>\n",
    "             Python 3.5.2 (default, Nov 17 2016, 17:05:23)<br> \n",
    "             [GCC 5.4.0 20160609] on linux<br>\n",
    "             Type \"help\", \"copyright\", \"credits\" or \"license\" for more information.<br>\n",
    "             >>> 2 + 2<br>\n",
    "             4<br>\n",
    "             >>><br>\n",
    "            </p>\n",
    "        </td>\n",
    "    </tr>\n",
    "</table>\n",
    "\n",
    "\n",
    "                                 \n",
    "\n",
    "                               "
   ]
  },
  {
   "cell_type": "markdown",
   "metadata": {},
   "source": [
    "### Quick Exercise:\n",
    "From the Python shell perform the following actions:\n",
    "1. Multiply 4 and 2 using the Python '\\*' operator. Save it to a variable called *mult*. \n",
    "2. Using the *print()* built in function in Python, print the value stored in the *mult* variable.\n",
    "3. Print the string \"Hello Python\" using the print() function in Python."
   ]
  },
  {
   "cell_type": "markdown",
   "metadata": {},
   "source": [
    "<h2> The Python Virtual Machine </h2><br>\n",
    "Python uses the concept of a *virtual machine*.  This is similar to languages like Java.  Initially, programming languages were compiled.  That is, you would create a source code file in a language like C or Fortran, and then a special program called a *compiler* would take that source code and convert it into a file of binary code called an *object* file.  This is still done today for language like C, C++ and many others.  Java was the first language to widely use a new concept called a Virtual Machine. Java would take a source code file and compile it, not to object code but to an intermediate form called a *bytecode* file.  This bytecode file would then be compiled by the Java Virtual Machine (JVM) to object code and then executed by the operating system.  \n",
    "\n",
    "While this sounds like unnecessary complexity, in fact, there are many advantages to this type of system.  Before the concept of a virtual machine, programmers needed to keep track of all computer memory allocated and de-allocated in their program.  Often, mistakes in the program would lead to crashes and indeterministic behavior on part of the program due to a flaw in the program's allocation of memory.  With a virtual machine, the VM itself takes care of the allocation and de-allocation of memory so the programmer no longer needs to worry about it.  This leads to far more robust programs since an entire class of potential error has been removed.  Following is a graphic illustration of how the Python Virtual Machine works. \n",
    "\n",
    "<img src='graphics/Python%20VM%20Diagram.png'> </img>\n",
    "\n",
    "\n"
   ]
  },
  {
   "cell_type": "markdown",
   "metadata": {},
   "source": [
    "<h1 align='center'>Chapter 3</h1>\n",
    "<h2 align='center'>Starting with Python</h1>\n",
    "\n",
    "<h3>Identifiers</h3>\n",
    "\n",
    "We start with Python by understanding the concept of *identifiers*.  An identifier is a name that is used to identify things in Python.  A thing in Python can be a variable, a function, a class, a module or any other valid Python object.  An identifier can contain upper or lower case letters (A to Z or a to z), numbers (0 to 9) or underscores \\(\\_\\). It is also important to understand that identifiers are *case sensitive*.  \n",
    "\n",
    "Examples of valid identifiers in Python include:\n",
    "\n",
    "var1,<br>\n",
    "\\_\\_doc\\_\\_,<br>\n",
    "Myidentifier,<br>\n",
    "myidentifier (Note, that Myidentifier and myidentifier are different!),<br>\n",
    "abc1\n",
    "\n",
    "and so on. \n",
    "\n",
    "When using identifiers, Python has a convention for names.  \n",
    "\n",
    "- All class names should begin with an upper case letter.  For example, Person.\n",
    "- Starting an identifier with an underscore indicates that the identifier is private.  For example \\_privvar\n",
    "- Starting an identifier with two underscores indicates that it is strongly private. For example \\_\\_privvar1\n",
    "- If an identifier starts with and ends with two double underscores, then it is a specially defined variable in the Python language.  For example \\_\\_init\\_\\_\n",
    "\n",
    "Python reserves a number of words that cannot be used for naming an identifier.  \n",
    "<table class=\"table table-bordered\">\n",
    "<tr><td>and</td><td>exec</td><td>not</td></tr>\n",
    "<tr><td>assert</td><td>finally</td><td>or</td></tr>\n",
    "<tr><td>break</td><td>for</td><td>pass</td></tr>\n",
    "<tr><td>class</td><td>from</td><td>print</td></tr>\n",
    "<tr><td>continue</td><td>global</td><td>raise</td></tr>\n",
    "<tr><td>def</td><td>if</td><td>return</td></tr>\n",
    "<tr><td>del</td><td>import</td><td>try</td></tr>\n",
    "<tr><td>elif</td><td>in</td><td>while</td></tr>\n",
    "<tr><td>else</td><td>is</td><td>with </td></tr>\n",
    "<tr><td>except</td><td>lambda</td><td>yield</td></tr>\n",
    "</table>\n",
    "\n",
    "<h3>Code Indentation</h3>\n",
    "One major difference between Python and other languages such as Java or C, is that there is no concept of using the curly braces ({}) to identify blocks of code.  Python instead uses *indentation* to achieve the same result. \n",
    "For example.\n",
    "\n",
    "<table align='left'>\n",
    "    <tr>\n",
    "        <td width = '300px'>\n",
    "            <p style ='font-family: courier'>\n",
    "            Using C:<br>\n",
    "            if (x == 5) {<br>\n",
    "            &nbsp;&nbsp;&nbsp;&nbsp;printf (\"x is 5\\n\");<br>\n",
    "            }\n",
    "             <br><br>\n",
    "             Using Python:<br>\n",
    "             if x is 5:<br>\n",
    "             &nbsp;&nbsp;&nbsp;&nbsp;print (\"x is 5\")<br>\n",
    "            </p> \n",
    "        </td>\n",
    "    </tr>\n",
    "</table>\n",
    "<br><br><br><br><br><br><br><br><br><br><br>\n",
    "Note that Python uses the ':' character to tell it the start of a block of code.  The code block ends with the\n",
    "next exdented statement. \n",
    "\n",
    "Note that the indentation must be consistent.  In other words, you cannot indent one line with three spaces and another line with four spaces in the same block.  Python will give you an error if you do this. \n",
    "\n",
    "\n",
    "<table align='left'>\n",
    "    <tr>\n",
    "        <td width = '1100px'>\n",
    "            <p style ='font-family: courier'>\n",
    "            Incorrect:<br>\n",
    "            ```python\n",
    "            if a is 1:\n",
    "                a = a + 1\n",
    "               print (\"The value of a is \",a) # This statement is only indented three spaces, the one above, four\n",
    "            ```\n",
    "             <br>\n",
    "             Correct:<br>\n",
    "             ```python\n",
    "             if a is 1:\n",
    "                 a = a + 1<br>\n",
    "                 print (\"The value of a is \",a)\n",
    "             ```\n",
    "            </p> \n",
    "        </td>\n",
    "    </tr>\n",
    "</table>\n",
    "\n"
   ]
  },
  {
   "cell_type": "code",
   "execution_count": 1,
   "metadata": {
    "collapsed": false
   },
   "outputs": [
    {
     "name": "stdout",
     "output_type": "stream",
     "text": [
      "x is one\n"
     ]
    }
   ],
   "source": [
    "x = 1\n",
    "if (x == 2):\n",
    "    print ('x is 2')\n",
    "print ('x is one')"
   ]
  },
  {
   "cell_type": "markdown",
   "metadata": {
    "collapsed": true
   },
   "source": [
    "<h3>Comments in Python</h3>\n",
    "\n",
    "Python uses the '#' character as a comment.  Any character on the same line after the hash symbol will be ignored \n",
    "by Python. For example:\n",
    "\n",
    "<table align='left'>\n",
    "    <tr>\n",
    "        <td width = '700px'>\n",
    "            <p style ='font-family: courier'>\n",
    "             if x is 5:<br>\n",
    "             \\# This line is a comment.  Nothing here will be interpreted by Python.<br>\n",
    "             &nbsp;&nbsp;&nbsp;&nbsp;print (\"x is 5\")<br>\n",
    "            </p> \n",
    "        </td>\n",
    "    </tr>\n",
    "</table>\n"
   ]
  },
  {
   "cell_type": "markdown",
   "metadata": {},
   "source": [
    "<h3> Quotes in Python</h3><br>\n",
    "Python accepts single quotes (''), double quotes (\"\") or the triple quote (''').  \n",
    "Single quotes and double quotes in Python are interchangeable.  Triple quotes indicate a multi-line \n",
    "string. For example:\n",
    "\n",
    "<table>\n",
    "    <tr>\n",
    "        <td width = '600px'>\n",
    "            <p style ='font-family: courier'>\n",
    "             if x is 5:<br>\n",
    "             ''' This is a multi-line quote.<br>\n",
    "                 &nbsp;&nbsp;&nbsp; We're testing the value of 5 and printing out<br> \n",
    "                 &nbsp;&nbsp;&nbsp;&nbsp;\"x is 5\" if x is equal to 5. <br>\n",
    "             '''<br>\n",
    "             &nbsp;&nbsp;&nbsp;&nbsp;print (\"x is 5\")<br>\n",
    "            </p> \n",
    "        </td>\n",
    "    </tr>\n",
    "</table>\n",
    "\n"
   ]
  },
  {
   "cell_type": "markdown",
   "metadata": {},
   "source": [
    "<h3>Multiple statements on a line</h3><br>\n",
    "Python allows for multiple statements on a single line, separated by the semi-colon (;).  For example:\n",
    "<table>\n",
    "    <tr>\n",
    "        <td width = '400px'>\n",
    "            <p style ='font-family: courier'>\n",
    "             if x is 5:<br>\n",
    "             &nbsp;&nbsp;&nbsp;&nbsp; y = 6; z = x + y; print (\"z is \",z)<br>\n",
    "            </p> \n",
    "        </td>\n",
    "    </tr>\n",
    "</table>"
   ]
  },
  {
   "cell_type": "markdown",
   "metadata": {},
   "source": [
    "<h2>Variables and Values</h2><br>\n",
    "Python allows you to create and store objects by binding them to variable names.  Creating an object reserves space in memory for that object.  Everything in Python is an object, including numbers (such as integers, floating point numbers and complex numbers), strings, functions, classes and many other things.  Python uses the assignment operator (=) to bind these variable names to objects.  For example:\n",
    "\n",
    "<table align='left'>\n",
    "    <tr>\n",
    "        <td width = '800px'>\n",
    "            <p style ='font-family: courier'>\n",
    "                 x = 1 # This creates an integer object and binds it to the name 'x'<br>\n",
    "                 y = 2.0 # This creates a floating point object and binds it to the name 'y'<br>\n",
    "                 s = 'Hello World' # Creates a string object and binds it to the name 's'<br>\n",
    "                 mycomplex = 4j # Creates a complex number object and binds it to the name 'mycomplex'<br>\n",
    "                 print (x,y,s,mycomplex)\n",
    "            </p> \n",
    "        </td>\n",
    "    </tr>\n",
    "</table>\n",
    "\n",
    "\n"
   ]
  },
  {
   "cell_type": "code",
   "execution_count": 3,
   "metadata": {
    "collapsed": false
   },
   "outputs": [
    {
     "name": "stdout",
     "output_type": "stream",
     "text": [
      "1 2.0 Hello World 4j\n"
     ]
    }
   ],
   "source": [
    "x = 1\n",
    "y = 2.0\n",
    "s = 'Hello World'\n",
    "mycomplex = 4j\n",
    "print (x,y,s,mycomplex)"
   ]
  },
  {
   "cell_type": "markdown",
   "metadata": {},
   "source": [
    "Additionally, it is possible to assign a single value to multiple names at the same time. For example:\n",
    "<table align='left'>\n",
    "    <tr>\n",
    "        <td width = '800px'>\n",
    "            <p style ='font-family: courier'>\n",
    "                 a = b = c = 1<br>\n",
    "                 print (a,b,c)\n",
    "            </p> \n",
    "        </td>\n",
    "    </tr>\n",
    "</table>\n",
    "<br><br><br><br>\n",
    "Also, it is possible to assign multiple value to multiple names also at the same time. \n",
    "\n",
    "<table align='left'>\n",
    "    <tr>\n",
    "        <td width = '800px'>\n",
    "            <p style ='font-family: courier'>\n",
    "                 a,b,c =1,2,'Foo' <br>\n",
    "                 print (a,b,c)\n",
    "            </p> \n",
    "        </td>\n",
    "    </tr>\n",
    "</table>\n"
   ]
  },
  {
   "cell_type": "code",
   "execution_count": 2,
   "metadata": {
    "collapsed": false
   },
   "outputs": [
    {
     "name": "stdout",
     "output_type": "stream",
     "text": [
      "2 2 2\n",
      "1 2 Foo\n"
     ]
    }
   ],
   "source": [
    "a=b=c=2\n",
    "print (a,b,c)\n",
    "a,b,c = 1,2,'Foo'\n",
    "print (a,b,c)"
   ]
  },
  {
   "cell_type": "markdown",
   "metadata": {},
   "source": [
    "<h3>Data Types in Python </h3><br>\n",
    "Python contains five standard data types.\n",
    "\n",
    "1. Numbers\n",
    "  -  Integers\n",
    "  -  Floating Point\n",
    "  -  Complex\n",
    "2. Strings\n",
    "3. Tuples\n",
    "4. Lists\n",
    "5. Dictionaries\n",
    "\n",
    "\n",
    "    "
   ]
  },
  {
   "cell_type": "markdown",
   "metadata": {},
   "source": [
    "<h3>Numeric Types in Python </h3><br>\n",
    "\n",
    "Following is an example of Python numeric types\n",
    "\n",
    "<table width = '800px', align='left'>\n",
    "<tr> <th> Integer</th> <th> Floating Point </th> <th> Complex </th> </tr>\n",
    "\n",
    "    <tr> <td >10 </td> <td> 20.0 </td> <td> 4+3j </td> </tr>\n",
    "    <tr> <td> -10 </td> <td> 21+e8 </td> <td>  10.j </td> </tr>\n",
    "    <tr> <td> 075</td> <td> -15.6 </td> <td>  0.023j </td> </tr>\n",
    "    <tr> <td> 0x2f</td> <td> 14-e5 </td> <td> 2e + 4j  </td> </tr>\n",
    "</table>\n",
    "<br><br><br><br><br><br><br><br><br><br>\n",
    "- Integers with a 0 prefix are *Base 8* or *octal* numbers. \n",
    "- Integers with a 0x prefix are *Base 16* or *hexadecimal* numbers. \n",
    "\n",
    "Numerical operators\n",
    "Python supports the standard arithmetic operators.  Below is a table of the most commonly used arithmetic operators and their operations.\n",
    "\n",
    "<table width = '800px', align='left'>\n",
    "    <tr> <th>Operator</th> <th> Operation</th> <th>Example</th></tr>\n",
    "    <tr> <td >+ </td> <td> Add two numbers </td> <td> a + b</td> </tr>\n",
    "    <tr> <td> - </td> <td> Subtract two numbers </td> <\n",
    "    td> a - b</td> </tr>\n",
    "    <tr> <td> \\* </td> <td>Multiply two numbers </td> <td> a * b </td></tr>\n",
    "    <tr> <td> /</td> <td> Floating point division </td><td>a / b</td></tr>\n",
    "    <tr><td> //</td> <td> Integer (Floor) division</td><td>a // b </td><tr>\n",
    "    <tr><td> \\*\\*\\*</td><td> Exponentiation </td><td> a ** 2 </td></tr>\n",
    "    <tr><td> % </td><td> Modulo (Remainder) </td> <td>a % b</td><tr>\n",
    "</table>\n",
    "<br><br><br><br><br><br><br><br><br><br><br><br><br><br><br>\n",
    "    Python also supports the standard comparison operators. Below is a table of the most commonly used comparison operators and their operations. \n",
    "    \n",
    "\n",
    "    <table width = '800px', align='left'>\n",
    "    <tr> <th>Operator</th> <th> Operation</th> <th>Example</th></tr>\n",
    "    <tr> <td > == </td> <td> Compare two objects for equality </td> <td> a == b</td> </tr>\n",
    "    <tr> <td> != </td> <td> Compare two objects for inequality </td> <td> a != b</td> </tr>\n",
    "    <tr> <td> &gt; </td> <td> Compare if object a is greater than object b </td> <td> a &gt; b </td></tr>\n",
    "    <tr> <td> &gt;= </td> <td> Compare if object a is greater than or equal to object b</td><td>a &gt;= b</td></tr>\n",
    "    <tr><td> &lt; </td> <td> Compare if object a is less than object b </td><td>a &lt; b </td><tr>\n",
    "    <tr><td> &lt;= </td><td> Compare if object is a less than or equal to object b </td><td> a &lt;= b </td></tr>    \n",
    "    </table>"
   ]
  },
  {
   "cell_type": "code",
   "execution_count": 3,
   "metadata": {
    "collapsed": false
   },
   "outputs": [
    {
     "name": "stdout",
     "output_type": "stream",
     "text": [
      "4\n"
     ]
    }
   ],
   "source": [
    "a = 2\n",
    "b = 2 ** 2\n",
    "print (b)"
   ]
  },
  {
   "cell_type": "markdown",
   "metadata": {},
   "source": [
    "Python has a number of assignment operators.  The following table shows the complete list: <br>\n",
    "    \n",
    "<table width = '800px' align='left'>\n",
    "    <tr> <th>Operator</th> <th> Operation</th> <th>Example</th></tr>\n",
    "    <tr> <td >=</td> <td> Assign a value from the right side of the operator to the left </td> <td> a = b</td> </tr>\n",
    "    <tr> <td> += </td> <td> Add the value on the right side of the operator to the variable on the left and assign the resulting value to the operand on the left</td> <td> a += b </td> </tr>\n",
    "    <tr> <td> -= </td> <td> Subtract the value on the right side of the operator to the variable on the left and assign the resulting value to the operand on the left</td> <td> a -= b </td></tr>\n",
    "    <tr> <td> \\*= </td><td>Multiply the value on the right side of the operator to the variable on the left and assign the resulting value to the operand on the left </td>  </td><td>a \\*= b</td></tr>\n",
    "    <tr><td> /=</td> <td>Divide the value on the right side of the operator to the variable on the left and assign the resulting value to the operand on the left </td><td>a // b </td><tr>\n",
    "    <tr><td> %=</td><td> Takes the modulus of the two values on either side and assign the resulting value to the operand on the left </td><td> a %= b </td></tr>\n",
    "    <tr><td>\\*\\*= </td><td> Performs the exponentiation function and takes a to the power of b and assigns the result to the left hand operand </td> <td>a **= b</td><tr>\n",
    "     <tr><td>//= </td><td> Performs floor (integer) division of a and b  and assigns the value to the operand on the left. </td> <td>a **= b</td><tr>\n",
    "</table><br>\n",
    "    "
   ]
  },
  {
   "cell_type": "code",
   "execution_count": 5,
   "metadata": {
    "collapsed": false
   },
   "outputs": [
    {
     "name": "stdout",
     "output_type": "stream",
     "text": [
      "2\n",
      "3\n"
     ]
    }
   ],
   "source": [
    "a = 1\n",
    "a = a + 1 \n",
    "print (a)\n",
    "a += 1\n",
    "print (a)"
   ]
  },
  {
   "cell_type": "code",
   "execution_count": 4,
   "metadata": {
    "collapsed": false
   },
   "outputs": [
    {
     "name": "stdout",
     "output_type": "stream",
     "text": [
      "2\n"
     ]
    }
   ],
   "source": [
    "a=4\n",
    "b=2\n",
    "print (a//b)"
   ]
  },
  {
   "cell_type": "markdown",
   "metadata": {},
   "source": [
    "<h3> The Python boolean type</h3>\n",
    "\n",
    "Python also as the concept of a *boolean* type.  This type holds two possible values *True* and *False*. \n",
    "There are a number of operators that work with boolean types. Here is a table of these operators. \n",
    "\n",
    "Python also has logical operators, such as *and* and *or* and *not*.  The following table explains these operators:<br>\n",
    " <table width = '800px' align='left'>\n",
    "    <tr> <th>Operator</th> <th> Operation</th> <th>Example</th></tr>\n",
    "    <tr> <td > and </td> <td> A boolean expression is true if both operands are True </td> <td> if a< 5 and b < 10:</td> </tr>\n",
    "    <tr> <td> or </td> <td> A boolean expression is true if either operand is True </td> <td> if a < 5 or b < 10:</td> </tr>\n",
    "    <tr> <td> not </td> <td> A boolean expression is true if the operand is not true  </td> <td> if not a < b: </td></tr>  \n",
    "    </table>"
   ]
  },
  {
   "cell_type": "code",
   "execution_count": 8,
   "metadata": {
    "collapsed": false
   },
   "outputs": [
    {
     "name": "stdout",
     "output_type": "stream",
     "text": [
      "a is 5\n",
      "b is 10\n",
      "They are both True\n",
      "One or both are True\n",
      "A is not 4 and b is not 11\n"
     ]
    }
   ],
   "source": [
    "# Here is an example of Python code using booleans\n",
    "# First, let's set our operands\n",
    "a = 5\n",
    "b = 10\n",
    "\n",
    "# Now, let's do some boolean tests\n",
    "if a == 5:\n",
    "    print ('a is 5')\n",
    "if b == 10:\n",
    "    print ('b is 10')\n",
    "\n",
    "# Note that only if the expression (a == 5) evaluates to True will the next statement be executed. \n",
    "\n",
    "# Example of Logical operators. \n",
    "\n",
    "if (a == 5 and b == 10):\n",
    "    print (\"They are both True\")\n",
    "if (a == 5 or b == 10):\n",
    "    print (\"One or both are True\")\n",
    "if (not (a == 4 and b == 11)):\n",
    "    print (\"A is not 4 and b is not 11\")\n",
    "    \n",
    "    "
   ]
  },
  {
   "cell_type": "markdown",
   "metadata": {},
   "source": [
    "<h3> The identity operators </h3><br>\n",
    "Python also has the concept of *identity* operators.  The identity operator compares the memory locations of two bound names to see if they are equal, if so, then the two name refer to the exact same object.  We can see the exact value of the object by using the built in function *id()*.  \n",
    "\n",
    "The identity operators are:\n",
    "\n",
    "<table width = '800px' align='left'>\n",
    "    <tr> <th>Operator</th> <th> Operation</th> <th>Example</th></tr>\n",
    "    <tr> <td > is </td> <td>The expression is true if both sides of the operator point to the same memory location.  Otherwise false </td> <td> if a is b:</td> </tr>\n",
    "    <tr> <td> is not </td> <td> The expression is true if the two operands point to different memory locations.  </td> <td> if a is not b:</td> </tr>\n",
    "   \n",
    "</table>\n",
    "    <br><br><br><br><br><br>\n",
    "It is important to note that the expressions a is b and a == b are **do not test the same things.**  The first test will test the memory locations of the variables, the second will test the value stored in the variable. \n",
    "\n"
   ]
  },
  {
   "cell_type": "code",
   "execution_count": 10,
   "metadata": {
    "collapsed": false
   },
   "outputs": [
    {
     "name": "stdout",
     "output_type": "stream",
     "text": [
      "id of a is  10914656\n",
      "id of b is  10914688\n",
      "id of c is  10914496\n",
      "id of d is  10914496\n",
      "a is not the same as b\n",
      "c is the same as d\n",
      "These two strings do not have the same identity\n",
      "These two strings have the same value\n"
     ]
    }
   ],
   "source": [
    "# Here is an example using the identity operators. \n",
    "# First, we set the initial value for the operands. \n",
    "a = 10\n",
    "b = 11\n",
    "c = 5\n",
    "d = 5\n",
    "s1 = 'This is a string'\n",
    "s2 = 'This is a string'\n",
    "\n",
    "# Next, we print out the identities of each variable\n",
    "\n",
    "print (\"id of a is \", id(a))\n",
    "print (\"id of b is \", id(b))\n",
    "print (\"id of c is \", id(c))\n",
    "print (\"id of d is \", id(d))\n",
    "\n",
    "# Now we do the identity tests. \n",
    "\n",
    "if a is b:\n",
    "    print (\"a is the same as b \")\n",
    "else:\n",
    "    print (\"a is not the same as b\")\n",
    "    \n",
    "if c is d:\n",
    "    print (\"c is the same as d\")\n",
    "else:\n",
    "    print (\"c is not the same as d\")\n",
    "    \n",
    "# Here we are testing the difference between the is operator and the == operator.     \n",
    "if s1 is s2:\n",
    "    print (\"These two strings have the same identity\")\n",
    "else:\n",
    "    print (\"These two strings do not have the same identity\")\n",
    "\n",
    "if s1 == s2:\n",
    "    print (\"These two strings have the same value\")\n",
    "else:\n",
    "    print (\"These two strings do not have the same value\")\n",
    "    "
   ]
  },
  {
   "cell_type": "code",
   "execution_count": 19,
   "metadata": {
    "collapsed": false
   },
   "outputs": [
    {
     "name": "stdout",
     "output_type": "stream",
     "text": [
      "113.0973372\n",
      "113.0973372\n",
      "18.8495562\n",
      " This function calculates the volume of a sphere \n"
     ]
    }
   ],
   "source": [
    "pi=3.1415927\n",
    "r = 3\n",
    "\n",
    "def Volume(r):\n",
    "    ''' This function calculates the volume of a sphere '''\n",
    "    return 4/3* pi * r**3 \n",
    "\n",
    "def Area(r):\n",
    "    ''' This function calculates the area of a sphere '''\n",
    "    return 4 * pi * r **2\n",
    "\n",
    "def Circumference(r):\n",
    "    ''' This function calcuates the circumference of a sphere '''\n",
    "    return 2 * pi * r\n",
    "    \n",
    "    \n",
    "# volume = 4/3* pi * r**3\n",
    "# area = 4 * pi *r **2\n",
    "# circumference = 2 * pi * r\n",
    "print (Volume(r))\n",
    "print (Area(r))\n",
    "print (Circumference(r))\n",
    "print (Volume.__doc__)"
   ]
  },
  {
   "cell_type": "code",
   "execution_count": null,
   "metadata": {
    "collapsed": false
   },
   "outputs": [
    {
     "name": "stdout",
     "output_type": "stream",
     "text": [
      "Please enter a number: 4\n",
      "1.  Calculate volume\n",
      "2.  Calculate area\n",
      "3.  Calculate circumference\n",
      "4.  Exit\n",
      "Please enter your choice: 1\n",
      "268.08257706666666\n",
      "\n",
      "\n",
      "1.  Calculate volume\n",
      "2.  Calculate area\n",
      "3.  Calculate circumference\n",
      "4.  Exit\n"
     ]
    }
   ],
   "source": [
    "import sys\n",
    "\n",
    "pi = 3.1415927\n",
    "radius = int(input('Please enter a number: '))\n",
    "\n",
    "def Volume(r):\n",
    "    ''' This function calculates the volume of a sphere '''\n",
    "    return 4/3* pi * r**3 \n",
    "\n",
    "def Area(r):\n",
    "    ''' This function calculates the area of a sphere '''\n",
    "    return 4 * pi * r **2\n",
    "\n",
    "def Circumference(r):\n",
    "    ''' This function calcuates the circumference of a sphere '''\n",
    "    return 2 * pi * r\n",
    "\n",
    "funclist = [Volume,Area,Circumference]\n",
    "\n",
    "while (True):\n",
    "    print ('1.  Calculate volume')\n",
    "    print ('2.  Calculate area')\n",
    "    print ('3.  Calculate circumference')\n",
    "    print ('4.  Exit')\n",
    "    \n",
    "    choice = input('Please enter your choice: ')\n",
    "    \n",
    "    if choice == 4:\n",
    "        sys.exit()\n",
    "    else:\n",
    "        print(funclist[int(choice)-1](radius))\n",
    "        print ('\\n')\n",
    "    \n"
   ]
  },
  {
   "cell_type": "code",
   "execution_count": null,
   "metadata": {
    "collapsed": true
   },
   "outputs": [],
   "source": [
    "import math \n",
    "pi = 3.1415927\n",
    "radius = input('Please enter the radius')\n",
    "radius = int(radius)\n",
    "volume = 4 /3 * pi * radius ** 3\n",
    "print ('Volume = ',volume)\n",
    "circumference = 2 * pi * radius\n",
    "print ('Circumference = ',circumference)\n",
    "area = 4 * pi * radius ** 2\n",
    "print ('Area = ', area)\n"
   ]
  },
  {
   "cell_type": "markdown",
   "metadata": {},
   "source": [
    "The previous cell is an example of calculating stuff.\n"
   ]
  },
  {
   "cell_type": "markdown",
   "metadata": {},
   "source": [
    "<h3> Operator Precedence </h3>\n",
    "\n",
    "Operators in Python have a precedence order, that is, given a statement with multiple operators, Python will decide which operator to do first based on this order.   For example given the statement \n",
    "<table align='left'>\n",
    "<tr>\n",
    "<td>\n",
    "<p style = 'font-family:courier'>\n",
    "    a + b \\* c\n",
    "</p>\n",
    "</td></tr>\n",
    "</table>\n",
    "<br><br><br>\n",
    "Python will execute the multiplication statement first, and then add the result to the value stored in the *a* variable.  \n",
    "The following table shows the operator precedence order. \n",
    "<br>\n",
    "<table align='left'>\n",
    "<tr><th> Operator </th><th>Operation</th></tr>\n",
    "<tr>\n",
    "<tr>\n",
    "<td>\\*\\*</td>\n",
    "<td>Exponentiation (raise to the power)</td>\n",
    "</tr><tr><td>~ + -</td><td>Complement, unary plus and minus </td></tr><tr><td>\\* / % //</td><td>Multiply, divide, modulo and floor division</td></tr>\n",
    "<tr><td>+ -</td><td>Addition and subtraction</td></tr>\n",
    "<tr><td>&gt;&gt; &lt;&lt;</td><td>Right and left bitwise shift</td></tr>\n",
    "<tr><td>&amp;</td><td>Bitwise 'AND'<td></tr>\n",
    "<tr><td>^ |</td><td>Bitwise exclusive 'OR' and regular 'OR'</td></tr>\n",
    "<tr><td>&lt;= &lt; &gt; &gt;=</td><td>Comparison operators</td></tr>\n",
    "<tr><td>&lt;&gt; == !=</td><td>Equality operators</td></tr>\n",
    "<tr><td>= %= /= //= -= += *= **=</td><td>Assignment operators</td></tr>\n",
    "<tr><td>is is not</td><td>Identity operators</td></tr>\n",
    "<tr><td>in not in</td><td>Membership operators</td></tr>\n",
    "<tr><td>not or and</td><td>Logical operators</td></tr>\n",
    "</table>"
   ]
  },
  {
   "cell_type": "markdown",
   "metadata": {},
   "source": [
    "<h3> Python Strings </h3>\n",
    "\n",
    "The Python string class is used to store contiguous sets of data within quotation marks.  In Python both single quotes and double quotes are available for use. The triple quote is used for multiline strings.  For example:\n",
    "\n",
    "<table align='left'>\n",
    "<tr>\n",
    "<td>\n",
    "<p style = 'font-family:courier'>\n",
    "s1 = 'Hello World' # Single quoted string<br>\n",
    "s2 = \"Goodbye World\" # Double quoted string<br>\n",
    "# Multiline string <br>\n",
    "s3 = ''' This is a<br>\n",
    "      &nbsp;&nbsp;&nbsp;&nbsp;&nbsp;&nbsp;&nbsp;&nbsp;   multiline string<br>\n",
    "      &nbsp;&nbsp;&nbsp;&nbsp;&nbsp;'''\n",
    "</p>\n",
    "</td>\n",
    "</tr>\n",
    "</table>\n",
    "<br><br><br><br><br><br><br><br><br>\n",
    "We can access individual elements of a string by using the [] operator. The [] operator uses the following parameters:<br>\n",
    "[*starting position*:*ending position -1*:*step*]. The string returned by the [] operator is called a *slice*.  The operation to do this is called *slicing*. It is possible for any or all of the parameters to be negative numbers.  For the start and end position that means Python counts backward from the end of the string.  \n",
    "\n",
    "Let's take a look at some examples:\n",
    "<table align='left'>\n",
    "<tr>\n",
    "<td>\n",
    "<p style = 'font-family:courier'>\n",
    "# The source string to use for our slicing examples.<br>\n",
    "datastring = \"Hello World\"<br>\n",
    "\n",
    "# Get the substring starting at position 2 and ending at position 6.<br> \n",
    "print (datastring[2:7])<br>\n",
    "# Get the substring that contains every second element of the source string<br>\n",
    "print (datastring[::2])<br>\n",
    "# Print the string in reverse order. <br> \n",
    "print (datastring[::-1])<br>\n",
    "# Get the substring that contains a string with eight characters starting from the end of the string <br>\n",
    "print (datastring[-9::]) <br>\n",
    "# Get the substring that starts nine positions from the end and finishes three positions from the end. <br> \n",
    "print (datastring[-9:-3]) <br>\n",
    "# We can put in a function rather than a literal value as well into a slice. Here we pass in the built-in<br> \n",
    "# function len which calculates and returns the length of the datastring.<br>\n",
    "print (datastring[:len(datastring)])<br>\n",
    "</p>\n",
    "</td>\n",
    "</tr>\n",
    "</table>"
   ]
  },
  {
   "cell_type": "code",
   "execution_count": 17,
   "metadata": {
    "collapsed": false
   },
   "outputs": [
    {
     "name": "stdout",
     "output_type": "stream",
     "text": [
      "dlroW olleH\n"
     ]
    }
   ],
   "source": [
    "datastring = 'Hello World'\n",
    "print (datastring[::-1])"
   ]
  },
  {
   "cell_type": "code",
   "execution_count": 19,
   "metadata": {
    "collapsed": false
   },
   "outputs": [
    {
     "name": "stdout",
     "output_type": "stream",
     "text": [
      "Goodbye World\n"
     ]
    }
   ],
   "source": [
    "datastring = 'Hello World'\n",
    "datastring = 'Goodbye World'\n",
    "print (datastring)"
   ]
  },
  {
   "cell_type": "code",
   "execution_count": 21,
   "metadata": {
    "collapsed": false
   },
   "outputs": [
    {
     "data": {
      "text/plain": [
       "['__add__',\n",
       " '__class__',\n",
       " '__contains__',\n",
       " '__delattr__',\n",
       " '__dir__',\n",
       " '__doc__',\n",
       " '__eq__',\n",
       " '__format__',\n",
       " '__ge__',\n",
       " '__getattribute__',\n",
       " '__getitem__',\n",
       " '__getnewargs__',\n",
       " '__gt__',\n",
       " '__hash__',\n",
       " '__init__',\n",
       " '__iter__',\n",
       " '__le__',\n",
       " '__len__',\n",
       " '__lt__',\n",
       " '__mod__',\n",
       " '__mul__',\n",
       " '__ne__',\n",
       " '__new__',\n",
       " '__reduce__',\n",
       " '__reduce_ex__',\n",
       " '__repr__',\n",
       " '__rmod__',\n",
       " '__rmul__',\n",
       " '__setattr__',\n",
       " '__sizeof__',\n",
       " '__str__',\n",
       " '__subclasshook__',\n",
       " 'capitalize',\n",
       " 'casefold',\n",
       " 'center',\n",
       " 'count',\n",
       " 'encode',\n",
       " 'endswith',\n",
       " 'expandtabs',\n",
       " 'find',\n",
       " 'format',\n",
       " 'format_map',\n",
       " 'index',\n",
       " 'isalnum',\n",
       " 'isalpha',\n",
       " 'isdecimal',\n",
       " 'isdigit',\n",
       " 'isidentifier',\n",
       " 'islower',\n",
       " 'isnumeric',\n",
       " 'isprintable',\n",
       " 'isspace',\n",
       " 'istitle',\n",
       " 'isupper',\n",
       " 'join',\n",
       " 'ljust',\n",
       " 'lower',\n",
       " 'lstrip',\n",
       " 'maketrans',\n",
       " 'partition',\n",
       " 'replace',\n",
       " 'rfind',\n",
       " 'rindex',\n",
       " 'rjust',\n",
       " 'rpartition',\n",
       " 'rsplit',\n",
       " 'rstrip',\n",
       " 'split',\n",
       " 'splitlines',\n",
       " 'startswith',\n",
       " 'strip',\n",
       " 'swapcase',\n",
       " 'title',\n",
       " 'translate',\n",
       " 'upper',\n",
       " 'zfill']"
      ]
     },
     "execution_count": 21,
     "metadata": {},
     "output_type": "execute_result"
    }
   ],
   "source": [
    "datastring ='Hello World'\n",
    "dir (datastring)"
   ]
  },
  {
   "cell_type": "code",
   "execution_count": 23,
   "metadata": {
    "collapsed": false
   },
   "outputs": [
    {
     "name": "stdout",
     "output_type": "stream",
     "text": [
      "hello world\n"
     ]
    }
   ],
   "source": [
    "datastring ='Hello World'\n",
    "print (datastring.lower())"
   ]
  },
  {
   "cell_type": "code",
   "execution_count": 12,
   "metadata": {
    "collapsed": false
   },
   "outputs": [
    {
     "name": "stdout",
     "output_type": "stream",
     "text": [
      "Hello World\n",
      "Goodbye World\n",
      "Good\n",
      "dlroW eybdooG\n"
     ]
    }
   ],
   "source": [
    "s1 = 'Hello World'\n",
    "print (s1)\n",
    "s1 = 'Goodbye World'\n",
    "print (s1)\n",
    "print (s1[0:4])\n",
    "print (s1[::-1])"
   ]
  },
  {
   "cell_type": "code",
   "execution_count": 20,
   "metadata": {
    "collapsed": false
   },
   "outputs": [
    {
     "name": "stdout",
     "output_type": "stream",
     "text": [
      "llo W\n",
      "HloWrd\n",
      "dlroW olleH\n",
      "llo World\n",
      "llo Wo\n",
      "Hello World\n"
     ]
    }
   ],
   "source": [
    "# The source string to use for our slicing examples.\n",
    "datastring = \"Hello World\"\n",
    "\n",
    "# Get the substring starting at position 2 and ending at position 6. \n",
    "print (datastring[2:7])\n",
    "# Get the substring that contains every second element of the source string\n",
    "print (datastring[::2])\n",
    "# Print the string in reverse order. \n",
    "print (datastring[::-1])\n",
    "# Get the substring that contains a string with eight characters starting from the end of the string\n",
    "print (datastring[-9::])\n",
    "# Get the substring that starts nine positions from the end and finishes three positions from the end. \n",
    "print (datastring[-9:-3])\n",
    "# We can put in a function rather than a literal value as well into a slice. Here we pass in the built-in \n",
    "# function len which calculates and returns the length of the datastring.\n",
    "print (datastring[:len(datastring)])"
   ]
  },
  {
   "cell_type": "markdown",
   "metadata": {},
   "source": [
    "Python strings are immutable.  That is to say, it is not possible to change the value of the string once it has been bound to the variable name.  Therefore, while it is possible to point the name at a new string, you cannot change the current value in the string object.  Attempting to do so will result in an error. \n",
    "\n",
    "<table align='left'>\n",
    "<tr>\n",
    "<td>\n",
    "<p style = 'font-family:courier'>\n",
    "datastring = \"Hello World\"<br>\n",
    "datastring[1] = 'a' # Trying to change Hello World to Hallo World. <br> \n",
    "---------------------------------------------------------------------------<br>\n",
    "TypeError                                 Traceback (most recent call last)<br>\n",
    "&lt;ipython-input-21-d058df777aad&gt; in &lt;module&gt;()<br>\n",
    "&nbsp;&nbsp;&nbsp;&nbsp;&nbsp;      1 datastring = \"Hello World\"<br>\n",
    "----> 2 datastring[1] = 'a' # Trying to change Hello World to Hallo World.  <br>\n",
    "<br>\n",
    "TypeError: 'str' object does not support item assignment<br>\n",
    "</p>\n",
    "</td>\n",
    "</tr>\n",
    "</table>"
   ]
  },
  {
   "cell_type": "code",
   "execution_count": 21,
   "metadata": {
    "collapsed": false
   },
   "outputs": [
    {
     "ename": "TypeError",
     "evalue": "'str' object does not support item assignment",
     "output_type": "error",
     "traceback": [
      "\u001b[0;31m---------------------------------------------------------------------------\u001b[0m",
      "\u001b[0;31mTypeError\u001b[0m                                 Traceback (most recent call last)",
      "\u001b[0;32m<ipython-input-21-d058df777aad>\u001b[0m in \u001b[0;36m<module>\u001b[0;34m()\u001b[0m\n\u001b[1;32m      1\u001b[0m \u001b[0mdatastring\u001b[0m \u001b[0;34m=\u001b[0m \u001b[0;34m\"Hello World\"\u001b[0m\u001b[0;34m\u001b[0m\u001b[0m\n\u001b[0;32m----> 2\u001b[0;31m \u001b[0mdatastring\u001b[0m\u001b[0;34m[\u001b[0m\u001b[0;36m1\u001b[0m\u001b[0;34m]\u001b[0m \u001b[0;34m=\u001b[0m \u001b[0;34m'a'\u001b[0m \u001b[0;31m# Trying to change Hello World to Hallo World.\u001b[0m\u001b[0;34m\u001b[0m\u001b[0m\n\u001b[0m",
      "\u001b[0;31mTypeError\u001b[0m: 'str' object does not support item assignment"
     ]
    }
   ],
   "source": [
    "datastring = \"Hello World\"\n",
    "datastring[1] = 'a' # Trying to change Hello World to Hallo World. "
   ]
  },
  {
   "cell_type": "markdown",
   "metadata": {},
   "source": [
    "<h3> Python String Operators </h3><br>\n",
    "Python has two string operators.  The + and the *.  \n",
    "\\+ allows concatenation of two strings.  \\** is the repitition operator.  For example:\n",
    "\n",
    "<table align='left'>\n",
    "<tr>\n",
    "<td>\n",
    "<p style = 'font-family:courier'>\n",
    "string1 = \"Hello\"<br>\n",
    "string2 = 'World'<br>\n",
    "# Here we concatenate the value in string1, a white space and the value in string2<br>\n",
    "string3 = string1 + ' ' + string2<br>\n",
    "print (string3)<br>\n",
    "<br>\n",
    "# Here we set the value of string 1 to Hello three times.<br>\n",
    "string1 = 'Hello' * 3 <br>\n",
    "print (string1)<br>\n",
    "</p>\n",
    "</td>\n",
    "</tr>\n",
    "</table>"
   ]
  },
  {
   "cell_type": "code",
   "execution_count": 24,
   "metadata": {
    "collapsed": false
   },
   "outputs": [
    {
     "name": "stdout",
     "output_type": "stream",
     "text": [
      "Hello World\n",
      "HelloHelloHello\n"
     ]
    }
   ],
   "source": [
    "string1 = \"Hello\"\n",
    "string2 = 'World'\n",
    "# Here we concatenate the value in string1, a white space and the value in string2\n",
    "string3 = string1 + ' ' + string2\n",
    "print (string3)\n",
    "\n",
    "# Here we set the value of string 1 to Hello three times.\n",
    "string1 = 'Hello' * 3 \n",
    "print (string1)"
   ]
  },
  {
   "cell_type": "code",
   "execution_count": 13,
   "metadata": {
    "collapsed": false
   },
   "outputs": [
    {
     "name": "stdout",
     "output_type": "stream",
     "text": [
      "Please enter a value 5\n",
      "5\n"
     ]
    }
   ],
   "source": [
    "myvar = input('Please enter a value ')\n",
    "print (myvar)"
   ]
  },
  {
   "cell_type": "markdown",
   "metadata": {},
   "source": [
    "<h3> Data Type Conversions </h3><br>\n",
    "In Python it is possible to convert from one object type to another.  Python provides built-in methods to do so. \n",
    "This table lists the possible conversion functions. \n",
    "<table align='left'>\n",
    "<tr><th>Function</th><th>Description</th></tr>\n",
    "<tr valign=\"top\"><td ><p>int(x [,base])</p></td><td ><p>Converts x to an integer. base specifies the base if x istring.</p></td></tr>\n",
    "<tr valign=\"top\"><td><p>long(x [,base] )</p></td><td ><p>Converts x to a long integer. base specifies the base if x is a string.</p></td></tr>\n",
    "<tr valign=\"top\"><td ><p>float(x)</p></td><td ><p>Converts x to a floating-point number.</p></td></tr>\n",
    "<tr valign=\"top\"><td ><p>complex(real [,imag])</p></td><td >\n",
    "<p>Creates a complex number.</p></td></tr>\n",
    "<tr valign=\"top\"><td ><p>str(x)</p></td><td ><p>Converts object x to a string representation.</p></td></tr>\n",
    "<tr valign=\"top\"><td ><p>repr(x)</p></td><td ><p>Converts object x to an expression string.</p></td></tr>\n",
    "<tr valign=\"top\"><td ><p>eval(str)</p></td><td ><p>Evaluates a string and returns an object.</p></td></tr>\n",
    "<tr valign=\"top\"><td ><p>tuple(s)</p></td><td ><p>Converts s to a tuple.</p></td></tr>\n",
    "<tr valign=\"top\"><td ><p>list(s)</p></td><td ><p>Converts s to a list.</p></td></tr>\n",
    "<tr valign=\"top\"><td ><p>set(s)</p></td><td ><p>Converts s to a set.</p></td></tr>\n",
    "<tr valign=\"top\"><td ><p>dict(d)</p></td><td ><p>Creates a dictionary. d must be a sequence of (key,value) tuples</p></td></tr>\n",
    "<tr valign=\"top\"><td ><p>frozenset(s)</p></td><td ><p>Converts s to a frozen set.</p></td></tr>\n",
    "<tr valign=\"top\"><td ><p>chr(x)</p></td><td ><p>Converts an integer to a character.</p></td></tr>\n",
    "<tr valign=\"top\"><td ><p>unichr(x)</p></td><td ><p>Converts an integer to a Unicode character.</p></td></tr>\n",
    "<tr valign=\"top\"><td ><p>ord(x)</p></td><td ><p>Converts a single character to its integer value.</p></td></tr>\n",
    "<tr valign=\"top\"><td ><p>hex(x)</p></td><td >\n",
    "<p>Converts an integer to a hexadecimal string.</p></td></tr>\n",
    "<tr valign=\"top\"><td ><p>oct(x)</p></td><td ><p>Converts an integer to an octal string.</p></td></tr>\n",
    "</table>\n",
    "<br><br><br><br><br><br><br><br><br><br><br><br><br><br><br><br><br><br><br><br>\n",
    "<br><br><br><br><br><br><br><br>\n",
    "A common conversion is from string to a numeric type.  This is because, in Python, all data coming in from an I/O operation is of type 'string'.  If you want to do numeric or other types of operations on data retrieved from an I/O operation, you must convert it to the appropriate type.  For example:\n",
    "\n",
    "<table align='left'>\n",
    "<tr>\n",
    "<td>\n",
    "<p style = 'font-family:courier'>\n",
    "a = '18'<br>\n",
    "b = '6'<br>\n",
    "\\# This next operation will cause an error. <br>\n",
    "try:<br>\n",
    "&nbsp;&nbsp;&nbsp;&nbsp;c = a / b<br>\n",
    "except TypeError:<br>\n",
    "&nbsp;&nbsp;&nbsp;&nbsp;print (\"This is an invalid statement.  a and b are not numeric\")<br>\n",
    "\\# In order for us to do division with a and b, we must convert them to numeric types.<br> \n",
    "c = int (a)/int (b)<br>\n",
    "print (c)<br>\n",
    "</p>\n",
    "</td>\n",
    "</tr>\n",
    "</table>\n",
    "\n"
   ]
  },
  {
   "cell_type": "code",
   "execution_count": 28,
   "metadata": {
    "collapsed": false
   },
   "outputs": [
    {
     "name": "stdout",
     "output_type": "stream",
     "text": [
      "This is an invalid statement.  a and b are not numeric\n",
      "3.0\n"
     ]
    }
   ],
   "source": [
    "a = '18'\n",
    "b = '6'\n",
    "# This next operation will cause an error.\n",
    "try:\n",
    "    c = a / b\n",
    "except TypeError:\n",
    "    print (\"This is an invalid statement.  a and b are not numeric\")\n",
    "# In order for us to do division with a and b, we must convert them to numeric types. \n",
    "c = int (a)/int (b)\n",
    "print (c)\n",
    "\n",
    "\n"
   ]
  },
  {
   "cell_type": "markdown",
   "metadata": {},
   "source": [
    "<h3>String methods</h3>\n",
    "\n",
    "String objects in Python also contain many built-in methods.  These methods can be accessed via the '.' operator.\n",
    "For example\n",
    "<table>\n",
    "<tr>\n",
    "<td>\n",
    "<p style='font-family:courier'>\n",
    "mystring = 'Hello World'<br>\n",
    "# Let's reset mystring's value to HELLO WORLD<br>\n",
    "mystring = mystring.upper()<br>\n",
    "print (mystring)<br>\n",
    "</p>\n",
    "</td>\n",
    "</tr>\n",
    "</table>\n",
    "\n",
    "Here we are able to use the *upper()* method, which is part of the Python string class.  An easy way to find out what methods are available for a class is to use the built-in function *dir()*. For example:\n",
    "<table>\n",
    "<tr>\n",
    "<td>\n",
    "<p style='font-family:courier'>\n",
    "mystring = 'Hello World'<br>\n",
    "dir(mystring)\n",
    "</p>\n",
    "</td>\n",
    "</tr>\n",
    "</table>\n",
    "<br>\n",
    "\n",
    "Python will print out a list of all the methods associated with the string class."
   ]
  },
  {
   "cell_type": "code",
   "execution_count": 29,
   "metadata": {
    "collapsed": false
   },
   "outputs": [
    {
     "name": "stdout",
     "output_type": "stream",
     "text": [
      "HELLO WORLD\n"
     ]
    }
   ],
   "source": [
    "mystring = 'Hello World'\n",
    "# Let's reset mystring's value to HELLO WORLD\n",
    "mystring = mystring.upper()\n",
    "print (mystring)"
   ]
  },
  {
   "cell_type": "code",
   "execution_count": 14,
   "metadata": {
    "collapsed": false
   },
   "outputs": [
    {
     "data": {
      "text/plain": [
       "['__add__',\n",
       " '__class__',\n",
       " '__contains__',\n",
       " '__delattr__',\n",
       " '__dir__',\n",
       " '__doc__',\n",
       " '__eq__',\n",
       " '__format__',\n",
       " '__ge__',\n",
       " '__getattribute__',\n",
       " '__getitem__',\n",
       " '__getnewargs__',\n",
       " '__gt__',\n",
       " '__hash__',\n",
       " '__init__',\n",
       " '__iter__',\n",
       " '__le__',\n",
       " '__len__',\n",
       " '__lt__',\n",
       " '__mod__',\n",
       " '__mul__',\n",
       " '__ne__',\n",
       " '__new__',\n",
       " '__reduce__',\n",
       " '__reduce_ex__',\n",
       " '__repr__',\n",
       " '__rmod__',\n",
       " '__rmul__',\n",
       " '__setattr__',\n",
       " '__sizeof__',\n",
       " '__str__',\n",
       " '__subclasshook__',\n",
       " 'capitalize',\n",
       " 'casefold',\n",
       " 'center',\n",
       " 'count',\n",
       " 'encode',\n",
       " 'endswith',\n",
       " 'expandtabs',\n",
       " 'find',\n",
       " 'format',\n",
       " 'format_map',\n",
       " 'index',\n",
       " 'isalnum',\n",
       " 'isalpha',\n",
       " 'isdecimal',\n",
       " 'isdigit',\n",
       " 'isidentifier',\n",
       " 'islower',\n",
       " 'isnumeric',\n",
       " 'isprintable',\n",
       " 'isspace',\n",
       " 'istitle',\n",
       " 'isupper',\n",
       " 'join',\n",
       " 'ljust',\n",
       " 'lower',\n",
       " 'lstrip',\n",
       " 'maketrans',\n",
       " 'partition',\n",
       " 'replace',\n",
       " 'rfind',\n",
       " 'rindex',\n",
       " 'rjust',\n",
       " 'rpartition',\n",
       " 'rsplit',\n",
       " 'rstrip',\n",
       " 'split',\n",
       " 'splitlines',\n",
       " 'startswith',\n",
       " 'strip',\n",
       " 'swapcase',\n",
       " 'title',\n",
       " 'translate',\n",
       " 'upper',\n",
       " 'zfill']"
      ]
     },
     "execution_count": 14,
     "metadata": {},
     "output_type": "execute_result"
    }
   ],
   "source": [
    "mystring = 'Hello'\n",
    "dir(mystring)"
   ]
  },
  {
   "cell_type": "markdown",
   "metadata": {},
   "source": [
    "### Quick Exercise:\n",
    "1.  Declare a string variable called *mystring*. Set its value to 'This is an ex-parrot!'\n",
    "2.  Print out the string value completely in lower case. \n",
    "3.  Print out the number of characters in this string."
   ]
  },
  {
   "cell_type": "code",
   "execution_count": 24,
   "metadata": {
    "collapsed": false
   },
   "outputs": [
    {
     "name": "stdout",
     "output_type": "stream",
     "text": [
      "this is an ex-parrot\n",
      "20\n"
     ]
    }
   ],
   "source": [
    "mystring = 'This is an ex-parrot'\n",
    "print (mystring.lower())\n",
    "print (len(mystring))\n"
   ]
  },
  {
   "cell_type": "code",
   "execution_count": 22,
   "metadata": {
    "collapsed": false
   },
   "outputs": [],
   "source": [
    "mylist = [1,2,3,4.5,'foo','bar','baz']\n"
   ]
  },
  {
   "cell_type": "markdown",
   "metadata": {},
   "source": [
    "<h3> Addendum: The string split() method</h3>\n",
    "<p>\n",
    "One of the most commonly used string methods is the *split()* method.  This allows us to split a string into a list or a tuple via a delimiter which is supplied as an argument to the method. \n",
    "For example, if we have a string that looks like this:\n",
    "'John Smith, Catcher, New York Yankees' we can use the split method to take each individual piece of information, the player's name, position and team and store them as individual elements in a list or a tuple.  Note that each individual piece of information is separated, in this case, by a comma. \n",
    "<p>\n",
    "Let's use the split method to separate the individual elements:\n",
    "\n",
    "<table align='left'>\n",
    "<tr>\n",
    "<td>\n",
    "<p style = 'font-family:courier'>\n",
    "# Let's define our string data.<br>\n",
    "playerstring = 'John Smith,Catcher,New York Yankees'<br>\n",
    "# Now let's create a player tuple that contains as its elements:<br>\n",
    "# element 0 - The player's name<br>\n",
    "# element 1 - The player's position<br>\n",
    "# element 2 - The player's team.<br>\n",
    "player = playerstring.split(',')<br>\n",
    "<br>\n",
    "for element in player:<br>\n",
    "&nbsp;&nbsp;&nbsp;&nbsp;print (element)\n",
    "</p>\n",
    "</td>\n",
    "</tr>\n",
    "</table>\n"
   ]
  },
  {
   "cell_type": "markdown",
   "metadata": {},
   "source": [
    "## Exercise 1. \n",
    "### Part 1. \n",
    "1. Use the split method to divide the following IPv6 address into\n",
    "groups of 4 hex digits (i.e. split on the \":\")\n",
    "FE80:0000:0000:0000:0101:A3EF:EE1E:1719\n",
    "2. Use the join method to reunite your split IPv6 address back to\n",
    "its original value."
   ]
  },
  {
   "cell_type": "markdown",
   "metadata": {},
   "source": [
    "IPv6_addr = 'FE80:0000:0000:0000:0101:A3EF:EE1E:1719'"
   ]
  },
  {
   "cell_type": "markdown",
   "metadata": {},
   "source": [
    "## Part 2.\n",
    "You are given a string from a Cisco IOS 'show version' command. \n",
    "\n",
    "cisco_ios = \"Cisco IOS Software, C880 Software (C880DATA-UNIVERSALK9-M), Version 15.0(1)M4, RELEASE SOFTWARE (fc1)\"\n",
    " \n",
    "Note, the string is a single line; there is no newline in the string.\n",
    " \n",
    "How would you process this string to retrieve only the IOS version:\n",
    " \n",
    "   ios_version = \"15.0(1)M4\"\n",
    " \n",
    " \n",
    "Try to make it generic (i.e. assume that the IOS version can change). \n",
    " \n",
    "You can assume that the commas divide this string into four sections and that the string will always have 'Cisco IOS Software', 'Version', and 'RELEASE SOFTWARE' in it."
   ]
  },
  {
   "cell_type": "markdown",
   "metadata": {},
   "source": [
    "### Part 3. \n",
    "Create an IP address converter (dotted decimal to binary):\n",
    "\n",
    "    A. Prompt a user for an IP address in dotted decimal format.\n",
    "    \n",
    "    B. Convert this IP address to binary and display the binary result on the\n",
    "       screen (a binary string for each octet).\n",
    "       Note:  Look up the bin() built-in function in the Python documentation. \n",
    "\n",
    "    Example output:\n",
    "    \n",
    "    first_octet    second_octet     third_octet    fourth_octet\n",
    "    0b1010       0b1011000          0b1010         0b10011\n"
   ]
  },
  {
   "cell_type": "markdown",
   "metadata": {},
   "source": [
    "### Part 4.\n",
    "\n",
    "You have the following four lines from 'show ip bgp':\n",
    "\n",
    "entry1 = \"*  1.0.192.0/18   157.130.10.233        0 701 38040 9737 i\"\n",
    "\n",
    "entry2 = \"*  1.1.1.0/24      157.130.10.233         0 701 1299 15169 i\"\n",
    "\n",
    "entry3 = \"*  1.1.42.0/24     157.130.10.233        0 701 9505 17408 2.1465 i\"\n",
    "\n",
    "entry4 = \"*  1.0.192.0/19   157.130.10.233        0 701 6762 6762 6762 6762 38040 9737 i\"\n",
    "\n",
    "Note, in each case the AS_PATH starts with '701'.\n",
    "\n",
    "Using split() and a list slice, how could you process each of these such that--\n",
    "\n",
    "for each entry, you return an ip_prefix and the AS_PATH (the ip_prefix should be\n",
    "\n",
    "a string; the AS_PATH should be a list):\n",
    "\n",
    "Your output should look like this:\n",
    "ip_prefix           as_path\n",
    "\n",
    "1.0.192.0/18        ['701', '38040', '9737']\n",
    "\n",
    "1.1.1.0/24          ['701', '1299', '15169']\n",
    "\n",
    "1.1.42.0/24         ['701', '9505', '17408', '2.1465']\n",
    "\n",
    "1.0.192.0/19        ['701', '6762', '6762', '6762', '6762', '38040', '9737']\n",
    "\n",
    "Ideally, your logic should be the same for each entry \n",
    "\n",
    "If you can't figure this out using a list slice, you could also solve this using\n",
    "pop().\n",
    "\n"
   ]
  },
  {
   "cell_type": "code",
   "execution_count": null,
   "metadata": {
    "collapsed": true
   },
   "outputs": [],
   "source": []
  },
  {
   "cell_type": "code",
   "execution_count": null,
   "metadata": {
    "collapsed": true
   },
   "outputs": [],
   "source": []
  },
  {
   "cell_type": "code",
   "execution_count": null,
   "metadata": {
    "collapsed": true
   },
   "outputs": [],
   "source": []
  },
  {
   "cell_type": "markdown",
   "metadata": {},
   "source": [
    "# The solutions are below"
   ]
  },
  {
   "cell_type": "markdown",
   "metadata": {},
   "source": [
    "<img src='graphics/mario.jpg'> </img>"
   ]
  },
  {
   "cell_type": "markdown",
   "metadata": {},
   "source": [
    "### Solution to Part 1."
   ]
  },
  {
   "cell_type": "code",
   "execution_count": 1,
   "metadata": {
    "collapsed": false
   },
   "outputs": [
    {
     "name": "stdout",
     "output_type": "stream",
     "text": [
      "\n",
      "IPv6 address split:\n",
      "['FE80', '0000', '0000', '0000', '0101', 'A3EF', 'EE1E', '1719']\n",
      "\n",
      "IPv6 address re-joined:\n",
      "FE80:0000:0000:0000:0101:A3EF:EE1E:1719\n",
      "\n"
     ]
    }
   ],
   "source": [
    "ipv6_addr = 'FE80:0000:0000:0000:0101:A3EF:EE1E:1719'\n",
    "\n",
    "ipv6_sections = ipv6_addr.split(\":\")\n",
    "\n",
    "print ()\n",
    "print (\"IPv6 address split:\")\n",
    "print (ipv6_sections)\n",
    "print ()\n",
    "\n",
    "ipv6_new = \":\".join(ipv6_sections)\n",
    "\n",
    "print (\"IPv6 address re-joined:\" )\n",
    "print (ipv6_new)\n",
    "print()"
   ]
  },
  {
   "cell_type": "markdown",
   "metadata": {},
   "source": [
    "### Solution to Part 2."
   ]
  },
  {
   "cell_type": "code",
   "execution_count": 6,
   "metadata": {
    "collapsed": false
   },
   "outputs": [
    {
     "name": "stdout",
     "output_type": "stream",
     "text": [
      "Version 15.0(1)M4\n"
     ]
    }
   ],
   "source": [
    "cisco_ios = \"Cisco IOS Software, C880 Software (C880DATA-UNIVERSALK9-M), Version 15.0(1)M4, RELEASE SOFTWARE (fc1)\"\n",
    "output_split = cisco_ios.split(',')\n",
    "\n",
    "version = output_split[2].strip()\n",
    "print (version)"
   ]
  },
  {
   "cell_type": "markdown",
   "metadata": {},
   "source": [
    "### Solution to Part 3."
   ]
  },
  {
   "cell_type": "code",
   "execution_count": 9,
   "metadata": {
    "collapsed": false
   },
   "outputs": [
    {
     "name": "stdout",
     "output_type": "stream",
     "text": [
      "\n",
      "\n",
      "Enter an IP address: 192.168.100.1\n",
      "\n",
      "\n",
      "    first_octet    second_octet     third_octet    fourth_octet\n",
      "     0b11000000      0b10101000       0b1100100             0b1\n",
      "\n"
     ]
    }
   ],
   "source": [
    "'''\n",
    "   Create an IP address converter (dotted decimal to binary):\n",
    "    A. Prompt a user for an IP address in dotted decimal format.\n",
    "    B. Convert this IP address to binary and display the binary result on the\n",
    "   screen (a binary string for each octet).\n",
    "    Example output:\n",
    "    first_octet    second_octet     third_octet    fourth_octet\n",
    "         0b1010       0b1011000          0b1010         0b10011\n",
    "'''\n",
    "\n",
    "network = input(\"\\n\\nEnter an IP address: \")\n",
    "\n",
    "octets = network.split(\".\")\n",
    "\n",
    "first_octet_bin = bin(int(octets[0]))\n",
    "second_octet_bin = bin(int(octets[1]))\n",
    "third_octet_bin = bin(int(octets[2]))\n",
    "fourth_octet_bin = bin(int(octets[3]))\n",
    "\n",
    "print( \"\\n\\n%15s %15s %15s %15s\" % (\"first_octet\", \"second_octet\", \"third_octet\", \"fourth_octet\"))\n",
    "print (\"%15s %15s %15s %15s\\n\" % (first_octet_bin, second_octet_bin,\n",
    "                                 third_octet_bin, fourth_octet_bin))"
   ]
  },
  {
   "cell_type": "code",
   "execution_count": 12,
   "metadata": {
    "collapsed": false
   },
   "outputs": [
    {
     "name": "stdout",
     "output_type": "stream",
     "text": [
      "\n",
      "ip_prefix            as_path                                           \n",
      "1.0.192.0/18         ['701', '38040', '9737']                          \n",
      "1.1.1.0/24           ['701', '1299', '15169']                          \n",
      "1.1.42.0/24          ['701', '9505', '17408', '2.1465']                \n",
      "1.0.192.0/19         ['701', '6762', '6762', '6762', '6762', '38040', '9737']\n",
      "\n",
      "\n"
     ]
    }
   ],
   "source": [
    "entry1 = \"*  1.0.192.0/18   157.130.10.233        0 701 38040 9737 i\"\n",
    "entry2 = \"*  1.1.1.0/24      157.130.10.233         0 701 1299 15169 i\"\n",
    "entry3 = \"*  1.1.42.0/24     157.130.10.233        0 701 9505 17408 2.1465 i\"\n",
    "entry4 = \"*  1.0.192.0/19   157.130.10.233        0 701 6762 6762 6762 6762 38040 9737 i\"\n",
    "\n",
    "print (\"\\n%-20s %-50s\" % (\"ip_prefix\", \"as_path\"))\n",
    "\n",
    "# really want to use a for loop here :-)\n",
    "entry_split = entry1.split()\n",
    "ip_prefix = entry_split[1]\n",
    "as_path = entry_split[4:-1]\n",
    "print (\"%-20s %-50s\" % (ip_prefix, as_path))\n",
    "\n",
    "entry_split = entry2.split()\n",
    "ip_prefix = entry_split[1]\n",
    "as_path = entry_split[4:-1]\n",
    "print (\"%-20s %-50s\" % (ip_prefix, as_path))\n",
    "\n",
    "entry_split = entry3.split()\n",
    "ip_prefix = entry_split[1]\n",
    "as_path = entry_split[4:-1]\n",
    "print (\"%-20s %-50s\" % (ip_prefix, as_path))\n",
    "\n",
    "entry_split = entry4.split()\n",
    "ip_prefix = entry_split[1]\n",
    "as_path = entry_split[4:-1]\n",
    "print (\"%-20s %-50s\" % (ip_prefix, as_path))\n",
    "\n",
    "print (\"\\n\")"
   ]
  },
  {
   "cell_type": "markdown",
   "metadata": {},
   "source": [
    "<h2>Control Flow in Python</h2>\n",
    "<br>\n",
    "<p>\n",
    "The concept of flow of control comes when the program you're writing needs to make a decision about what to do.  Generally this decision is made when evaluating an expression of some sort.  For example, if you want the program to do one thing if the value in a variable is 5 and another thing if the value of the same variable is 6, then you need to tell the program how to handle this.  Python uses the if statement to allow us to evaluate expressions to see if they are true or false. \n",
    "<br>\n",
    "The structure of an if statement is as follows:\n",
    "\n",
    "<table width = '400px', align='left'>\n",
    "<tr>\n",
    "<td>\n",
    "<p style='font-family:courier'>\n",
    "if &lt;expr&gt;:<br>\n",
    "&nbsp;&nbsp;&nbsp;&nbsp;perform some statements<br>\n",
    "elif &lt;expr&gt;:<br>\n",
    "&nbsp;&nbsp;&nbsp;&nbsp;perform some other statements<br>\n",
    "elif &lt;expr&gt;:<br>\n",
    "&nbsp;&nbsp;&nbsp;&nbsp;perform more statements<br>\n",
    ".<br>\n",
    ".<br>\n",
    ".<br>\n",
    "elif &lt;expr&gt;:<br>\n",
    "&nbsp;&nbsp;&nbsp;&nbsp;    perform more statements<br>\n",
    "else:<br>\n",
    "&nbsp;&nbsp;&nbsp;&nbsp;    perform statements<br>\n",
    "</p>\n",
    "</td></tr></table>\n",
    "<br><br><br><br><br><br><br><br><br><br><br><br><br><br><br><br>\n",
    "The expression in an if statement will evaluate to either True or False.  If the expression is true, the statements in the block after the if statement will be executed.  Python also has a elif which means *else if*.  Python allows a more or less unlimited amounts of elif statements after the first if statement. Finally, Python has an *else* clause, which means that if none of the expressions in the if or the one or more elif's are true, Python will execute the code in the else block. \n",
    "<br>Let's see some examples.<br>\n",
    " \n",
    "\n",
    "<table align='left'>\n",
    "<tr>\n",
    "<td>\n",
    "<p style='font-family:courier'>\n",
    "# Let's assign some values to some variables to use with our if's<br>\n",
    "<br>\n",
    "x = 10<br>\n",
    "s = 'Hello World'<br>\n",
    "y = 20<br>\n",
    "<br>\n",
    "# Now let's do some tests.<br>\n",
    "<br>\n",
    "if x == 10:<br>\n",
    "&nbsp;&nbsp;&nbsp;&nbsp;print (\"x is 10\") # Only runs if the x == 10 expression evaluates to True.<br>\n",
    "else:<br>\n",
    "&nbsp;&nbsp;&nbsp;&nbsp;print (\"x is not 10\")  # Only runs if the x == 10 expression evaluates to False.<br>\n",
    "<br>\n",
    "if 'Hello' in s:<br>\n",
    "&nbsp;&nbsp;&nbsp;&nbsp;print ('We found the string \\\"Hello\\\" in our variable')<br>\n",
    "<br>\n",
    "if x == 10 and y == 20:<br>\n",
    "&nbsp;&nbsp;&nbsp;&nbsp;print (\"Both expressions are True!\")<br>\n",
    "<br>\n",
    "if 'Hello' not in s:<br>\n",
    "&nbsp;&nbsp;&nbsp;&nbsp;print ('Hello is not in s')<br>\n",
    "elif 'World' in s:<br>\n",
    "&nbsp;&nbsp;&nbsp;&nbsp;print (\"World is in s!\")<br>\n",
    "else:<br>\n",
    "&nbsp;&nbsp;&nbsp;&nbsp;print (\"Hello is in s but World is not in s\")\n",
    "</p>\n",
    "</td>\n",
    "</tr>\n",
    "</table>\n",
    "<br><br><br><br><br><br><br><br><br><br><br><br><br><br><br><br><br>\n",
    "<br><br><br><br><br><br><br><br><br><br>\n",
    "Python has an alternative form of the if statement called a *ternary* expression.  It looks like this:\n",
    "a if &lt;expr&gt; else b\n",
    "\n",
    "This is really just a shortcut for the longer version:<br>\n",
    "<table width='150px', align='left'>\n",
    "<tr>\n",
    "<td>\n",
    "<p style='font-family:courier'>\n",
    "if &lt;expr&gt;:<br>\n",
    "&nbsp;&nbsp;&nbsp;&nbsp;a<br>\n",
    "else:<br>\n",
    "&nbsp;&nbsp;&nbsp;&nbsp;b<br>\n",
    "</p>\n",
    "</td>\n",
    "</tr>\n",
    "</table>"
   ]
  },
  {
   "cell_type": "code",
   "execution_count": null,
   "metadata": {
    "collapsed": true
   },
   "outputs": [],
   "source": []
  },
  {
   "cell_type": "code",
   "execution_count": 81,
   "metadata": {
    "collapsed": false
   },
   "outputs": [
    {
     "name": "stdout",
     "output_type": "stream",
     "text": [
      "x is 10\n",
      "We found the string \"Hello\" in our variable\n",
      "Both expressions are True!\n",
      "World is in s!\n"
     ]
    }
   ],
   "source": [
    "# Let's assign some values to some variables to use with our if's\n",
    "\n",
    "x = 10\n",
    "s = 'Hello World'\n",
    "y = 20\n",
    "\n",
    "# Now let's do some tests.\n",
    "\n",
    "if x == 10:\n",
    "    print (\"x is 10\") # Only runs if the x == 10 expression evaluates to True.\n",
    "else:\n",
    "    print (\"x is not 10\")  # Only runs if the x == 10 expression evaluates to False.\n",
    "\n",
    "if 'Hello' in s:\n",
    "    print ('We found the string \\\"Hello\\\" in our variable')\n",
    "\n",
    "if x == 10 and y == 20:\n",
    "    print (\"Both expressions are True!\")\n",
    "\n",
    "if 'Hello' not in s:\n",
    "    print ('Hello is not in s')\n",
    "elif 'World' in s:\n",
    "    print (\"World is in s!\")\n",
    "else:\n",
    "    print (\"Hello is in s but World is not in s\")"
   ]
  },
  {
   "cell_type": "markdown",
   "metadata": {},
   "source": [
    "<h2>Performing iteration in Python with loops</h2><br>\n",
    "\n",
    "<p>\n",
    "Program flow of control isn't just about decision making.  There are many times when you as the developer will want to iterate or loop over some sequence of values in order to achieve your results.  Python provides a number of ways to do this.  \n",
    "</p>\n",
    "<p>\n",
    "Our first looping construct is the *for* loop. This is likely the most common style of loop used with the language. The for statement should properly be called *foreach*. The Python version of the for loop is unlike the standard numeric style for loops found in C or Java.  In Python the for loop iterates over an iterable sequence of elements.  This sequence can be a list, a tuple, a string, a dictionary or any other object that defines how to iterate over it. \n",
    "\n",
    "Let's see some examples of iteration in Python. \n",
    "\n",
    "<table align='left'>\n",
    "<tr>\n",
    "<td>\n",
    "<p style='font-family:courier'>\n",
    "# let's create some iterable sequences.<br> \n",
    "mylist = ['a','b','c','d','e']<br>\n",
    "mytuple = (1,2,3,4,5)<br>\n",
    "mydict = {'a':1,'b':2,'c':3,'d':4,'e':5}<br>\n",
    "<br>\n",
    "# Now let's iterate over them.<br> \n",
    "for element in mylist:<br>\n",
    "&nbsp;&nbsp;&nbsp;&nbsp;print (element)\n",
    "<br>    \n",
    "for element in mytuple:<br>\n",
    "&nbsp;&nbsp;&nbsp;&nbsp;print (mytuple)<br>\n",
    "<br>\n",
    "# Dictionaries are a bit different. You really have three possible options here. <br> \n",
    "# 1.  Iterate over the dictionary keys. <br>\n",
    "# 2.  Iterate over the dictionary values.<br>\n",
    "# 3.  Iterate over the key/value pairs. <br>\n",
    "# Let's see how to do that. <br>\n",
    "<br>\n",
    "# The keys method returns a list of the dictionary keys. <br> \n",
    "for key in mydict.keys():<br>\n",
    "&nbsp;&nbsp;&nbsp;&nbsp;print (key)<br>\n",
    "<br>\n",
    "# The values method returns a list of the dictionary values. <br>\n",
    "for value in mydict.values():<br>\n",
    "&nbsp;&nbsp;&nbsp;&nbsp;print (value)<br>\n",
    "<br>\n",
    "# The items method in this case returns a tuple of the dictionary key and value.<br>\n",
    "for key_value in mydict.items():<br>\n",
    "&nbsp;&nbsp;&nbsp;&nbsp;print (key_value)<br>\n",
    "</p>\n",
    "</td>\n",
    "</tr>\n",
    "</table>"
   ]
  },
  {
   "cell_type": "markdown",
   "metadata": {},
   "source": [
    "<h3> More with control flow </h3><br>\n",
    "<p>\n",
    "Python provides a number of statements that can also modify the flow of program execution.  \n",
    "The following table enumerates these statements. \n",
    "\n",
    "<table>\n",
    "<tr><th>Statement</th><th>Description</th></tr>\n",
    "<tr><td>break</td><td>Exits the loop without executing any statements after the break</td></tr>\n",
    "<tr><td>continue</td><td>Immediately executes the next iteration of the loop without running any following statements </td></tr>\n",
    "<tr><td>pass</td><td> A null statement that is primarily used as a placeholder </td></tr>\n",
    "</table>\n",
    "<br>\n",
    "Let's see some examples of this:\n",
    "<table>\n",
    "<tr>\n",
    "<td>\n",
    "<p style='font-family:courier'>\n",
    "# Here's an example of using the break statement<br>\n",
    "x=0<br>\n",
    "while (True):<br>\n",
    "&nbsp;&nbsp;&nbsp;&nbsp;x +=1\n",
    "# As long as x isn't ten, we keep running and printing out x.  Once x is equal to 10 <br>\n",
    "# we execute the break statement and exit the loop. <br>\n",
    "&nbsp;&nbsp;&nbsp;&nbsp;if (x == 10):<br>\n",
    "&nbsp;&nbsp;&nbsp;&nbsp;&nbsp;&nbsp;&nbsp;&nbsp;break<br>\n",
    "&nbsp;&nbsp;&nbsp;&nbsp;print (x)<br>\n",
    "<br>\n",
    "print (\"Loop is finished.\")<br>\n",
    "<br>\n",
    "# Here is an example of using the continue statement.<br> \n",
    "x = 0<br>\n",
    "while (x < 10):<br>\n",
    "&nbsp;&nbsp;&nbsp;&nbsp;x +=1<br>\n",
    "# If x is 5, then we'll execute the continue statement and not do the following print().<br>\n",
    "# We'll then immediately go back to the top of the loop.<br>\n",
    "<br>\n",
    "&nbsp;&nbsp;&nbsp;&nbsp;if (x == 5):<br>\n",
    "&nbsp;&nbsp;&nbsp;&nbsp;&nbsp;&nbsp;&nbsp;&nbsp;continue<br>\n",
    "&nbsp;&nbsp;&nbsp;&nbsp;print (x)<br>\n",
    "<br>\n",
    "\n",
    "x = True <br>\n",
    "if (x is True):<br>\n",
    "# The pass statement here simply does nothing.<br>\n",
    "&nbsp;&nbsp;&nbsp;&nbsp;pass<br>\n",
    "else:<br>\n",
    "&nbsp;&nbsp;&nbsp;&nbsp;print ('x is not True')<br>\n",
    "</p>\n",
    "</td>\n",
    "</tr>\n",
    "</table>"
   ]
  },
  {
   "cell_type": "code",
   "execution_count": 4,
   "metadata": {
    "collapsed": false
   },
   "outputs": [
    {
     "name": "stdout",
     "output_type": "stream",
     "text": [
      "1\n",
      "2\n",
      "3\n",
      "4\n",
      "5\n",
      "6\n",
      "7\n",
      "8\n",
      "9\n",
      "Loop is finished.\n",
      "1\n",
      "2\n",
      "3\n",
      "4\n",
      "6\n",
      "7\n",
      "8\n",
      "9\n",
      "10\n"
     ]
    }
   ],
   "source": [
    "# Here's an example of using the break statement\n",
    "x=0\n",
    "while (True):\n",
    "    x +=1\n",
    "# As long as x isn't ten, we keep running and printing out x.  Once x is equal to 10\n",
    "# we execute the break statement and exit the loop.\n",
    "    if (x == 10):\n",
    "        break\n",
    "    print (x)\n",
    "\n",
    "print (\"Loop is finished.\")\n",
    "\n",
    "# Here is an example of using the continue statement. \n",
    "x = 0\n",
    "while (x < 10):\n",
    "    x +=1\n",
    "# If x is 5, then we'll execute the continue statement and not do the following print().\n",
    "# We'll then immediately go back to the top of the loop\n",
    "\n",
    "    if (x == 5):\n",
    "        continue\n",
    "    print (x)\n",
    "\n",
    "x = True\n",
    "if (x is True):\n",
    "# The pass statement here simply does nothing.\n",
    "    pass\n",
    "else:\n",
    "    print ('x is not True')"
   ]
  },
  {
   "cell_type": "markdown",
   "metadata": {},
   "source": [
    "<h3>The *else* statement with for</h3><br>\n",
    "Python has a unique construct known as the for else.  The else statement will run if the for loop has completed without having a break statement called.  This can be a very useful pattern.  Consider the following code:\n",
    "\n",
    "<table>\n",
    "<tr>\n",
    "<td>\n",
    "<p style='font-family:courier'>\n",
    "for element in elements:<br>\n",
    "&nbsp;&nbsp;&nbsp;&nbsp;if 'Bad' in element:<br>\n",
    "&nbsp;&nbsp;&nbsp;&nbsp;&nbsp;&nbsp;&nbsp;&nbsp;break<br>\n",
    "# Did we get here because we found a bad element?  Or did we finish the loop completely?<br>\n",
    "</p>\n",
    "</td>\n",
    "</tr>\n",
    "</table>\n",
    "\n",
    "The standard method in most programming languages to solve this conumdrum is the following:\n",
    "\n",
    "<table>\n",
    "<tr>\n",
    "<td>\n",
    "<p style='font-family:courier'>\n",
    "# Here we set a flag variable to be false<br>\n",
    "badflag = False<br>\n",
    "for element in elements:<br>\n",
    "&nbsp;&nbsp;&nbsp;&nbsp;if 'Bad' in element:<br>\n",
    "# We found a bad element, so set the badflag variable to be True<br>\n",
    "&nbsp;&nbsp;&nbsp;&nbsp;&nbsp;&nbsp;&nbsp;&nbsp;badflag = True<br>\n",
    "&nbsp;&nbsp;&nbsp;&nbsp;&nbsp;&nbsp;&nbsp;&nbsp;break<br>\n",
    "\n",
    "# Here we can now check if we got to the end of the elements list or we broke out<br>\n",
    "# of the loop.<br>\n",
    "if badflag == False:<br>\n",
    "&nbsp;&nbsp;&nbsp;&nbsp;print (\"Found no bad elements\")<br>\n",
    "else:<br>\n",
    "# Reset badflag <br>\n",
    "&nbsp;&nbsp;&nbsp;&nbsp;badflag = False # Reset badflag <br>\n",
    "\n",
    "</p>\n",
    "</td>\n",
    "</tr>\n",
    "</table>\n",
    "\n",
    "Python however provides a more elegant solution:\n",
    "<table>\n",
    "<tr>\n",
    "<td>\n",
    "<p style='font-family:courier'>\n",
    "for element in elements:<br>\n",
    "&nbsp;&nbsp;&nbsp;&nbsp;if 'Bad' in element:<br>\n",
    "&nbsp;&nbsp;&nbsp;&nbsp;&nbsp;&nbsp;&nbsp;&nbsp;break<br>\n",
    "else:<br>\n",
    "&nbsp;&nbsp;&nbsp;&nbsp;print (\"Found no bad elements\")<br>\n",
    "</p>\n",
    "</td>\n",
    "</tr>\n",
    "</table>\n",
    "<br>\n",
    "Note that this code is far simpler, and easier to read than the previous version using a flag variable."
   ]
  },
  {
   "cell_type": "markdown",
   "metadata": {},
   "source": [
    "<h3>The List Type</h3><br>\n",
    "\n",
    "The Python list is one of the core data structures in the language.  Other languages may refer to this type of data structure as an array.  Unlike other languages, such as Java or C, Python lists are dynamic, that is to say, that can grow in size as the program runs, rather than having to be re-allocated if the list becomes too small to hold all of the elements. \n",
    "\n",
    "We use the [] operator to specify a list.  For example:\n",
    "<table align='left'>\n",
    "<tr>\n",
    "<td>\n",
    "<p style = 'font-family:courier'>\n",
    "# Declare a list with five elements.  \n",
    "mylist = [1,2,3,4,5]<br>\n",
    "# Declare an empty list<br>\n",
    "mylist1 = []\n",
    "# Declare a list with five elements.  \n",
    "mylist = [1,2,3,4,5]<br>\n",
    "print (mylist[0]) # Note that we start counting from 0!\n",
    "</p>\n",
    "</td>\n",
    "</tr>\n",
    "</table>\n",
    "<br><br><br><br><br><br><br><br>\n",
    "We can also use the [] operator to access individual elements of the list.\n",
    "\n",
    "\n",
    "However, if we want to add a new element to the list, we must use a list method such as *append()* or *extend()*.\n",
    "Attempting to use the [] operator to add a new element to the list will produce an error. Here is an example of Python using the list type. \n",
    "<table align='left'>\n",
    "<tr>\n",
    "<td>\n",
    "<p style ='font-family:courier'>\n",
    "# Create our sample list.  Note the use of '[]' to tell Python that mylist is of type 'list'. <br>\n",
    "mylist = [1,2,3,4,5] <br>\n",
    "# Let's create another, empty list <br>\n",
    "mylist1 = []<br>\n",
    "# Let's add a value to the end of mylist using the list method append()<br>\n",
    "mylist.append(6)<br>\n",
    "# Printing the list now gives 1,2,3,4,5,6 <br>\n",
    "print (mylist) <br>\n",
    "# Let's remove the sixth element. (Remember, we start counting from zero!) <br>\n",
    "mylist.pop(5)<br>\n",
    "print (mylist)<br>\n",
    "# Let's add a new element at index position 2<br>\n",
    "mylist.insert(2,9) <br>\n",
    "print (mylist) <br>\n",
    "#  Now let's get rid of it again. Note that remove takes the value of the element, not its index position.<br> \n",
    "mylist.remove(9)<br>\n",
    "print (mylist)<br>\n",
    "# Now let's add some values to mylist1<br>\n",
    "mylist1.append('A')<br>\n",
    "mylist1.append('B')<br>\n",
    "mylist1.append('C')<br>\n",
    "# Let's join mylist and mylist1 together. <br>\n",
    "mylist.extend(mylist1)<br>\n",
    "print (mylist)<br>\n",
    "</p>\n",
    "</td>\n",
    "</tr>\n",
    "</table>\n",
    "\n"
   ]
  },
  {
   "cell_type": "code",
   "execution_count": 25,
   "metadata": {
    "collapsed": false
   },
   "outputs": [
    {
     "data": {
      "text/plain": [
       "['__add__',\n",
       " '__class__',\n",
       " '__contains__',\n",
       " '__delattr__',\n",
       " '__delitem__',\n",
       " '__dir__',\n",
       " '__doc__',\n",
       " '__eq__',\n",
       " '__format__',\n",
       " '__ge__',\n",
       " '__getattribute__',\n",
       " '__getitem__',\n",
       " '__gt__',\n",
       " '__hash__',\n",
       " '__iadd__',\n",
       " '__imul__',\n",
       " '__init__',\n",
       " '__iter__',\n",
       " '__le__',\n",
       " '__len__',\n",
       " '__lt__',\n",
       " '__mul__',\n",
       " '__ne__',\n",
       " '__new__',\n",
       " '__reduce__',\n",
       " '__reduce_ex__',\n",
       " '__repr__',\n",
       " '__reversed__',\n",
       " '__rmul__',\n",
       " '__setattr__',\n",
       " '__setitem__',\n",
       " '__sizeof__',\n",
       " '__str__',\n",
       " '__subclasshook__',\n",
       " 'append',\n",
       " 'clear',\n",
       " 'copy',\n",
       " 'count',\n",
       " 'extend',\n",
       " 'index',\n",
       " 'insert',\n",
       " 'pop',\n",
       " 'remove',\n",
       " 'reverse',\n",
       " 'sort']"
      ]
     },
     "execution_count": 25,
     "metadata": {},
     "output_type": "execute_result"
    }
   ],
   "source": [
    "mylist = []\n",
    "dir(mylist)"
   ]
  },
  {
   "cell_type": "code",
   "execution_count": 30,
   "metadata": {
    "collapsed": false
   },
   "outputs": [
    {
     "name": "stdout",
     "output_type": "stream",
     "text": [
      "[6, 5, 4, 3, 2, 1]\n"
     ]
    }
   ],
   "source": [
    "mylist = [1,2,3,4,5]\n",
    "mylist.append(6)\n",
    "mylist.reverse()\n",
    "print (mylist)"
   ]
  },
  {
   "cell_type": "code",
   "execution_count": 39,
   "metadata": {
    "collapsed": false
   },
   "outputs": [
    {
     "name": "stdout",
     "output_type": "stream",
     "text": [
      "[1, 2, 3, 4, 5, 6]\n",
      "[1, 2, 3, 4, 5]\n",
      "[1, 2, 9, 3, 4, 5]\n",
      "[1, 2, 3, 4, 5]\n",
      "[1, 2, 3, 4, 5, 'A', 'B', 'C']\n"
     ]
    }
   ],
   "source": [
    "# Create our sample list.  Note the use of '[]' to tell Python that mylist is of type 'list'. \n",
    "mylist = [1,2,3,4,5] \n",
    "# Let's create another, empty list\n",
    "mylist1 = []\n",
    "# Let's add a value to the end of mylist using the list method append()\n",
    "mylist.append(6)\n",
    "# Printing the list now gives 1,2,3,4,5,6\n",
    "print (mylist)\n",
    "# Let's remove the sixth element. (Remember, we start counting from zero!)\n",
    "mylist.pop(5)\n",
    "print (mylist)\n",
    "# Let's add a new element at index position 2\n",
    "mylist.insert(2,9)\n",
    "print (mylist)\n",
    "#  Now let's get rid of it again. Note that remove takes the value of the element, not its index position. \n",
    "mylist.remove(9)\n",
    "print (mylist)\n",
    "# Now let's add some values to mylist1\n",
    "mylist1.append('A')\n",
    "mylist1.append('B')\n",
    "mylist1.append('C')\n",
    "# Let's join mylist and mylist1 together.\n",
    "mylist.extend(mylist1)\n",
    "print (mylist)"
   ]
  },
  {
   "cell_type": "code",
   "execution_count": 23,
   "metadata": {
    "collapsed": false
   },
   "outputs": [
    {
     "name": "stdout",
     "output_type": "stream",
     "text": [
      "[10, 2, 3, 4, 5]\n"
     ]
    }
   ],
   "source": [
    "mylist= [1,2,3,4,5]\n",
    "mylist[0] = 10\n",
    "print (mylist)"
   ]
  },
  {
   "cell_type": "markdown",
   "metadata": {},
   "source": [
    "<h3> List slicing </h3><br>\n",
    "As we saw with strings, we can also use slicing with lists.  The same notation applies to lists as it does to strings.  For example:\n",
    "<table align='left'>\n",
    "<tr>\n",
    "<td>\n",
    "<p style = 'font-family:courier'>\n",
    "# Create our source list.<br>\n",
    "mylist = ['a','b','c','d','e'] <br>\n",
    "# Let's get element 2-4. <br>\n",
    "print (mylist[2:5]) <br>\n",
    "# Let's print the list backward. <br>\n",
    "print (mylist[::-1]) <br>\n",
    "#Let's get the list from element 1 to element 4 but counting from the end of the list. <br> \n",
    "print (mylist[-4:-1]) <br>\n",
    "</p>\n",
    "</td>\n",
    "</tr>\n",
    "</table>\n",
    "\n",
    "\n"
   ]
  },
  {
   "cell_type": "code",
   "execution_count": 55,
   "metadata": {
    "collapsed": false
   },
   "outputs": [
    {
     "name": "stdout",
     "output_type": "stream",
     "text": [
      "['c', 'd', 'e']\n",
      "['e', 'd', 'c', 'b', 'a']\n",
      "['b', 'c', 'd']\n"
     ]
    }
   ],
   "source": [
    "# Create our source list.\n",
    "mylist = ['a','b','c','d','e']\n",
    "# Let's get element 2-4.\n",
    "print (mylist[2:5])\n",
    "# Let's print the list backward.\n",
    "print (mylist[::-1])\n",
    "#Let's get the list from element 1 to element 4 but counting from the end of the list. \n",
    "print (mylist[-4:-1])\n"
   ]
  },
  {
   "cell_type": "markdown",
   "metadata": {},
   "source": [
    "<h3>List operators </h3><br>\n",
    "The list type uses the same operators in the same way that strings do.  The '+' is used to concatenate two lists together.  the '\\*' is used to repeat elements.  \n",
    "\n",
    "<table align='left'>\n",
    "<tr>\n",
    "<td>\n",
    "<p style = 'font-family:courier'>\n",
    "# Let's create a list with five elements that contain the number 5<br>\n",
    "mylist = [5] \\* 5 <br>\n",
    "print (mylist) <br>\n",
    "mylist2 = [4] \\* 4 <br>\n",
    "# Let's concatenate mylist and mylist2 together <br>\n",
    "print (mylist + mylist2) <br>\n",
    "</p>\n",
    "</td>\n",
    "</tr>\n",
    "</table>\n"
   ]
  },
  {
   "cell_type": "code",
   "execution_count": 58,
   "metadata": {
    "collapsed": false
   },
   "outputs": [
    {
     "name": "stdout",
     "output_type": "stream",
     "text": [
      "[5, 5, 5, 5, 5]\n",
      "[5, 5, 5, 5, 5, 4, 4, 4, 4]\n"
     ]
    }
   ],
   "source": [
    "# Let's create a list with five elements that contain the number 5\n",
    "mylist = [5] * 5\n",
    "print (mylist)\n",
    "mylist2 = [4] * 4\n",
    "# Let's concatenate mylist and mylist2 together\n",
    "print (mylist + mylist2)"
   ]
  },
  {
   "cell_type": "markdown",
   "metadata": {},
   "source": [
    "<h3>Multi-dimensional Lists </h3><br>\n",
    "List can also contain other lists.  We can access the elements of the internal list by using the [] operator more than once.  For example:\n",
    "\n",
    "<table align='left'>\n",
    "<tr>\n",
    "<td>\n",
    "<p style = 'font-family:courier'>\n",
    "# Let's make a list that contains two lists internally.<br>\n",
    "outer=[[1,2,3,4,5],['a','b','c','d','e']] <br>\n",
    "# Let's access the second element of the first inner list. <br> \n",
    "# This says that we want the first element of the outer list, which is the first list,<br> \n",
    "# and then the second element of the inner list, which contains the value of 2 <br>\n",
    "\n",
    "print (outer[0][1]) <br>\n",
    "\n",
    "# Let's now access the fourth value of the second list.<br> \n",
    "print (outer[1][3])<br>\n",
    "</p>\n",
    "</td>\n",
    "</tr>\n",
    "</table>\n"
   ]
  },
  {
   "cell_type": "code",
   "execution_count": 60,
   "metadata": {
    "collapsed": false
   },
   "outputs": [
    {
     "name": "stdout",
     "output_type": "stream",
     "text": [
      "2\n",
      "d\n"
     ]
    }
   ],
   "source": [
    "# Let's make a list that contains two lists internally.\n",
    "outer=[[1,2,3,4,5],['a','b','c','d','e']]\n",
    "# Let's access the second element of the first inner list. \n",
    "# This says that we want the first element of the outer list, which is the first list, \n",
    "# and then the second element of the inner list, which contains the value of 2 \n",
    "\n",
    "print (outer[0][1])\n",
    "\n",
    "# Let's now access the fourth value of the second list. \n",
    "print (outer[1][3])"
   ]
  },
  {
   "cell_type": "code",
   "execution_count": 27,
   "metadata": {
    "collapsed": false
   },
   "outputs": [
    {
     "name": "stdout",
     "output_type": "stream",
     "text": [
      "0\n",
      "1\n",
      "2\n",
      "3\n",
      "4\n",
      "5\n"
     ]
    }
   ],
   "source": [
    "mylist = [1,2,3,4,5]\n",
    "#for item in mylist:\n",
    "#    print (item)\n",
    "\n",
    "#mystring = 'Hello World'\n",
    "#for char in mystring:\n",
    "#    print (char)\n",
    "    \n",
    "for i in range(6):\n",
    "    print (i)\n",
    "    "
   ]
  },
  {
   "cell_type": "code",
   "execution_count": 29,
   "metadata": {
    "collapsed": false
   },
   "outputs": [
    {
     "name": "stdout",
     "output_type": "stream",
     "text": [
      "[0, 1, 1, 2, 3, 5]\n"
     ]
    }
   ],
   "source": [
    "fiblist = [0,1]\n",
    "for i in range(2,6):\n",
    "    fiblist.append(fiblist[i-2] + fiblist[i-1])\n",
    "print (fiblist)"
   ]
  },
  {
   "cell_type": "markdown",
   "metadata": {},
   "source": [
    "### Quick Exercise:\n",
    "1.  The fibonacci sequence is a well known mathematical sequence where an element is the sum of the previous two elements. Create a list that will contain the first five elements of this sequence.\n"
   ]
  },
  {
   "cell_type": "code",
   "execution_count": 35,
   "metadata": {
    "collapsed": false
   },
   "outputs": [
    {
     "name": "stdout",
     "output_type": "stream",
     "text": [
      "[0, 1, 1, 2, 3, 5, 8]\n"
     ]
    }
   ],
   "source": [
    "fiblist = [0,1]\n",
    "x = fiblist[0] + fiblist[1]\n",
    "fiblist.append(x)\n",
    "x = fiblist[1] + fiblist[2]\n",
    "fiblist.append(x)\n",
    "x = fiblist[2] + fiblist[3]\n",
    "fiblist.append(x)\n",
    "x = fiblist[3] + fiblist[4]\n",
    "fiblist.append(x)\n",
    "x = fiblist[4] + fiblist[5]\n",
    "fiblist.append(x)\n",
    "print (fiblist)"
   ]
  },
  {
   "cell_type": "code",
   "execution_count": 38,
   "metadata": {
    "collapsed": false
   },
   "outputs": [
    {
     "name": "stdout",
     "output_type": "stream",
     "text": [
      "[0, 1, 1, 2, 3, 5, 8]\n"
     ]
    }
   ],
   "source": [
    "fiblist = [0,1]\n",
    "for i in range(5):\n",
    "    x = fiblist[i] + fiblist[i+1]\n",
    "    fiblist.append(x)\n",
    "print (fiblist)"
   ]
  },
  {
   "cell_type": "code",
   "execution_count": 39,
   "metadata": {
    "collapsed": false
   },
   "outputs": [
    {
     "name": "stdout",
     "output_type": "stream",
     "text": [
      "[0, 1, 1, 2, 3, 5, 8]\n"
     ]
    }
   ],
   "source": [
    "fiblist = [0,1]\n",
    "for i in range(5):\n",
    "    fiblist.append(fiblist[i] + fiblist[i+1])\n",
    "print (fiblist)"
   ]
  },
  {
   "cell_type": "markdown",
   "metadata": {},
   "source": [
    "### Quick Exercise:\n",
    "Create a sample list of potential ipaddresses, some of which have invalid octets.  Write a small program that iterates over each ip address and prints out whether or not the ip address is valid."
   ]
  },
  {
   "cell_type": "code",
   "execution_count": 4,
   "metadata": {
    "collapsed": false
   },
   "outputs": [
    {
     "name": "stdout",
     "output_type": "stream",
     "text": [
      "Good ip address!\n",
      "Bad ipaddress!\n",
      "Good ip address!\n"
     ]
    }
   ],
   "source": [
    "ipaddrs = ['192.168.100.1','255.262.1.2','10.1.2.3']\n",
    "\n",
    "for ipaddr in ipaddrs:\n",
    "    octets = ipaddr.split('.')\n",
    "    for octet in octets:\n",
    "        if int(octet) > 255:\n",
    "            print ('Bad ipaddress!')\n",
    "            break\n",
    "    else:\n",
    "        print ('Good ip address!')        \n",
    "            \n",
    " "
   ]
  },
  {
   "cell_type": "markdown",
   "metadata": {},
   "source": [
    "## Exercise 2. \n",
    "### Part 1.\n",
    "\n",
    "   Create an IP address converter (dotted decimal to binary).  This will be\n",
    "   similar to what we did in the string chapter, except...\n",
    "\n",
    "    A. Make the IP address a command-line argument instead of prompting the user\n",
    "       for it.\n",
    "       \n",
    "            ./binary_converter.py 10.88.17.23\n",
    "            \n",
    "    B. Simplify the script logic by using the flow-control statements that we\n",
    "       have learned in this class.\n",
    "    C. Zero-pad the digits such that the binary output is always 8-binary digits\n",
    "    \n",
    "        long.  Strip off the leading '0b' characters.  For example,\n",
    "        OLD:     0b1010\n",
    "        \n",
    "        NEW:    00001010\n",
    "        \n",
    "    D. Print to standard output using a dotted binary format.  For example,\n",
    "    \n",
    "        IP address          Binary\n",
    "        \n",
    "        10.88.17.23        00001010.01011000.00010001.00010111\n",
    "        \n",
    "    Note, you will probably need to use a 'while' loop and a 'break' statement\n",
    "    \n",
    "    for part C.\n",
    "    \n",
    "        while True:\n",
    "            ...\n",
    "            break       # on some condition (exit the while loop)\n",
    "    Python will execute this loop again and again until the 'break' is encountered.\n",
    "    \n",
    "    The Jupyter Notebook does not support entering command line arguments interactively, so you\n",
    "    will have to emulate this by simply creating them yourself.  Simply assign some values to the\n",
    "    sys.argv array before the rest of the solution. For example:\n",
    "    sys.argv[1] = 'some value here'\n",
    "    sya.argv[2] = 'some other value here'\n",
    "    and so on."
   ]
  },
  {
   "cell_type": "markdown",
   "metadata": {},
   "source": [
    "## Part 2.\n",
    "\n",
    "Modify the 'show ip bgp' exercise from the previous exercise.   Simplify the program using\n",
    "\n",
    "Python flow-control statements.\n",
    "\n",
    "\n",
    "You have the following four lines from 'show ip bgp':\n",
    "\n",
    "entry1 = \"*  1.0.192.0/18   157.130.10.233        0 701 38040 9737 i\"\n",
    "\n",
    "entry2 = \"*  1.1.1.0/24      157.130.10.233         0 701 1299 15169 i\"\n",
    "\n",
    "entry3 = \"*  1.1.42.0/24     157.130.10.233        0 701 9505 17408 2.1465 i\"\n",
    "\n",
    "entry4 = \"*  1.0.192.0/19   157.130.10.233        0 701 6762 6762 6762 6762 38040 9737 i\"\n",
    "\n",
    "Note, in each case the AS_PATH starts with '701'.\n",
    "\n",
    "Using split() and a list slice, how could you process each of these such that--\n",
    "\n",
    "for each entry, you return an ip_prefix and the AS_PATH (the ip_prefix should be\n",
    "\n",
    "a string; the AS_PATH should be a list):\n",
    "\n",
    "Your output should look like this:\n",
    "\n",
    "ip_prefix           as_path\n",
    "\n",
    "1.0.192.0/18        ['701', '38040', '9737']\n",
    "\n",
    "1.1.1.0/24          ['701', '1299', '15169']\n",
    "\n",
    "1.1.42.0/24         ['701', '9505', '17408', '2.1465']\n",
    "\n",
    "1.0.192.0/19        ['701', '6762', '6762', '6762', '6762', '38040', '9737']\n",
    "\n",
    "\n",
    "If you can't figure this out using a list slice, you could also solve this using\n",
    "pop().\n"
   ]
  },
  {
   "cell_type": "code",
   "execution_count": null,
   "metadata": {
    "collapsed": true
   },
   "outputs": [],
   "source": []
  },
  {
   "cell_type": "markdown",
   "metadata": {},
   "source": [
    "# The solutions are below"
   ]
  },
  {
   "cell_type": "code",
   "execution_count": null,
   "metadata": {
    "collapsed": true
   },
   "outputs": [],
   "source": []
  },
  {
   "cell_type": "markdown",
   "metadata": {},
   "source": [
    "<img src='graphics/mario.jpg'> </img>"
   ]
  },
  {
   "cell_type": "code",
   "execution_count": null,
   "metadata": {
    "collapsed": true
   },
   "outputs": [],
   "source": []
  },
  {
   "cell_type": "code",
   "execution_count": null,
   "metadata": {
    "collapsed": true
   },
   "outputs": [],
   "source": []
  },
  {
   "cell_type": "code",
   "execution_count": 21,
   "metadata": {
    "collapsed": false
   },
   "outputs": [
    {
     "name": "stdout",
     "output_type": "stream",
     "text": [
      "\n",
      "IP address      Binary                                       \n",
      "192.168.100.1   11000000.10101000.01100100.00000001          \n",
      "\n",
      "\n"
     ]
    }
   ],
   "source": [
    "import sys\n",
    "\n",
    "sys.argv[0] = './ex1_binary_converter.py'\n",
    "sys.argv[1] = '192.168.100.1'\n",
    "\n",
    "\n",
    "\n",
    "ip_addr = sys.argv.pop()\n",
    "octets = ip_addr.split(\".\")\n",
    "\n",
    "# create a blank list (needed because I use .append() method below)\n",
    "ip_addr_bin = []\n",
    "\n",
    "if len(octets) == 4:\n",
    "\n",
    "    for octet in octets:\n",
    "\n",
    "        bin_octet = bin(int(octet))\n",
    "\n",
    "        # strip off '0b' from front of string (you can slice a string also)\n",
    "        bin_octet = bin_octet[2:]\n",
    "\n",
    "        # prepend '0' to number until 8 chars long\n",
    "        while True:\n",
    "            if len(bin_octet) >= 8:\n",
    "                break\n",
    "            bin_octet = '0' + bin_octet\n",
    "\n",
    "        # add octet to new list\n",
    "        ip_addr_bin.append(bin_octet)\n",
    "\n",
    "\n",
    "    # join binary number in dotted-binary format\n",
    "    ip_addr_bin = \".\".join(ip_addr_bin)\n",
    "\n",
    "    # print the output\n",
    "    print (\"\\n%-15s %-45s\" % (\"IP address\", \"Binary\"))\n",
    "    print (\"%-15s %-45s\\n\\n\" % (ip_addr, ip_addr_bin))\n"
   ]
  },
  {
   "cell_type": "code",
   "execution_count": 24,
   "metadata": {
    "collapsed": false
   },
   "outputs": [
    {
     "name": "stdout",
     "output_type": "stream",
     "text": [
      "\n",
      "ip_prefix            as_path                                           \n",
      "1.0.192.0/18         ['701', '38040', '9737']                          \n",
      "1.1.1.0/24           ['701', '1299', '15169']                          \n",
      "1.1.42.0/24          ['701', '9505', '17408', '2.1465']                \n",
      "1.0.192.0/19         ['701', '6762', '6762', '6762', '6762', '38040', '9737']\n",
      "\n",
      "\n"
     ]
    }
   ],
   "source": [
    "entry1 = \"*  1.0.192.0/18   157.130.10.233        0 701 38040 9737 i\"\n",
    "entry2 = \"*  1.1.1.0/24      157.130.10.233         0 701 1299 15169 i\"\n",
    "entry3 = \"*  1.1.42.0/24     157.130.10.233        0 701 9505 17408 2.1465 i\"\n",
    "entry4 = \"*  1.0.192.0/19   157.130.10.233        0 701 6762 6762 6762 6762 38040 9737 i\"\n",
    "\n",
    "print (\"\\n%-20s %-50s\" % (\"ip_prefix\", \"as_path\"))\n",
    "\n",
    "for entry in (entry1, entry2, entry3, entry4):\n",
    "    entry_split = entry.split()\n",
    "    ip_prefix = entry_split[1]\n",
    "    as_path = entry_split[4:-1]\n",
    "    print (\"%-20s %-50s\" % (ip_prefix, as_path))\n",
    "\n",
    "print (\"\\n\")"
   ]
  },
  {
   "cell_type": "markdown",
   "metadata": {},
   "source": [
    "<h3> The Tuple Type</h3><br>\n",
    "A tuple in Python is conceptually similar to a list, in that it is a sequence of values, however, unlike a list, a tuple is *immutable*.  That is, you cannot change elements or add to the tuple once it has been defined.  As with lists, you can index a tuple using the '[]' argument.  You can also slice a tuple in the same way as you can with a list or a string type. The tuple uses the '()' symbols to note the start and end. As with lists, tuples use the '+' operator to concatenate two tuples and the '\\*' as the repeat operator. Another property of Python is the concept of tuple *packing* and *unpacking*.  This allows us to quickly load values into and out of a tuple.\n",
    "Following is an example of using tuples.  \n",
    "\n",
    "<table>\n",
    "<tr>\n",
    "<td>\n",
    "<p style = 'font-family:courier'>\n",
    "# Let's define a tuple.<br>\n",
    "mytuple = (1,2,3,4,5) <br>\n",
    "# Let's print out the second through the fifth element.<br>\n",
    "print (mytuple[1:6])<br>\n",
    "# Let's define a second tuple and add it to the first.<br> \n",
    "mytuple1 = ('a','b','c','d','e')<br>\n",
    "mytuple = mytuple + mytuple1<br>\n",
    "print (mytuple)<br>\n",
    "# Let's pack a tuple t with the values of x, y and z.  These become the elements of the new tuple t. <br>\n",
    "x = 1 <br>\n",
    "y = 2 <br>\n",
    "z = 3 <br>\n",
    "t = (x,y,z) <br>\n",
    "print (t) <br>\n",
    "# Now let's unpack a tuple. <br>\n",
    "(name,age) = ('Braun Brelin',21) <br>\n",
    "print ('name = ', name) <br>\n",
    "print ('age = ',age) <br>\n",
    "</p>\n",
    "</td>\n",
    "</tr>\n",
    "</table>"
   ]
  },
  {
   "cell_type": "code",
   "execution_count": 5,
   "metadata": {
    "collapsed": false
   },
   "outputs": [
    {
     "name": "stdout",
     "output_type": "stream",
     "text": [
      "(2, 3, 4, 5)\n",
      "(1, 2, 3, 4, 5, 'a', 'b', 'c', 'd', 'e')\n",
      "(1, 2, 3)\n",
      "name =  Braun Brelin\n",
      "age =  21\n"
     ]
    }
   ],
   "source": [
    "# Let's define a tuple.\n",
    "mytuple = (1,2,3,4,5)\n",
    "# Let's print out the second through the fifth element.\n",
    "print (mytuple[1:6])\n",
    "# Let's define a second tuple and add it to the first. \n",
    "mytuple1 = ('a','b','c','d','e')\n",
    "mytuple = mytuple + mytuple1\n",
    "print (mytuple)\n",
    "# Let's pack a tuple t with the values of x, y and z.  These become the elements of the new tuple t. \n",
    "x = 1\n",
    "y = 2\n",
    "z = 3\n",
    "t = (x,y,z)\n",
    "print (t)\n",
    "# Now let's unpack a tuple.\n",
    "(name,age) = ('Braun Brelin',21)\n",
    "print ('name = ', name)\n",
    "print ('age = ',age)"
   ]
  },
  {
   "cell_type": "code",
   "execution_count": 7,
   "metadata": {
    "collapsed": false
   },
   "outputs": [
    {
     "name": "stdout",
     "output_type": "stream",
     "text": [
      "fo\n"
     ]
    },
    {
     "ename": "TypeError",
     "evalue": "'tuple' object does not support item assignment",
     "output_type": "error",
     "traceback": [
      "\u001b[0;31m---------------------------------------------------------------------------\u001b[0m",
      "\u001b[0;31mTypeError\u001b[0m                                 Traceback (most recent call last)",
      "\u001b[0;32m<ipython-input-7-23a099068aaa>\u001b[0m in \u001b[0;36m<module>\u001b[0;34m()\u001b[0m\n\u001b[1;32m      1\u001b[0m \u001b[0mmytuple\u001b[0m \u001b[0;34m=\u001b[0m \u001b[0;34m(\u001b[0m\u001b[0;34m'fee'\u001b[0m\u001b[0;34m,\u001b[0m\u001b[0;34m'fi'\u001b[0m\u001b[0;34m,\u001b[0m\u001b[0;34m'fo'\u001b[0m\u001b[0;34m,\u001b[0m\u001b[0;34m'fum'\u001b[0m\u001b[0;34m)\u001b[0m\u001b[0;34m\u001b[0m\u001b[0m\n\u001b[1;32m      2\u001b[0m \u001b[0mprint\u001b[0m\u001b[0;34m(\u001b[0m\u001b[0mmytuple\u001b[0m\u001b[0;34m[\u001b[0m\u001b[0;36m2\u001b[0m\u001b[0;34m]\u001b[0m\u001b[0;34m)\u001b[0m\u001b[0;34m\u001b[0m\u001b[0m\n\u001b[0;32m----> 3\u001b[0;31m \u001b[0mmytuple\u001b[0m\u001b[0;34m[\u001b[0m\u001b[0;36m2\u001b[0m\u001b[0;34m]\u001b[0m \u001b[0;34m=\u001b[0m \u001b[0;34m'foo'\u001b[0m\u001b[0;34m\u001b[0m\u001b[0m\n\u001b[0m",
      "\u001b[0;31mTypeError\u001b[0m: 'tuple' object does not support item assignment"
     ]
    }
   ],
   "source": [
    "mytuple = ('fee','fi','fo','fum')\n",
    "print(mytuple[2])\n",
    "mytuple[2] = 'foo'       "
   ]
  },
  {
   "cell_type": "markdown",
   "metadata": {},
   "source": [
    "<h3>More with tuples</h3><br>\n",
    "Python has a number of built-in functions that work with tuples.\n",
    "<div>\n",
    "<table  width='600px', align='left'>\n",
    "<tr>\n",
    "<th> Name</th><th>Description</th>\n",
    "</tr>\n",
    "<tr><td>2</td><td><p>len(tuple)</p>Gives the total length of the tuple.</td></tr>\n",
    "<tr><td>3</td><td><p>max(tuple)</p>Returns item from the tuple with max value.</td></tr>\n",
    "<tr><td>4</td><td><p>min(tuple)</p>Returns item from the tuple with min value.</td></tr>\n",
    "<tr><td>5</td><td><p>tuple(seq)</p>Converts a list into tuple.</td></tr>\n",
    "</table>\n",
    "</div>\n",
    "<br>\n",
    "<p align='left'>\n",
    "Here is an example of using these builtin tuple functions.<br>\n",
    "</p>\n",
    "<table align='left'>\n",
    "<tr>\n",
    "<td>\n",
    "<p style='font-family:courier'>\n",
    "# Let's create some tuples <br>\n",
    "t1, t2 = (1,2,3,4,5), (5,4,3,2,1) <br>\n",
    "# Let's print the length of tuple t1 <br>\n",
    "print (len(t1)) <br>\n",
    "# Let's get the maximum value from tuple t1 <br>\n",
    "print (max(t1)) <br>\n",
    "# Let's get the minimum value from tuple t2 <br>\n",
    "print (min(t2)) <br>\n",
    "# Let's convert a string into a tuple <br>\n",
    "t1 = tuple(\"Hello World\") <br>\n",
    "print (t1) <br>\n",
    "</p>\n",
    "</td>\n",
    "</tr>\n",
    "</table>"
   ]
  },
  {
   "cell_type": "code",
   "execution_count": 8,
   "metadata": {
    "collapsed": false,
    "scrolled": true
   },
   "outputs": [
    {
     "name": "stdout",
     "output_type": "stream",
     "text": [
      "5\n",
      "5\n",
      "1\n",
      "('H', 'e', 'l', 'l', 'o', ' ', 'W', 'o', 'r', 'l', 'd')\n"
     ]
    }
   ],
   "source": [
    "# Let's create some tuples\n",
    "t1, t2 = (1,2,3,4,5), (5,4,3,2,1)\n",
    "# Let's print the length of tuple t1\n",
    "print (len(t1))\n",
    "# Let's get the maximum value from tuple t1\n",
    "print (max(t1))\n",
    "# Let's get the minimum value from tuple t2\n",
    "print (min(t2))\n",
    "# Let's convert a string into a tuple\n",
    "t1 = tuple(\"Hello World\")\n",
    "print (t1)"
   ]
  },
  {
   "cell_type": "code",
   "execution_count": 31,
   "metadata": {
    "collapsed": false
   },
   "outputs": [
    {
     "name": "stdout",
     "output_type": "stream",
     "text": [
      "('12345', 'Braun', 'Brelin', '1234 Main Street', ' Anytown', ' USA', ' 12345')\n"
     ]
    }
   ],
   "source": [
    "emp_record = '12345,Braun,Brelin,1234 Main Street, Anytown, USA, 12345'\n",
    "\n",
    "emp_tuple = tuple(emp_record.split(','))\n",
    "print (emp_tuple)"
   ]
  },
  {
   "cell_type": "code",
   "execution_count": 33,
   "metadata": {
    "collapsed": false
   },
   "outputs": [
    {
     "name": "stdout",
     "output_type": "stream",
     "text": [
      "2.0\n"
     ]
    }
   ],
   "source": [
    "import math\n",
    "print (math.sqrt(4))"
   ]
  },
  {
   "cell_type": "code",
   "execution_count": 34,
   "metadata": {
    "collapsed": false
   },
   "outputs": [
    {
     "name": "stdout",
     "output_type": "stream",
     "text": [
      "John Smith\n",
      "Catcher\n",
      "New York Yankees\n"
     ]
    }
   ],
   "source": [
    "# Let's define our string data.\n",
    "playerstring = 'John Smith,Catcher,New York Yankees'\n",
    "# Now let's create a player tuple that contains as its elements:\n",
    "# element 0 - The player's name\n",
    "# element 1 - The player's position\n",
    "# element 2 - The player's team.\n",
    "player = playerstring.split(',')\n",
    "\n",
    "for element in player:\n",
    "    print (element)"
   ]
  },
  {
   "cell_type": "markdown",
   "metadata": {},
   "source": [
    "# Exercise 3.\n",
    "## Part 1.\n",
    "\n",
    "You have the following 'show ip int brief' output.<br>\n",
    "Interface       IP-Address  OK? Method  Status  Protocol<br>\n",
    "FastEthernet0   unassigned  YES unset   up      up<br>\n",
    "FastEthernet1   unassigned  YES unset   up      up<br>\n",
    "FastEthernet2   unassigned  YES unset   down    down<br>\n",
    "FastEthernet3   unassigned  YES unset   up      up<br>\n",
    "FastEthernet4   6.9.4.10    YES NVRAM   up      up<br>\n",
    "NVI0            6.9.4.10    YES unset   up      up<br>\n",
    "Tunnel1         16.25.253.2 YES NVRAM   up      down<br>\n",
    "Tunnel2         16.25.253.6 YES NVRAM   up      down<br>\n",
    "Vlan1           unassigned  YES NVRAM   down    down<br>\n",
    "Vlan10          10.220.88.1 YES NVRAM   up      up<br>\n",
    "Vlan20          192.168.0.1 YES NVRAM   down    down<br>\n",
    "Vlan100         10.220.84.1 YES NVRAM   up      up<br><br>\n",
    "From this output, create a list where each element in the list is a tuple<br>\n",
    "consisting of (interface_name, ip_address, status, protocol).  Only include<br>\n",
    "interfaces that are in the up/up state.<br>\n",
    "Print this list to standard output using the pprint module from Python.<br>"
   ]
  },
  {
   "cell_type": "code",
   "execution_count": null,
   "metadata": {
    "collapsed": true
   },
   "outputs": [],
   "source": []
  },
  {
   "cell_type": "code",
   "execution_count": null,
   "metadata": {
    "collapsed": true
   },
   "outputs": [],
   "source": []
  },
  {
   "cell_type": "code",
   "execution_count": null,
   "metadata": {
    "collapsed": true
   },
   "outputs": [],
   "source": []
  },
  {
   "cell_type": "code",
   "execution_count": null,
   "metadata": {
    "collapsed": true
   },
   "outputs": [],
   "source": []
  },
  {
   "cell_type": "markdown",
   "metadata": {},
   "source": [
    "# The solutions are below"
   ]
  },
  {
   "cell_type": "markdown",
   "metadata": {},
   "source": [
    "<img src='graphics/mario.jpg'> </img>"
   ]
  },
  {
   "cell_type": "code",
   "execution_count": null,
   "metadata": {
    "collapsed": true
   },
   "outputs": [],
   "source": []
  },
  {
   "cell_type": "code",
   "execution_count": null,
   "metadata": {
    "collapsed": true
   },
   "outputs": [],
   "source": []
  },
  {
   "cell_type": "code",
   "execution_count": null,
   "metadata": {
    "collapsed": true
   },
   "outputs": [],
   "source": []
  },
  {
   "cell_type": "code",
   "execution_count": 25,
   "metadata": {
    "collapsed": false
   },
   "outputs": [
    {
     "name": "stdout",
     "output_type": "stream",
     "text": [
      "\n",
      "\n",
      "[('FastEthernet0', 'unassigned', 'up', 'up'),\n",
      " ('FastEthernet1', 'unassigned', 'up', 'up'),\n",
      " ('FastEthernet3', 'unassigned', 'up', 'up'),\n",
      " ('FastEthernet4', '6.9.4.10', 'up', 'up'),\n",
      " ('NVI0', '6.9.4.10', 'up', 'up'),\n",
      " ('Vlan10', '10.220.88.1', 'up', 'up'),\n",
      " ('Vlan100', '10.220.84.1', 'up', 'up')]\n",
      "\n",
      "\n"
     ]
    }
   ],
   "source": [
    "import pprint\n",
    "\n",
    "\n",
    "show_ip_int_brief = '''\n",
    "Interface       IP-Address  OK? Method  Status  Protocol\n",
    "FastEthernet0   unassigned  YES unset   up      up\n",
    "FastEthernet1   unassigned  YES unset   up      up\n",
    "FastEthernet2   unassigned  YES unset   down    down\n",
    "FastEthernet3   unassigned  YES unset   up      up\n",
    "FastEthernet4   6.9.4.10    YES NVRAM   up      up\n",
    "NVI0            6.9.4.10    YES unset   up      up\n",
    "Tunnel1         16.25.253.2 YES NVRAM   up      down\n",
    "Tunnel2         16.25.253.6 YES NVRAM   up      down\n",
    "Vlan1           unassigned  YES NVRAM   down    down\n",
    "Vlan10          10.220.88.1 YES NVRAM   up      up\n",
    "Vlan20          192.168.0.1 YES NVRAM   down    down\n",
    "Vlan100         10.220.84.1 YES NVRAM   up      up\n",
    "'''\n",
    "\n",
    "# break the long string into a list based on newlines.\n",
    "show_ip_lines = show_ip_int_brief.split(\"\\n\")\n",
    "\n",
    "# Initialize a blank list so that we can use .append() on it\n",
    "show_ip_list = []\n",
    "\n",
    "\n",
    "# Iterate over each of the lines in the 'show ip int brief'\n",
    "for line in show_ip_lines:\n",
    "\n",
    "    # Skip the header line\n",
    "    if 'Interface' in line:\n",
    "        continue\n",
    "\n",
    "    # Break line into words\n",
    "    line_split = line.split()\n",
    "\n",
    "    # Filter out lines that don't have the correct number of fields\n",
    "    if len(line_split) == 6:\n",
    "\n",
    "        # map these variables to the fields in the line_split list\n",
    "        if_name, ip_addr, discard1, discard2, line_status, line_proto = line_split\n",
    "\n",
    "        if (line_status == 'up') and (line_proto == 'up'):\n",
    "            show_ip_list.append((if_name, ip_addr, line_status, line_proto))\n",
    "\n",
    "\n",
    "print (\"\\n\")\n",
    "\n",
    "# Haven't told you about this, but this just prints the list out nicer\n",
    "pprint.pprint(show_ip_list)\n",
    "print (\"\\n\")\n"
   ]
  },
  {
   "cell_type": "markdown",
   "metadata": {},
   "source": [
    "<h3> The Dictionary Type</h3><br>\n",
    "<p>The Python dictionary type is a core data structure of the language.  Nearly all of its other types are implemented as dictionaries.  Other languages may refer to a dictionary as an *associative array* or a *hash*. \n",
    "</p>\n",
    "<br>\n",
    "<p>\n",
    "At it's core, a dictionary is a collection of *key-value* pairs. Key/Value pairs are widely present in information technology.  For example, a configuration file for an application contains a variable and a value that it is set to.  An employee record may contain as its key a unique employee id and as its value an object containing information about the employee, such as the employee's name, address, phone number and other information specifically pertaining to that employee. \n",
    "</p>\n",
    "\n",
    "<p>\n",
    "Where lists use the '[]' notation and tuples use '()', dictionaries use the '{}' notation for initialization.  Dictionaries, do, however, use the familiar list notation for accessing elements of the data structure. \n",
    "Any immutable type, such as integers, strings or tuples can be a key in a dictionary. \n",
    "Here is an example of using dictionaries:\n",
    "</p>\n",
    "\n",
    "<p>\n",
    "\n",
    "There are many methods available to dictionaries.  Most will be discussed in the section on iteration and control flow. \n",
    "\n",
    "<table>\n",
    "<tr>\n",
    "<td>\n",
    "<p style='font-family:courier'>\n",
    "# Let's create our first, empty, dictionary. <br>\n",
    "mydict = {} <br>\n",
    "# Let's create another dictionary with some key value pairs.  Note that the syntax is key:value <br>\n",
    "# Also note that keys *must* be unique. I.e. I can't have two entries with a key value of 1.  <br>\n",
    "<br>\n",
    "mydict1 = {1:'Monday',2:'Tuesday',3:'Wednesday',4:'Thursday',5:'Friday',6:'Saturday',7:'Sunday'}<br>\n",
    "<br>\n",
    "# Let's print out the value associated with key 3 in the second dictionary. Note that the value here in <br>\n",
    "# the [] is *not* an index value, but the value of the key. <br>\n",
    "print (mydict1[3]) <br>\n",
    "\n",
    "# Any immutable type can be a key, for example, integers, strings or even tuples. <br>\n",
    "# Let's see an example of using a tuple as a key.<br>\n",
    "<br>\n",
    "keytuple = ('12345','Braun Brelin','12345 Main Street')<br>\n",
    "mydict[keytuple] = 'Record for Braun Brelin'<br>\n",
    "<br>\n",
    "print (mydict[keytuple])<br>\n",
    "</p>\n",
    "</td>\n",
    "</tr>\n",
    "</table>"
   ]
  },
  {
   "cell_type": "code",
   "execution_count": 1,
   "metadata": {
    "collapsed": false
   },
   "outputs": [
    {
     "data": {
      "text/plain": [
       "['__class__',\n",
       " '__contains__',\n",
       " '__delattr__',\n",
       " '__delitem__',\n",
       " '__dir__',\n",
       " '__doc__',\n",
       " '__eq__',\n",
       " '__format__',\n",
       " '__ge__',\n",
       " '__getattribute__',\n",
       " '__getitem__',\n",
       " '__gt__',\n",
       " '__hash__',\n",
       " '__init__',\n",
       " '__iter__',\n",
       " '__le__',\n",
       " '__len__',\n",
       " '__lt__',\n",
       " '__ne__',\n",
       " '__new__',\n",
       " '__reduce__',\n",
       " '__reduce_ex__',\n",
       " '__repr__',\n",
       " '__setattr__',\n",
       " '__setitem__',\n",
       " '__sizeof__',\n",
       " '__str__',\n",
       " '__subclasshook__',\n",
       " 'clear',\n",
       " 'copy',\n",
       " 'fromkeys',\n",
       " 'get',\n",
       " 'items',\n",
       " 'keys',\n",
       " 'pop',\n",
       " 'popitem',\n",
       " 'setdefault',\n",
       " 'update',\n",
       " 'values']"
      ]
     },
     "execution_count": 1,
     "metadata": {},
     "output_type": "execute_result"
    }
   ],
   "source": [
    "mydict = {}\n",
    "dir(mydict)"
   ]
  },
  {
   "cell_type": "code",
   "execution_count": 9,
   "metadata": {
    "collapsed": false
   },
   "outputs": [
    {
     "name": "stdout",
     "output_type": "stream",
     "text": [
      "Brad Pitt, 1235 Main Street, Anytown, USA, 11111\n"
     ]
    }
   ],
   "source": [
    "Person = {12345:'Braun Brelin,1234 Main Street,Anytown, USA, 11111',\n",
    "          12346:'Brad Pitt, 1235 Main Street, Anytown, USA, 11111',\n",
    "          12348:'Al Pacino,12347 Broadway, New York, USA, 111112'}\n",
    "\n",
    "\n",
    "print (Person[12346])"
   ]
  },
  {
   "cell_type": "code",
   "execution_count": 78,
   "metadata": {
    "collapsed": false
   },
   "outputs": [
    {
     "name": "stdout",
     "output_type": "stream",
     "text": [
      "Wednesday\n",
      "Record for Braun Brelin\n"
     ]
    }
   ],
   "source": [
    "# Let's create our first, empty, dictionary. \n",
    "mydict = {}\n",
    "# Let's create another dictionary with some key value pairs.  Note that the syntax is key:value\n",
    "# Also note that keys *must* be unique. I.e. I can't have two entries with a key value of 1.  \n",
    "\n",
    "mydict1 = {1:'Monday',2:'Tuesday',3:'Wednesday',4:'Thursday',5:'Friday',6:'Saturday',7:'Sunday'}\n",
    "\n",
    "# Let's print out the value associated with key 3 in the second dictionary. Note that the value here in \n",
    "# the [] is *not* an index value, but the value of the key. \n",
    "print (mydict1[3])\n",
    "\n",
    "# Any immutable type can be a key, for example, integers, strings or even tuples.\n",
    "# Let's see an example of using a tuple as a key.\n",
    "\n",
    "keytuple = ('12345','Braun Brelin','12345 Main Street')\n",
    "mydict[keytuple] = 'Record for Braun Brelin'\n",
    "\n",
    "print (mydict[keytuple])"
   ]
  },
  {
   "cell_type": "code",
   "execution_count": null,
   "metadata": {
    "collapsed": true
   },
   "outputs": [],
   "source": []
  },
  {
   "cell_type": "code",
   "execution_count": 12,
   "metadata": {
    "collapsed": false
   },
   "outputs": [
    {
     "name": "stdout",
     "output_type": "stream",
     "text": [
      "No key found\n"
     ]
    }
   ],
   "source": [
    "mydict = {2:'Red',1:'Green',3:'Blue'}\n",
    "if 4 not in mydict:\n",
    "    print ('No key found')\n",
    "else:\n",
    "    print (mydict[4])\n"
   ]
  },
  {
   "cell_type": "code",
   "execution_count": 2,
   "metadata": {
    "collapsed": false
   },
   "outputs": [
    {
     "name": "stdout",
     "output_type": "stream",
     "text": [
      "a\n",
      "b\n",
      "c\n",
      "d\n",
      "e\n",
      "(1, 2, 3, 4, 5)\n",
      "(1, 2, 3, 4, 5)\n",
      "(1, 2, 3, 4, 5)\n",
      "(1, 2, 3, 4, 5)\n",
      "(1, 2, 3, 4, 5)\n",
      "e\n",
      "b\n",
      "c\n",
      "a\n",
      "d\n",
      "5\n",
      "2\n",
      "3\n",
      "1\n",
      "4\n",
      "('e', 5)\n",
      "('b', 2)\n",
      "('c', 3)\n",
      "('a', 1)\n",
      "('d', 4)\n"
     ]
    }
   ],
   "source": [
    "# let's create some iterable sequences. \n",
    "mylist = ['a','b','c','d','e']\n",
    "mytuple = (1,2,3,4,5)\n",
    "mydict = {'a':1,'b':2,'c':3,'d':4,'e':5}\n",
    "\n",
    "# Now let's iterate over them. \n",
    "for element in mylist:\n",
    "    print (element)\n",
    "    \n",
    "for element in mytuple:\n",
    "    print (mytuple)\n",
    "    \n",
    "# Dictionaries are a bit different. You really have three possible options here. \n",
    "# 1.  Iterate over the dictionary keys.\n",
    "# 2.  Iterate over the dictionary values.\n",
    "# 3.  Iterate over the key/value pairs. \n",
    "# Let's see how to do that. \n",
    "\n",
    "# The \n",
    "for key in mydict.keys():\n",
    "    print (key)\n",
    "\n",
    "for value in mydict.values():\n",
    "    print (value)\n",
    "\n",
    "# The items method in this case returns a tuple of the key and value.\n",
    "for key_value in mydict.items():\n",
    "    print (key_value)\n",
    "    \n",
    "\n",
    "    "
   ]
  },
  {
   "cell_type": "code",
   "execution_count": 31,
   "metadata": {
    "collapsed": false
   },
   "outputs": [
    {
     "name": "stdout",
     "output_type": "stream",
     "text": [
      "[0, 1, 2, 3, 4, 5, 6, 7, 8, 9]\n"
     ]
    }
   ],
   "source": [
    "x = range(10)\n",
    "print (list(x))"
   ]
  },
  {
   "cell_type": "markdown",
   "metadata": {},
   "source": [
    "<h3> Using the range and enumerate built in functions </h3><br>\n",
    "In languages other than Python, a common pattern for iterating over a collection is to use the concept of \n",
    "a *numeric for* loop.  In Python this practice is generally frowned on as being non-Pythonic and more difficult to \n",
    "read.  However, there are times when you will need to do things with a numeric for loop.  Python provides some methods to assist.\n",
    "\n",
    "The first one is the *range()* function.  In Python 3 the range function returns an iterator which will return the numbers specified in the parameter list.  For example:\n",
    "\n",
    "<table align='left'>\n",
    "<tr>\n",
    "<td>\n",
    "<p style='font-family:courier'>\n",
    "\\# Let's iterate over the integers from 1 to 10. <br>\n",
    "for num in range(1,11):<br>\n",
    "&nbsp;&nbsp;&nbsp;&nbsp;print (num)\n",
    "</p>\n",
    "</td>\n",
    "</tr>\n",
    "</table>\n",
    "<br><br><br><br><br><br>\n",
    "Note that the range function takes three parameters.  \n",
    "- A starting point\n",
    "- An ending point - 1, \n",
    "  i.e. passing in a value of 11 means that you want range to finish at the number 10.\n",
    "- A stepping value.  \n",
    "  By default, range will return one integer after another.  If you want to change the step that\n",
    "  Python will return (ex. return every second value), supply this parameter.\n",
    " \n",
    "The *enumerate()* function will return a list of tuples consisting of an index number, i.e. the position of a value, and the \n",
    "value itself.  \n",
    " \n",
    "<table align='left'>\n",
    "<tr>\n",
    "<td>\n",
    "<p style='font-family:courier'>\n",
    "\\# Let's create a list of strings <br>\n",
    "stringlist = ['The','quick','red','fox','jumped','over','the','lazy','brown','dog']<br>\n",
    "for element in enumerate(stringlist):<br>\n",
    "&nbsp;&nbsp;&nbsp;&nbsp;print ('element position: ',element[0],' element value: ',element[1])<br>\n",
    "</p>\n",
    "</td>\n",
    "</tr>\n",
    "</table>\n",
    "<br><br><br><br><br><br>\n"
   ]
  },
  {
   "cell_type": "code",
   "execution_count": 17,
   "metadata": {
    "collapsed": false
   },
   "outputs": [
    {
     "name": "stdout",
     "output_type": "stream",
     "text": [
      "1\n",
      "2\n",
      "3\n",
      "4\n",
      "5\n",
      "6\n",
      "7\n",
      "8\n",
      "9\n",
      "10\n",
      "element position:  0  element value:  The\n",
      "element position:  1  element value:  quick\n",
      "element position:  2  element value:  red\n",
      "element position:  3  element value:  fox\n",
      "element position:  4  element value:  jumped\n",
      "element position:  5  element value:  over\n",
      "element position:  6  element value:  the\n",
      "element position:  7  element value:  lazy\n",
      "element position:  8  element value:  brown\n",
      "element position:  9  element value:  dog\n"
     ]
    }
   ],
   "source": [
    "# Let's iterate over the integers from 1 to 10. \n",
    "for num in range(1,11):\n",
    "    print (num)\n",
    "# Let's create a list of strings \n",
    "stringlist = ['The','quick','red','fox','jumped','over','the','lazy','brown','dog']\n",
    "for element in enumerate(stringlist):\n",
    "    print ('element position: ',element[0],' element value: ',element[1])"
   ]
  },
  {
   "cell_type": "code",
   "execution_count": 18,
   "metadata": {
    "collapsed": false,
    "scrolled": true
   },
   "outputs": [
    {
     "name": "stdout",
     "output_type": "stream",
     "text": [
      "{1: 'Mercury', 2: 'Venus', 3: 'Earth', 4: 'Mars', 5: 'Jupiter', 6: 'Saturn', 7: 'Uranus', 8: 'Neptune'}\n"
     ]
    }
   ],
   "source": [
    "thekeys=[1,2,3,4,5,6,7,8,9]\n",
    "thevalues = ['Mercury','Venus','Earth','Mars','Jupiter','Saturn','Uranus','Neptune']\n",
    "theplanets = zip(thekeys,thevalues)\n",
    "tmp = list(theplanets)\n",
    "planetdict =dict(tmp)\n",
    "print (planetdict)"
   ]
  },
  {
   "cell_type": "markdown",
   "metadata": {},
   "source": [
    "The next looping construct available in Python is the *while* loop.  Whereas a for loop iterates over a specific sequence, a while loop will iterate until some defined expression is false, at which point the while loop will terminate. Let's take a look at some examples.\n",
    "\n",
    "<table align='left'>\n",
    "<tr>\n",
    "<td>\n",
    "<p style='font-family:courier'>\n",
    "x = 10<br>\n",
    "# As long as the expression 'x > 0' is true, the while loop will continue.<br> \n",
    "while x > 0:<br>\n",
    "&nbsp;&nbsp;&nbsp;&nbsp;print (x)<br>\n",
    "# We need to make sure that at some point, x is not greater than zero,<br> \n",
    "# otherwise this loop will run forever.<br> \n",
    "&nbsp;&nbsp;&nbsp;&nbsp;x -=1<br>\n",
    "</p>\n",
    "</td>\n",
    "</tr>\n",
    "</table>\n"
   ]
  },
  {
   "cell_type": "code",
   "execution_count": 3,
   "metadata": {
    "collapsed": false
   },
   "outputs": [
    {
     "name": "stdout",
     "output_type": "stream",
     "text": [
      "10\n",
      "9\n",
      "8\n",
      "7\n",
      "6\n",
      "5\n",
      "4\n",
      "3\n",
      "2\n",
      "1\n"
     ]
    }
   ],
   "source": [
    "x = 10\n",
    "# As long as the expression 'x > 0' is true, the while loop will continue. \n",
    "while x > 0:\n",
    "    print (x)\n",
    "    # We need to make sure that at some point, x is not greater than zero, otherwise\n",
    "    # this loop will run forever. \n",
    "    x -=1 "
   ]
  },
  {
   "cell_type": "code",
   "execution_count": 34,
   "metadata": {
    "collapsed": false
   },
   "outputs": [
    {
     "name": "stdout",
     "output_type": "stream",
     "text": [
      "['192', '168', '100', '1']\n"
     ]
    }
   ],
   "source": [
    "ipaddr = '192.168.100.1'\n",
    "octets = ipaddr.split('.')\n",
    "print (octets)"
   ]
  },
  {
   "cell_type": "code",
   "execution_count": 33,
   "metadata": {
    "collapsed": false
   },
   "outputs": [
    {
     "name": "stdout",
     "output_type": "stream",
     "text": [
      "1\n",
      "2\n",
      "4\n",
      "5\n"
     ]
    }
   ],
   "source": [
    "myipaddr = '256.0.1.2'\n",
    "\n",
    "octets = myipaddr.split('.')\n",
    "for octet in octets:\n",
    "    if octet > 255:\n",
    "        break\n",
    "else:\n",
    "    print ('Ipaddr is good!')\n",
    "    \n",
    "\n",
    "\n"
   ]
  },
  {
   "cell_type": "markdown",
   "metadata": {},
   "source": [
    "### Quick Exercise:\n",
    "1. The previous quick exercise asked for the fibonacci sequence.  Re-do this exercise, however use a loop to calculate the first 10 elements of the fibonacci sequence."
   ]
  },
  {
   "cell_type": "code",
   "execution_count": 42,
   "metadata": {
    "collapsed": false
   },
   "outputs": [
    {
     "name": "stdout",
     "output_type": "stream",
     "text": [
      "[1, 4, 9, 16, 25]\n"
     ]
    }
   ],
   "source": [
    "mylist = [1,2,3,4,5]\n",
    "mysquares = [num ** 2 for num in mylist]\n",
    "print (mysquares)"
   ]
  },
  {
   "cell_type": "markdown",
   "metadata": {},
   "source": [
    "# Exercise 4.\n",
    "## Part 1."
   ]
  },
  {
   "cell_type": "markdown",
   "metadata": {},
   "source": [
    "Create a program that converts the following uptime strings to a time in seconds.<br>\n",
    "uptime1 = 'twb-sf-881 uptime is 6 weeks, 4 days, 2 hours, 25 minutes'<br>\n",
    "uptime2 = '3750RJ uptime is 1 hour, 29 minutes'<br>\n",
    "uptime3 = 'CATS3560 uptime is 8 weeks, 4 days, 18 hours, 16 minutes'<br>\n",
    "uptime4 = 'rtr1 uptime is 5 years, 18 weeks, 8 hours, 23 minutes'<br>\n",
    "For each of these strings store the uptime in a dictionary using the device name<br>\n",
    "as the key.<br>\n",
    "During this conversion process, you will have to convert strings to integers.<br>\n",
    "For these string to integer conversions use try/except to catch any string to <br>\n",
    "integer conversion exceptions. <br>\n",
    "For example: <br>\n",
    "int('5') works fine <br>\n",
    "int('5 years') generates a ValueError exception. <br>\n",
    "Print the dictionary to standard output.\n"
   ]
  },
  {
   "cell_type": "markdown",
   "metadata": {},
   "source": [
    "## Part 2."
   ]
  },
  {
   "cell_type": "markdown",
   "metadata": {},
   "source": []
  },
  {
   "cell_type": "markdown",
   "metadata": {},
   "source": [
    "\n",
    "Parse the following CDP data to obtain the following information:<br>\n",
    "hostname, ip, model, vendor, and device_type (device_type will be either<br>\n",
    "'router', 'switch', or 'unknown').<br>\n",
    "From this data create a dictionary of all the network devices in the network.<br>\n",
    "The network_devices dictionary should have the following format:<br>\n",
    "network_devices = {<br>\n",
    "     'SW1': { 'ip': '10.1.1.22',<br>\n",
    "                'model': 'WS-C2950-24',<br>\n",
    "                'vendor': 'cisco',<br>\n",
    "                'device_type': 'switch' },<br>\n",
    "     'R1': { 'ip': '10.1.1.1',<br>\n",
    "                'model': '881',<br>\n",
    "                'vendor': 'Cisco',<br>\n",
    "                'device_type': 'router' },<br>\n",
    " }<br>\n",
    "For output to this exercise, print network_devices to standard output."
   ]
  },
  {
   "cell_type": "markdown",
   "metadata": {},
   "source": [
    "### Data for the exercise for Part 2. "
   ]
  },
  {
   "cell_type": "markdown",
   "metadata": {},
   "source": []
  },
  {
   "cell_type": "code",
   "execution_count": 27,
   "metadata": {
    "collapsed": true
   },
   "outputs": [],
   "source": [
    "sw1_show_cdp_neighbors = '''\n",
    "SW1>show cdp neighbors\n",
    "Capability Codes: R - Router, T - Trans Bridge, B - Source Route Bridge\n",
    "                                 S - Switch, H - Host, I - IGMP, r - Repeater, P - Phone\n",
    "Device ID            Local Intrfce        Holdtme        Capability        Platform    Port ID\n",
    "R1                    Fas 0/11              153            R S I           881          Fas 1\n",
    "R2                    Fas 0/12              123            R S I           881          Fas 1\n",
    "R3                    Fas 0/13              129            R S I           881          Fas 1\n",
    "R4                    Fas 0/14              173            R S I           881          Fas 1\n",
    "R5                    Fas 0/15              144            R S I           881          Fas 1\n",
    "'''\n",
    "\n",
    "sw1_show_cdp_neighbors_detail = '''\n",
    "SW1> show cdp neighbors detail\n",
    "--------------------------\n",
    "Device ID: R1\n",
    "Entry address(es):\n",
    "   IP address: 10.1.1.1\n",
    "Platform: Cisco 881, Capabilities: Router Switch IGMP\n",
    "Interface: FastEthernet0/11, Port ID (outgoing port): FastEthernet1\n",
    "Holdtime: 153 sec\n",
    "Version :\n",
    "Cisco IOS Software, C880 Software (C880DATA-UNIVERSALK9-M), Version 15.0(1)M4, RELEASE SOFTWARE (fc1)\n",
    "Technical Support: http://www.cisco.com/techsupport\n",
    "Copyright (c) 1986-2010 by Cisco Systems, Inc.\n",
    "Compiled Fri 29-Oct-10 00:02 by prod_rel_team\n",
    "advertisement version: 2\n",
    "VTP Management Domain: ''\n",
    "Native VLAN: 1\n",
    "Duplex: full\n",
    "Management address(es):\n",
    "--------------------------\n",
    "Device ID: R2\n",
    "Entry address(es):\n",
    "   IP address: 10.1.1.2\n",
    "Platform: Cisco 881, Capabilities: Router Switch IGMP\n",
    "Interface: FastEthernet0/12, Port ID (outgoing port): FastEthernet1\n",
    "Holdtime: 123 sec\n",
    "Version :\n",
    "Cisco IOS Software, C880 Software (C880DATA-UNIVERSALK9-M), Version 15.0(1)M4, RELEASE SOFTWARE (fc1)\n",
    "Technical Support: http://www.cisco.com/techsupport\n",
    "Copyright (c) 1986-2010 by Cisco Systems, Inc.\n",
    "Compiled Fri 29-Oct-10 00:02 by prod_rel_team\n",
    "advertisement version: 2\n",
    "VTP Management Domain: ''\n",
    "Native VLAN: 1\n",
    "Duplex: full\n",
    "Management address(es):\n",
    "--------------------------\n",
    "Device ID: R3\n",
    "Entry address(es):\n",
    "   IP address: 10.1.1.3\n",
    "Platform: Cisco 881, Capabilities: Router Switch IGMP\n",
    "Interface: FastEthernet0/13, Port ID (outgoing port): FastEthernet1\n",
    "Holdtime: 129 sec\n",
    "Version :\n",
    "Cisco IOS Software, C880 Software (C880DATA-UNIVERSALK9-M), Version 15.0(1)M4, RELEASE SOFTWARE (fc1)\n",
    "Technical Support: http://www.cisco.com/techsupport\n",
    "Copyright (c) 1986-2010 by Cisco Systems, Inc.\n",
    "Compiled Fri 29-Oct-10 00:02 by prod_rel_team\n",
    "advertisement version: 2\n",
    "VTP Management Domain: ''\n",
    "Native VLAN: 1\n",
    "Duplex: full\n",
    "Management address(es):\n",
    "--------------------------\n",
    "Device ID: R4\n",
    "Entry address(es):\n",
    "   IP address: 10.1.1.4\n",
    "Platform: Cisco 881, Capabilities: Router Switch IGMP\n",
    "Interface: FastEthernet0/14, Port ID (outgoing port): FastEthernet1\n",
    "Holdtime: 173 sec\n",
    "Version :\n",
    "Cisco IOS Software, C880 Software (C880DATA-UNIVERSALK9-M), Version 15.0(1)M4, RELEASE SOFTWARE (fc1)\n",
    "Technical Support: http://www.cisco.com/techsupport\n",
    "Copyright (c) 1986-2010 by Cisco Systems, Inc.\n",
    "Compiled Fri 29-Oct-10 00:02 by prod_rel_team\n",
    "advertisement version: 2\n",
    "VTP Management Domain: ''\n",
    "Native VLAN: 1\n",
    "Duplex: full\n",
    "Management address(es):\n",
    "--------------------------\n",
    "Device ID: R5\n",
    "Entry address(es):\n",
    "   IP address: 10.1.1.5\n",
    "Platform: Cisco 881, Capabilities: Router Switch IGMP\n",
    "Interface: FastEthernet0/15, Port ID (outgoing port): FastEthernet1\n",
    "Holdtime: 144 sec\n",
    "Version :\n",
    "Cisco IOS Software, C880 Software (C880DATA-UNIVERSALK9-M), Version 15.0(1)M4, RELEASE SOFTWARE (fc1)\n",
    "Technical Support: http://www.cisco.com/techsupport\n",
    "Copyright (c) 1986-2010 by Cisco Systems, Inc.\n",
    "Compiled Fri 29-Oct-10 00:02 by prod_rel_team\n",
    "advertisement version: 2\n",
    "VTP Management Domain: ''\n",
    "Native VLAN: 1\n",
    "Duplex: full\n",
    "Management address(es):\n",
    "'''\n",
    "\n",
    "r1_show_cdp_neighbors = '''\n",
    "R1>show cdp neighbors \n",
    "Capability Codes: R - Router, T - Trans Bridge, B - Source Route Bridge\n",
    "                  S - Switch, H - Host, I - IGMP, r - Repeater\n",
    "Device ID        Local Intrfce     Holdtme    Capability  Platform  Port ID\n",
    "SW1              Fas 1              150          S I      WS-C2950- Fas 0/11\n",
    "'''\n",
    "\n",
    "r1_show_cdp_neighbors_detail = '''\n",
    "R1>show cdp neighbors detail \n",
    "-------------------------\n",
    "Device ID: SW1\n",
    "Entry address(es): \n",
    "  IP address: 10.1.1.22\n",
    "Platform: cisco WS-C2950-24,  Capabilities: Switch IGMP \n",
    "Interface: FastEthernet1,  Port ID (outgoing port): FastEthernet0/11\n",
    "Holdtime : 145 sec\n",
    "Version :\n",
    "Cisco Internetwork Operating System Software \n",
    "IOS (tm) C2950 Software (C2950-I6Q4L2-M), Version 12.1(22)EA8a, RELEASE SOFTWARE (fc1)\n",
    "Copyright (c) 1986-2006 by cisco Systems, Inc.\n",
    "Compiled Fri 28-Jul-06 15:16 by weiliu\n",
    "advertisement version: 2\n",
    "Protocol Hello:  OUI=0x00000C, Protocol ID=0x0112; payload len=27, value=00000000FFFFFFFF010221FF0000000000000019E845CE80FF0000\n",
    "VTP Management Domain: ''\n",
    "Native VLAN: 1\n",
    "Duplex: full\n",
    "'''\n",
    "\n",
    "r2_show_cdp_neighbors = '''\n",
    "R2>show cdp neighbors \n",
    "Capability Codes: R - Router, T - Trans Bridge, B - Source Route Bridge\n",
    "                  S - Switch, H - Host, I - IGMP, r - Repeater\n",
    "Device ID        Local Intrfce     Holdtme    Capability  Platform  Port ID\n",
    "SW1              Fas 1              150          S I      WS-C2950- Fas 0/12\n",
    "'''\n",
    "\n",
    "r2_show_cdp_neighbors_detail = '''\n",
    "R2>show cdp neighbors detail \n",
    "-------------------------\n",
    "Device ID: SW1\n",
    "Entry address(es): \n",
    "  IP address: 10.1.1.22\n",
    "Platform: cisco WS-C2950-24,  Capabilities: Switch IGMP \n",
    "Interface: FastEthernet1,  Port ID (outgoing port): FastEthernet0/12\n",
    "Holdtime : 145 sec\n",
    "Version :\n",
    "Cisco Internetwork Operating System Software \n",
    "IOS (tm) C2950 Software (C2950-I6Q4L2-M), Version 12.1(22)EA8a, RELEASE SOFTWARE (fc1)\n",
    "Copyright (c) 1986-2006 by cisco Systems, Inc.\n",
    "Compiled Fri 28-Jul-06 15:16 by weiliu\n",
    "advertisement version: 2\n",
    "Protocol Hello:  OUI=0x00000C, Protocol ID=0x0112; payload len=27, value=00000000FFFFFFFF010221FF0000000000000019E845CE80FF0000\n",
    "VTP Management Domain: ''\n",
    "Native VLAN: 1\n",
    "Duplex: full\n",
    "'''\n",
    "\n",
    "r3_show_cdp_neighbors = '''\n",
    "R3>show cdp neighbors \n",
    "Capability Codes: R - Router, T - Trans Bridge, B - Source Route Bridge\n",
    "                  S - Switch, H - Host, I - IGMP, r - Repeater\n",
    "Device ID        Local Intrfce     Holdtme    Capability  Platform  Port ID\n",
    "SW1              Fas 1              150          S I      WS-C2950- Fas 0/13\n",
    "'''\n",
    "\n",
    "r3_show_cdp_neighbors_detail = '''\n",
    "R3>show cdp neighbors detail \n",
    "-------------------------\n",
    "Device ID: SW1\n",
    "Entry address(es): \n",
    "  IP address: 10.1.1.22\n",
    "Platform: cisco WS-C2950-24,  Capabilities: Switch IGMP \n",
    "Interface: FastEthernet1,  Port ID (outgoing port): FastEthernet0/13\n",
    "Holdtime : 145 sec\n",
    "Version :\n",
    "Cisco Internetwork Operating System Software \n",
    "IOS (tm) C2950 Software (C2950-I6Q4L2-M), Version 12.1(22)EA8a, RELEASE SOFTWARE (fc1)\n",
    "Copyright (c) 1986-2006 by cisco Systems, Inc.\n",
    "Compiled Fri 28-Jul-06 15:16 by weiliu\n",
    "advertisement version: 2\n",
    "Protocol Hello:  OUI=0x00000C, Protocol ID=0x0112; payload len=27, value=00000000FFFFFFFF010221FF0000000000000019E845CE80FF0000\n",
    "VTP Management Domain: ''\n",
    "Native VLAN: 1\n",
    "Duplex: full\n",
    "'''\n",
    "\n",
    "r4_show_cdp_neighbors = '''\n",
    "R4>show cdp neighbors \n",
    "Capability Codes: R - Router, T - Trans Bridge, B - Source Route Bridge\n",
    "                  S - Switch, H - Host, I - IGMP, r - Repeater\n",
    "Device ID        Local Intrfce     Holdtme    Capability  Platform  Port ID\n",
    "SW1              Fas 1              150          S I      WS-C2950- Fas 0/14\n",
    "'''\n",
    "\n",
    "r4_show_cdp_neighbors_detail = '''\n",
    "R4>show cdp neighbors detail \n",
    "-------------------------\n",
    "Device ID: SW1\n",
    "Entry address(es): \n",
    "  IP address: 10.1.1.22\n",
    "Platform: cisco WS-C2950-24,  Capabilities: Switch IGMP \n",
    "Interface: FastEthernet1,  Port ID (outgoing port): FastEthernet0/14\n",
    "Holdtime : 145 sec\n",
    "Version :\n",
    "Cisco Internetwork Operating System Software \n",
    "IOS (tm) C2950 Software (C2950-I6Q4L2-M), Version 12.1(22)EA8a, RELEASE SOFTWARE (fc1)\n",
    "Copyright (c) 1986-2006 by cisco Systems, Inc.\n",
    "Compiled Fri 28-Jul-06 15:16 by weiliu\n",
    "advertisement version: 2\n",
    "Protocol Hello:  OUI=0x00000C, Protocol ID=0x0112; payload len=27, value=00000000FFFFFFFF010221FF0000000000000019E845CE80FF0000\n",
    "VTP Management Domain: ''\n",
    "Native VLAN: 1\n",
    "Duplex: full\n",
    "'''\n",
    "\n",
    "r5_show_cdp_neighbors = '''\n",
    "R5>show cdp neighbors \n",
    "Capability Codes: R - Router, T - Trans Bridge, B - Source Route Bridge\n",
    "                  S - Switch, H - Host, I - IGMP, r - Repeater\n",
    "Device ID        Local Intrfce     Holdtme    Capability  Platform  Port ID\n",
    "SW1              Fas 1              150          S I      WS-C2950- Fas 0/15\n",
    "'''\n",
    "\n",
    "r5_show_cdp_neighbors_detail = '''\n",
    "R5>show cdp neighbors detail \n",
    "-------------------------\n",
    "Device ID: SW1\n",
    "Entry address(es): \n",
    "  IP address: 10.1.1.22\n",
    "Platform: cisco WS-C2950-24,  Capabilities: Switch IGMP \n",
    "Interface: FastEthernet1,  Port ID (outgoing port): FastEthernet0/15\n",
    "Holdtime : 145 sec\n",
    "Version :\n",
    "Cisco Internetwork Operating System Software \n",
    "IOS (tm) C2950 Software (C2950-I6Q4L2-M), Version 12.1(22)EA8a, RELEASE SOFTWARE (fc1)\n",
    "Copyright (c) 1986-2006 by cisco Systems, Inc.\n",
    "Compiled Fri 28-Jul-06 15:16 by weiliu\n",
    "advertisement version: 2\n",
    "Protocol Hello:  OUI=0x00000C, Protocol ID=0x0112; payload len=27, value=00000000FFFFFFFF010221FF0000000000000019E845CE80FF0000\n",
    "VTP Management Domain: ''\n",
    "Native VLAN: 1\n",
    "Duplex: full\n",
    "'''"
   ]
  },
  {
   "cell_type": "code",
   "execution_count": 29,
   "metadata": {
    "collapsed": false
   },
   "outputs": [
    {
     "name": "stdout",
     "output_type": "stream",
     "text": [
      "\n",
      "R5>show cdp neighbors detail \n",
      "-------------------------\n",
      "Device ID: SW1\n",
      "Entry address(es): \n",
      "  IP address: 10.1.1.22\n",
      "Platform: cisco WS-C2950-24,  Capabilities: Switch IGMP \n",
      "Interface: FastEthernet1,  Port ID (outgoing port): FastEthernet0/15\n",
      "Holdtime : 145 sec\n",
      "Version :\n",
      "Cisco Internetwork Operating System Software \n",
      "IOS (tm) C2950 Software (C2950-I6Q4L2-M), Version 12.1(22)EA8a, RELEASE SOFTWARE (fc1)\n",
      "Copyright (c) 1986-2006 by cisco Systems, Inc.\n",
      "Compiled Fri 28-Jul-06 15:16 by weiliu\n",
      "advertisement version: 2\n",
      "Protocol Hello:  OUI=0x00000C, Protocol ID=0x0112; payload len=27, value=00000000FFFFFFFF010221FF0000000000000019E845CE80FF0000\n",
      "VTP Management Domain: ''\n",
      "Native VLAN: 1\n",
      "Duplex: full\n",
      "\n"
     ]
    }
   ],
   "source": [
    "print  (r5_show_cdp_neighbors_detail)"
   ]
  },
  {
   "cell_type": "markdown",
   "metadata": {},
   "source": [
    "# The solutions are below"
   ]
  },
  {
   "cell_type": "markdown",
   "metadata": {},
   "source": [
    "<img src='graphics/mario.jpg'> </img>"
   ]
  },
  {
   "cell_type": "code",
   "execution_count": null,
   "metadata": {
    "collapsed": true
   },
   "outputs": [],
   "source": []
  },
  {
   "cell_type": "code",
   "execution_count": null,
   "metadata": {
    "collapsed": true
   },
   "outputs": [],
   "source": []
  },
  {
   "cell_type": "markdown",
   "metadata": {},
   "source": [
    "### Part 1"
   ]
  },
  {
   "cell_type": "code",
   "execution_count": null,
   "metadata": {
    "collapsed": true
   },
   "outputs": [],
   "source": [
    "import pprint\n",
    "\n",
    "DEBUG = False\n",
    "\n",
    "# Easier to store these as constants\n",
    "MINUTE_SECONDS = 60\n",
    "HOUR_SECONDS = 60 * MINUTE_SECONDS\n",
    "DAY_SECONDS = 24 * HOUR_SECONDS\n",
    "WEEK_SECONDS = 7 * DAY_SECONDS\n",
    "YEAR_SECONDS = 365 * DAY_SECONDS\n",
    "\n",
    "\n",
    "uptime1 = 'twb-sf-881 uptime is 6 weeks, 4 days, 2 hours, 25 minutes'\n",
    "uptime2 = '3750RJ uptime is 1 hour, 29 minutes'\n",
    "uptime3 = 'CATS3560 uptime is 8 weeks, 4 days, 18 hours, 16 minutes'\n",
    "uptime4 = 'rtr1 uptime is 5 years, 18 weeks, 8 hours, 23 minutes'\n",
    "\n",
    "uptime_dict = {}\n",
    "uptime_dict2 = {}\n",
    "\n",
    "for uptime in (uptime1, uptime2, uptime3, uptime4):\n",
    "\n",
    "    uptime_fields = uptime.split(',')\n",
    "\n",
    "    # Extract the hostname from uptime_fields\n",
    "    (hostname, time_field1) = uptime_fields[0].split(' uptime is ')\n",
    "    uptime_fields[0] = time_field1\n",
    "\n",
    "    if DEBUG:\n",
    "        print hostname\n",
    "        print uptime_fields\n",
    "\n",
    "\n",
    "    # Two solutions - solution1: long but easier to read\n",
    "    uptime_seconds = 0\n",
    "    for time_field in uptime_fields:\n",
    "\n",
    "        if 'year' in time_field:\n",
    "            (years, junk) = time_field.split(' year')\n",
    "            try:\n",
    "                uptime_seconds += int(years) * YEAR_SECONDS\n",
    "            except ValueError:\n",
    "                print \"Error, during string conversion to integer\"\n",
    "\n",
    "        elif 'week' in time_field:\n",
    "            (weeks, junk) = time_field.split(' week')\n",
    "            try:\n",
    "                uptime_seconds += int(weeks) * WEEK_SECONDS\n",
    "            except ValueError:\n",
    "                print \"Error, during string conversion to integer\"\n",
    "\n",
    "        elif 'day' in time_field:\n",
    "            (days, junk) = time_field.split(' day')\n",
    "            try:\n",
    "                uptime_seconds += int(days) * DAY_SECONDS\n",
    "            except ValueError:\n",
    "                print \"Error, during string conversion to integer\"\n",
    "\n",
    "        elif 'hour' in time_field:\n",
    "            (hours, junk) = time_field.split(' hour')\n",
    "            try:\n",
    "                uptime_seconds += int(hours) * HOUR_SECONDS\n",
    "            except ValueError:\n",
    "                print \"Error, during string conversion to integer\"\n",
    "\n",
    "        elif 'minute' in time_field:\n",
    "            (minutes, junk) = time_field.split(' minute')\n",
    "            try:\n",
    "                uptime_seconds += int(minutes) * MINUTE_SECONDS\n",
    "            except ValueError:\n",
    "                print \"Error, during string conversion to integer\"\n",
    "\n",
    "    uptime_dict[hostname] = uptime_seconds\n",
    "\n",
    "\n",
    "    # Two solutions - solution2: the pattern in solution1 is repeated multiple\n",
    "    # times (use a for loop instead)\n",
    "    uptime_seconds2 = 0\n",
    "    for time_field in uptime_fields:\n",
    "        for string_pattern, time_factor in ((' year', YEAR_SECONDS), (' week', WEEK_SECONDS),\n",
    "                                            (' day', DAY_SECONDS), (' hour', HOUR_SECONDS),\n",
    "                                            (' minute', MINUTE_SECONDS)):\n",
    "            if string_pattern in time_field:\n",
    "                (the_time, junk) = time_field.split(string_pattern)\n",
    "                try:\n",
    "                    uptime_seconds2 += int(the_time) * time_factor\n",
    "                except ValueError:\n",
    "                    print \"Error, during string conversion to integer\"\n",
    "\n",
    "    uptime_dict2[hostname] = uptime_seconds2\n",
    "\n",
    "\n",
    "\n",
    "# Do the final printing to standard output\n",
    "print \"\\nMethod1:\"\n",
    "pprint.pprint(uptime_dict)\n",
    "print \"\\nMethod2:\"\n",
    "pprint.pprint(uptime_dict2)\n",
    "print\n"
   ]
  },
  {
   "cell_type": "markdown",
   "metadata": {},
   "source": [
    "### Solution for Part 2."
   ]
  },
  {
   "cell_type": "code",
   "execution_count": 31,
   "metadata": {
    "collapsed": false
   },
   "outputs": [
    {
     "name": "stdout",
     "output_type": "stream",
     "text": [
      "\n",
      "\n",
      "{'R1': {'device_type': 'router',\n",
      "        'ip': '10.1.1.1',\n",
      "        'model': '881',\n",
      "        'vendor': 'Cisco'},\n",
      " 'R2': {'device_type': 'router',\n",
      "        'ip': '10.1.1.2',\n",
      "        'model': '881',\n",
      "        'vendor': 'Cisco'},\n",
      " 'R3': {'device_type': 'router',\n",
      "        'ip': '10.1.1.3',\n",
      "        'model': '881',\n",
      "        'vendor': 'Cisco'},\n",
      " 'R4': {'device_type': 'router',\n",
      "        'ip': '10.1.1.4',\n",
      "        'model': '881',\n",
      "        'vendor': 'Cisco'},\n",
      " 'R5': {'device_type': 'router',\n",
      "        'ip': '10.1.1.5',\n",
      "        'model': '881',\n",
      "        'vendor': 'Cisco'},\n",
      " 'SW1': {'device_type': 'switch',\n",
      "         'ip': '10.1.1.22',\n",
      "         'model': 'WS-C2950-24',\n",
      "         'vendor': 'cisco'}}\n",
      "\n",
      "\n"
     ]
    }
   ],
   "source": [
    "cdp_neighbors = (\n",
    "    sw1_show_cdp_neighbors_detail,\n",
    "    r1_show_cdp_neighbors_detail,\n",
    "    r2_show_cdp_neighbors_detail,\n",
    "    r3_show_cdp_neighbors_detail,\n",
    "    r4_show_cdp_neighbors_detail,\n",
    "    r5_show_cdp_neighbors_detail,\n",
    ")\n",
    "\n",
    "network_devices = {}\n",
    "\n",
    "\n",
    "# Iterate over each cdp_neighbor_details string\n",
    "for cdp_data in cdp_neighbors:\n",
    "\n",
    "    # Break the cdp neighbor data up into lines\n",
    "    cdp_data_line = cdp_data.split(\"\\n\")\n",
    "\n",
    "    # Reset hostname for each cdp output\n",
    "    hostname = ''\n",
    "\n",
    "    # Iterate over each line of the cdp data\n",
    "    for line in cdp_data_line:\n",
    "\n",
    "        # As a precaution set hostname to '' on every device divider\n",
    "        if '----------------' in line:\n",
    "            hostname = ''\n",
    "\n",
    "        # Processing hostname\n",
    "        if 'Device ID: ' in line:\n",
    "            (junk, hostname) = line.split('Device ID: ')\n",
    "            hostname = hostname.strip()\n",
    "\n",
    "            if not hostname in network_devices:\n",
    "                network_devices[hostname] = {}\n",
    "\n",
    "        # Processing IP\n",
    "        if 'IP address: ' in line:\n",
    "            (junk, ip) = line.split('IP address: ')\n",
    "            ip = ip.strip()\n",
    "\n",
    "            if hostname:\n",
    "                network_devices[hostname]['ip'] = ip\n",
    "\n",
    "        # Process vendor, model, and device_type\n",
    "        if 'Platform: ' in line:\n",
    "\n",
    "            (platform, capabilities) = line.split(',')\n",
    "\n",
    "            # Process vendor and model\n",
    "            (junk, model_vendor) = platform.split(\"Platform: \")\n",
    "            (vendor, model) = model_vendor.split()\n",
    "\n",
    "            # Process device_type\n",
    "            (junk, capabilities) = capabilities.split(\"Capabilities: \")\n",
    "            if 'Router' in capabilities:\n",
    "                device_type = 'router'\n",
    "            elif 'Switch' in capabilities:\n",
    "                device_type = 'switch'\n",
    "            else:\n",
    "                device_type = 'unknown'\n",
    "\n",
    "            if hostname:\n",
    "                network_devices[hostname]['vendor'] = vendor\n",
    "                network_devices[hostname]['model'] = model\n",
    "                network_devices[hostname]['device_type'] = device_type\n",
    "\n",
    "\n",
    "print ('\\n')\n",
    "pprint.pprint(network_devices)\n",
    "print ('\\n')\n"
   ]
  },
  {
   "cell_type": "markdown",
   "metadata": {},
   "source": [
    "<h3>Functions</h3>\n",
    "<br>\n",
    "<p>\n",
    "A function is simply a collection of statements that you would like to be able to run more than once.  \n",
    "Functions provide a way to organize your program to make it more readable, scalable and maintainable. \n",
    "As with all other Python types, functions are defined as *objects*. Functions have two major properties. \n",
    "<br>\n",
    "- They can take a list of parameterized values.\n",
    "- They can return a value. \n",
    "\n",
    "\n",
    "We can define a function with the *def* keyword.  For example:<br>\n",
    "<table width = '400px' align = 'left'>\n",
    "<tr>\n",
    "<td>\n",
    "<p style='font-family:courier'>\n",
    "\\# Here we declare a function called myfunction<br>\n",
    "def myfunction(a,b,c):<br>\n",
    "&nbsp;&nbsp;&nbsp;&nbsp;return a + b + c<br><br>\n",
    "\\# And here we call it. <br>\n",
    "print(myfunction(1,2,3))\n",
    "</p>\n",
    "</td>\n",
    "</tr>\n",
    "</table>\n",
    "<br><br><br><br><br>\n",
    "<p>\n"
   ]
  },
  {
   "cell_type": "code",
   "execution_count": 12,
   "metadata": {
    "collapsed": false
   },
   "outputs": [
    {
     "name": "stdout",
     "output_type": "stream",
     "text": [
      "4\n",
      "2\n"
     ]
    }
   ],
   "source": [
    "x = 2\n",
    "def square(x):\n",
    "    x =  x ** 2\n",
    "    return (x)\n",
    "\n",
    "print (square(x))\n",
    "print (x)"
   ]
  },
  {
   "cell_type": "code",
   "execution_count": 19,
   "metadata": {
    "collapsed": false
   },
   "outputs": [
    {
     "name": "stdout",
     "output_type": "stream",
     "text": [
      "6\n"
     ]
    }
   ],
   "source": [
    "# Here we declare a function called myfunction\n",
    "def myfunction(a,b,c):\n",
    "    return a + b + c\n",
    "\n",
    "# And here we call it. \n",
    "print(myfunction(1,2,3))"
   ]
  },
  {
   "cell_type": "markdown",
   "metadata": {},
   "source": [
    "Let's take a closer look at Python functions. \n",
    "<p>\n",
    "We see from the above example that we can pass parameters into functions and store them in variables. \n",
    "In the above example, we stored the value of 1 into a variable 'a', the value of 2 into a variable 'b' and the value of 3 into a variable 'c'.  These three variables, a,b, and c, only exist for the life of that function.  In other words, a variable called 'a' that is defined *outside* of the function is not the same as the variable 'a' inside the function.  Variables that exist within the function are defined as *local* variables.  That is, they are only valid within the *scope* of the function. \n",
    "</p>\n",
    "<br>\n",
    "Here is an example of function scoping.\n",
    "<table>\n",
    "<tr>\n",
    "<td>\n",
    "<p style='font-family:courier'>\n",
    "# Let's define our global variable 'a'.<br>\n",
    "a = 10<br>\n",
    "# Let's create our function. <br>\n",
    "def myfunction():<br>\n",
    "&nbsp;&nbsp;&nbsp;&nbsp;a = 5<br>\n",
    "&nbsp;&nbsp;&nbsp;&nbsp;print (\"Inside the function, the value of a is \",a)<br>\n",
    "&nbsp;&nbsp;&nbsp;&nbsp;return<br>\n",
    "<br>\n",
    "print (\"Outside the function, the value of a is: \",a)<br>\n",
    "myfunction()<br>\n",
    "</p>\n",
    "</td>\n",
    "</tr>\n",
    "</table>\n",
    "\n"
   ]
  },
  {
   "cell_type": "code",
   "execution_count": 13,
   "metadata": {
    "collapsed": false
   },
   "outputs": [
    {
     "name": "stdout",
     "output_type": "stream",
     "text": [
      "Outside the function, the value of a is:  10\n",
      "Inside the function, the value of a is  5\n"
     ]
    }
   ],
   "source": [
    "# Let's define our global variable 'a'.\n",
    "a = 10\n",
    "# Let's create our function. \n",
    "def myfunction():\n",
    "    a = 5\n",
    "    print (\"Inside the function, the value of a is \",a)\n",
    "    return\n",
    "\n",
    "print (\"Outside the function, the value of a is: \",a)\n",
    "myfunction()"
   ]
  },
  {
   "cell_type": "markdown",
   "metadata": {},
   "source": [
    "Given the above program, it is also possible for the function myfunction() to be able to access the global 'a' variable by using the *global* keyword.  For example:\n",
    "\n",
    "<table>\n",
    "<tr>\n",
    "<td>\n",
    "<p style='font-family:courier'>\n",
    "# Let's define our global variable 'a'.<br>\n",
    "a = 10<br>\n",
    "# Let's create our function. <br>\n",
    "def myfunction():<br>\n",
    "# Here we're explicitly telling Python that we want to access the outer version of 'a'.<br>\n",
    "&nbsp;&nbsp;&nbsp;&nbsp;global a<br> \n",
    "&nbsp;&nbsp;&nbsp;&nbsp;a = 5<br>\n",
    "&nbsp;&nbsp;&nbsp;&nbsp;print (\"Inside the function, the value of a is \",a)<br>\n",
    "&nbsp;&nbsp;&nbsp;&nbsp;return<br>\n",
    "<br>\n",
    "print (\"Outside the function, the value of a is: \",a)<br>\n",
    "myfunction()<br>\n",
    "print (\"After running the function, the value of a is: \",a)<br>\n",
    "</p>\n",
    "</td>\n",
    "</tr>\n",
    "</table>\n",
    "\n"
   ]
  },
  {
   "cell_type": "code",
   "execution_count": 6,
   "metadata": {
    "collapsed": false
   },
   "outputs": [
    {
     "name": "stdout",
     "output_type": "stream",
     "text": [
      "Outside the function, the value of a is:  10\n",
      "Inside the function, the value of a is  5\n",
      "After running the function, the value of a is:  5\n"
     ]
    }
   ],
   "source": [
    "# Let's define our global variable 'a'.\n",
    "a = 10\n",
    "# Let's create our function. \n",
    "def myfunction():\n",
    "# Here we're explicitly telling Python that we want to access the outer version of 'a'.\n",
    "    global a \n",
    "    a = 5\n",
    "    print (\"Inside the function, the value of a is \",a)\n",
    "    return\n",
    "\n",
    "print (\"Outside the function, the value of a is: \",a)\n",
    "myfunction()\n",
    "print (\"After running the function, the value of a is: \",a)"
   ]
  },
  {
   "cell_type": "markdown",
   "metadata": {},
   "source": [
    "<p>\n",
    "Let's turn now to the concept of function parameters.  Functions can receive values from a code that calls it.  These functions are listed inside the () braces when the function is defined.  Any object can be passed in to a function, such as numeric types, strings, tuples, lists or even dictionaries.  Also, any custom created object can also be passed in to the function via a parameter. \n",
    "</p><br>\n",
    "Let's take a look at this...\n",
    "<table>\n",
    "<tr>\n",
    "<td>\n",
    "<p style='font-family:courier'>\n",
    "# Let's define our function.<br>\n",
    "def myfunction (a,b,s):<br>\n",
    "<br>\n",
    "# Note that the variable c is local to the function myfunction.  Once myfunction finishes,<br>\n",
    "# the variable c will disappear.<br>\n",
    "<br>\n",
    "&nbsp;&nbsp;&nbsp;&nbsp;c = a + b<br>\n",
    "&nbsp;&nbsp;&nbsp;&nbsp;print (\"The sum of a and b is \",c)<br>\n",
    "&nbsp;&nbsp;&nbsp;&nbsp;print (\"The value of parameter s is \",s)<br>\n",
    "<br>\n",
    "# While we don't need to add the return keyword if the function isn't returning anything, <br>\n",
    "# it's good programming practice to do so to mark the end of the function.<br>\n",
    "&nbsp;&nbsp;&nbsp;&nbsp;return<br>   \n",
    "# Now let's call the function.<br>\n",
    "myfunction(1,2,'Hello World')<br>\n",
    "</p>\n",
    "</td>\n",
    "</tr>\n",
    "</table>"
   ]
  },
  {
   "cell_type": "code",
   "execution_count": 7,
   "metadata": {
    "collapsed": false
   },
   "outputs": [
    {
     "name": "stdout",
     "output_type": "stream",
     "text": [
      "The sum of a and b is  3\n",
      "The value of parameter s is  Hello World\n"
     ]
    }
   ],
   "source": [
    "# Let's define our function.\n",
    "def myfunction (a,b,s):\n",
    "\n",
    "# Note that the variable c is local to the function myfunction. Once myfunction finishes,\n",
    "# the variable c will disappear.\n",
    "\n",
    "    c = a + b\n",
    "    print (\"The sum of a and b is \",c)\n",
    "    print (\"The value of parameter s is \",s)\n",
    "\n",
    "# While we don't need to add the return keyword if the function isn't returning anything, \n",
    "# it's good programming practice to do so to mark the end of the function.\n",
    "    return\n",
    "\n",
    "# Now let's call the function.\n",
    "myfunction(1,2,'Hello World')"
   ]
  },
  {
   "cell_type": "markdown",
   "metadata": {},
   "source": [
    "Python has some options when it comes to function parameters.  The first one is the *default argument*. This allows the programmer to define a default value for an argument if one isn't supplied. \n",
    "For example:\n",
    "\n",
    "<table>\n",
    "<tr>\n",
    "<td>\n",
    "<p style='font-family:courier'>\n",
    "\\# Here we are defining three parameters.  If I do not supply a value for b or c,<br>\n",
    "\\# the default values will be assigned<br> \n",
    "def myfunction(a,b=10,c='Hello'): <br>\n",
    "&nbsp;&nbsp;&nbsp;&nbsp;print (c)<br>\n",
    "&nbsp;&nbsp;&nbsp;&nbsp;return<br>\n",
    "<br>\n",
    "myfunc(1)\n",
    "</p>\n",
    "</td>\n",
    "</tr>\n",
    "</table>\n"
   ]
  },
  {
   "cell_type": "code",
   "execution_count": 14,
   "metadata": {
    "collapsed": false
   },
   "outputs": [
    {
     "name": "stdout",
     "output_type": "stream",
     "text": [
      "Hello\n"
     ]
    }
   ],
   "source": [
    "def myfunc(a,b=1,c='Hello'):\n",
    "    print (c)\n",
    "    return\n",
    "\n",
    "myfunc(1)"
   ]
  },
  {
   "cell_type": "markdown",
   "metadata": {},
   "source": [
    "Python also allows keyword arguments.  For example.\n",
    "\n",
    "<table width='400px' align='left'>\n",
    "<tr>\n",
    "<td>\n",
    "<p style='font-family:courier'>\n",
    "\n",
    "def myfunction(str): <br>\n",
    "&nbsp;&nbsp;&nbsp;&nbsp;print (str)<br>\n",
    "&nbsp;&nbsp;&nbsp;&nbsp;return<br>\n",
    "<br>\n",
    "myfunction(str='Hello')\n",
    "</p>\n",
    "</td>\n",
    "</tr>\n",
    "</table>\n",
    "<br><br><br><br><br><br><br><br>\n",
    "Note that the order of keyword parameters doesn't matter to Python.\n",
    "\n",
    "<table width='400px' align='left'>\n",
    "<tr>\n",
    "<td>\n",
    "<p style='font-family:courier'>\n",
    "\n",
    "def myfunction(name,age): <br>\n",
    "&nbsp;&nbsp;&nbsp;&nbsp;print (name,age)<br>\n",
    "&nbsp;&nbsp;&nbsp;&nbsp;return<br>\n",
    "<br>\n",
    "myfunction(age=21,name='Braun Brelin')\n",
    "</p>\n",
    "</td>\n",
    "</tr>\n",
    "</table>\n",
    "\n"
   ]
  },
  {
   "cell_type": "code",
   "execution_count": 17,
   "metadata": {
    "collapsed": false
   },
   "outputs": [
    {
     "name": "stdout",
     "output_type": "stream",
     "text": [
      "Hello\n"
     ]
    }
   ],
   "source": [
    "def myfunction(str): \n",
    "    print (str)\n",
    "    return\n",
    "\n",
    "myfunction(str='Hello')"
   ]
  },
  {
   "cell_type": "markdown",
   "metadata": {},
   "source": [
    "Python also allows for variable argument lists.  \n",
    "<table width='400px' align='left'>\n",
    "<tr>\n",
    "<td>\n",
    "<p style='font-family:courier'>\n",
    "\n",
    "def myfunction(a,b,\\*args): <br>\n",
    "&nbsp;&nbsp;&nbsp;&nbsp;print ('a = ',a,' b = ',b)<br>\n",
    "&nbsp;&nbsp;&nbsp;&nbsp;for arg in \\*args:<br>\n",
    "&nbsp;&nbsp;&nbsp;&nbsp;&nbsp;&nbsp;&nbsp;&nbsp;print (arg)<br>\n",
    "&nbsp;&nbsp;&nbsp;&nbsp;return<br>\n",
    "<br>\n",
    "myfunction(1,2,'a','b','c')<br>\n",
    "</p>\n",
    "</td>\n",
    "</tr>\n",
    "</table>\n",
    "<br><br><br><br><br><br><br><br><br><br><br>\n",
    "In the above example, we have two positional arguments, 'a', and 'b'.  The remainder of the arguments \n",
    "are elements of the arg list.  \n",
    "<br>\n",
    "Finally, we also have the \\*\\*kwargs argument. This collects all of the named parameters and stores it in a dictionary called *kwargs*.  \n",
    "\n",
    "<table width='400px' align='left'>\n",
    "<tr>\n",
    "<td>\n",
    "<p style='font-family:courier'>\n",
    "def myfunction(a,b,**kwargs): <br>\n",
    "&nbsp;&nbsp;&nbsp;&nbsp;print ('a = ',a,' b = ',b)<br>\n",
    "&nbsp;&nbsp;&nbsp;&nbsp;for name,value in kwargs.items():<br>\n",
    "&nbsp;&nbsp;&nbsp;&nbsp;&nbsp;&nbsp;&nbsp;&nbsp;print (name,' = ',value)<br>\n",
    "&nbsp;&nbsp;&nbsp;&nbsp;return<br>\n",
    "<br>\n",
    "myfunction(1,2,param1='a',param2='b',param3='c')<br>\n",
    "</p>\n",
    "</td>\n",
    "</tr>\n",
    "</table>\n"
   ]
  },
  {
   "cell_type": "code",
   "execution_count": 22,
   "metadata": {
    "collapsed": false
   },
   "outputs": [
    {
     "name": "stdout",
     "output_type": "stream",
     "text": [
      "a =  1  b =  2\n",
      "a b c "
     ]
    }
   ],
   "source": [
    "def myfunction(a,b,*args): \n",
    "    print ('a = ',a,' b = ',b)\n",
    "    for arg in args:\n",
    "        print (arg, end = ' ')\n",
    "    return\n",
    "\n",
    "myfunction(1,2,'a','b','c')"
   ]
  },
  {
   "cell_type": "code",
   "execution_count": 24,
   "metadata": {
    "collapsed": false
   },
   "outputs": [
    {
     "name": "stdout",
     "output_type": "stream",
     "text": [
      "a =  1  b =  2\n",
      "Name =  param2  Value =  b\n",
      "Name =  param1  Value =  a\n",
      "Name =  param3  Value =  c\n"
     ]
    }
   ],
   "source": [
    "def myfunction(a,b,**kwargs): \n",
    "    print ('a = ',a,' b = ',b)\n",
    "    for name,value in kwargs.items():\n",
    "        print ('Name = ',name, ' Value = ',value)\n",
    "    return\n",
    "\n",
    "myfunction(1,2,param1='a',param2='b',param3='c')"
   ]
  },
  {
   "cell_type": "code",
   "execution_count": 21,
   "metadata": {
    "collapsed": false
   },
   "outputs": [
    {
     "name": "stdout",
     "output_type": "stream",
     "text": [
      "foo!\n",
      "bar!\n",
      "baz!\n"
     ]
    }
   ],
   "source": [
    "def foo():\n",
    "    print (\"foo!\")\n",
    "def bar():\n",
    "    print (\"bar!\")\n",
    "def baz():\n",
    "    print (\"baz!\")\n",
    "    \n",
    "funclist = [foo,bar,baz]\n",
    "\n",
    "for func in funclist:\n",
    "    func()"
   ]
  },
  {
   "cell_type": "code",
   "execution_count": 5,
   "metadata": {
    "collapsed": false
   },
   "outputs": [
    {
     "ename": "AttributeError",
     "evalue": "'function' object has no attribute 'a'",
     "output_type": "error",
     "traceback": [
      "\u001b[0;31m---------------------------------------------------------------------------\u001b[0m",
      "\u001b[0;31mAttributeError\u001b[0m                            Traceback (most recent call last)",
      "\u001b[0;32m<ipython-input-5-9206f014a76d>\u001b[0m in \u001b[0;36m<module>\u001b[0;34m()\u001b[0m\n\u001b[1;32m      3\u001b[0m     \u001b[0mprint\u001b[0m \u001b[0;34m(\u001b[0m\u001b[0;34m'foo'\u001b[0m\u001b[0;34m)\u001b[0m\u001b[0;34m\u001b[0m\u001b[0m\n\u001b[1;32m      4\u001b[0m \u001b[0;34m\u001b[0m\u001b[0m\n\u001b[0;32m----> 5\u001b[0;31m \u001b[0mprint\u001b[0m \u001b[0;34m(\u001b[0m\u001b[0mfoo\u001b[0m\u001b[0;34m.\u001b[0m\u001b[0ma\u001b[0m\u001b[0;34m)\u001b[0m\u001b[0;34m\u001b[0m\u001b[0m\n\u001b[0m",
      "\u001b[0;31mAttributeError\u001b[0m: 'function' object has no attribute 'a'"
     ]
    }
   ],
   "source": [
    "def foo():\n",
    "    foo.a = 10\n",
    "    print ('foo')\n",
    "\n",
    "print (foo.a)"
   ]
  },
  {
   "cell_type": "code",
   "execution_count": 11,
   "metadata": {
    "collapsed": false
   },
   "outputs": [
    {
     "name": "stdout",
     "output_type": "stream",
     "text": [
      "Please enter a divisor1\n",
      "dividing 2 by  1  gives me:  2.0\n",
      "The input was a number and it was not zero!\n",
      "We got to the end!\n"
     ]
    }
   ],
   "source": [
    "try:\n",
    "    divisor = int(input ('Please enter a divisor'))\n",
    "    numerator = 2\n",
    "    print ('dividing 2 by ', divisor, ' gives me: ', numerator/divisor)\n",
    "except ValueError:\n",
    "    print ('Sorry, you did not enter an integer')\n",
    "except ZeroDivisionError:\n",
    "    print ('Sorry, you entered an invalid number')\n",
    "else:\n",
    "    print ('The input was a number and it was not zero!')\n",
    "finally:\n",
    "    print('We got to the end!')\n"
   ]
  },
  {
   "cell_type": "code",
   "execution_count": null,
   "metadata": {
    "collapsed": true
   },
   "outputs": [],
   "source": []
  },
  {
   "cell_type": "markdown",
   "metadata": {},
   "source": [
    "# Exercise 5.\n",
    "## Part 1."
   ]
  },
  {
   "cell_type": "markdown",
   "metadata": {},
   "source": [
    "3a. Create a function to validate IP addresses. Take one variable 'ip_address' and \n",
    "return either True or False (depending on whether 'ip_address' is a valid IP).  Only\n",
    "include IP address checking in the function--no prompting for input, no printing to standard output.\n",
    "\n"
   ]
  },
  {
   "cell_type": "markdown",
   "metadata": {},
   "source": [
    "### Test data and main function for Exercise 5, part 1. "
   ]
  },
  {
   "cell_type": "code",
   "execution_count": 32,
   "metadata": {
    "collapsed": false
   },
   "outputs": [
    {
     "name": "stdout",
     "output_type": "stream",
     "text": [
      "\n",
      "Testing 1.1.1.1 .................. test failed\n",
      "Testing 223.255.255.255 .......... test failed\n",
      "Testing 169.254.1.9 .............. test failed\n",
      "Testing 241.17.17.9 .............. test failed\n",
      "Testing 192.256.7.7 .............. test failed\n",
      "Testing 10.1.1. .................. test failed\n",
      "Testing 0.77.22.19 ............... test failed\n",
      "Testing 10.1.1.x ................. test failed\n",
      "Testing 10.1.1.256 ............... test failed\n",
      "Testing 192.168.1 ................ test failed\n",
      "Testing 10.200.255.1 ............. test failed\n",
      "Testing 127.0.0.1 ................ test failed\n",
      "Testing 192.168.17.1 ............. test failed\n",
      "Testing 223.0.0.0 ................ test failed\n",
      "Testing -1.88.99.17 .............. test failed\n",
      "Testing 192.168.-1.7 ............. test failed\n",
      "\n"
     ]
    }
   ],
   "source": [
    "################################################################################\n",
    "# Write your valid_ip() function here\n",
    "################################################################################\n",
    "\n",
    "def valid_ip(ip_address):\n",
    "    pass\n",
    "\n",
    "if __name__ == '__main__':\n",
    "\n",
    "    # Create a bunch of test cases\n",
    "    test_ip_addresses = {\n",
    "        '192.168.1'     :   False,\n",
    "        '10.1.1.'       :   False,\n",
    "        '10.1.1.x'      :   False,\n",
    "        '0.77.22.19'    :   False,\n",
    "        '-1.88.99.17'   :   False,\n",
    "        '241.17.17.9'   :   False,\n",
    "        '127.0.0.1'     :   False,\n",
    "        '169.254.1.9'   :   False,\n",
    "        '192.256.7.7'   :   False,\n",
    "        '192.168.-1.7'  :   False,\n",
    "        '10.1.1.256'    :   False,\n",
    "        '1.1.1.1'       :   True,\n",
    "        '223.255.255.255':  True,\n",
    "        '223.0.0.0'     :   True,\n",
    "        '10.200.255.1'  :   True,\n",
    "        '192.168.17.1'  :   True,\n",
    "    }\n",
    "\n",
    "    print()\n",
    "\n",
    "    # Run the test cases\n",
    "    for ip, expected_return in test_ip_addresses.items():\n",
    "\n",
    "        # Make the output format nicer\n",
    "        dots_to_print = (25 - len(ip)) * '.'\n",
    "\n",
    "        if valid_ip(ip) is expected_return:\n",
    "            if expected_return:\n",
    "                print (\"Testing %s %s %s\" % (ip, dots_to_print, 'valid'))\n",
    "            else:\n",
    "                print (\"Testing %s %s %s\" % (ip, dots_to_print, 'invalid'))\n",
    "        else:\n",
    "            print (\"Testing %s %s %s\" % (ip, dots_to_print, 'test failed'))\n",
    "\n",
    "    print ()"
   ]
  },
  {
   "cell_type": "code",
   "execution_count": null,
   "metadata": {
    "collapsed": true
   },
   "outputs": [],
   "source": []
  },
  {
   "cell_type": "code",
   "execution_count": null,
   "metadata": {
    "collapsed": true
   },
   "outputs": [],
   "source": []
  },
  {
   "cell_type": "code",
   "execution_count": null,
   "metadata": {
    "collapsed": true
   },
   "outputs": [],
   "source": []
  },
  {
   "cell_type": "markdown",
   "metadata": {},
   "source": [
    "# The solutions are below"
   ]
  },
  {
   "cell_type": "markdown",
   "metadata": {},
   "source": [
    "<img src='graphics/mario.jpg'> </img>"
   ]
  },
  {
   "cell_type": "code",
   "execution_count": null,
   "metadata": {
    "collapsed": true
   },
   "outputs": [],
   "source": []
  },
  {
   "cell_type": "code",
   "execution_count": null,
   "metadata": {
    "collapsed": true
   },
   "outputs": [],
   "source": []
  },
  {
   "cell_type": "code",
   "execution_count": 34,
   "metadata": {
    "collapsed": false
   },
   "outputs": [
    {
     "name": "stdout",
     "output_type": "stream",
     "text": [
      "\n",
      "Testing 1.1.1.1 .................. valid\n",
      "Testing 223.255.255.255 .......... valid\n",
      "Testing 169.254.1.9 .............. invalid\n",
      "Testing 241.17.17.9 .............. invalid\n",
      "Testing 192.256.7.7 .............. invalid\n",
      "Testing 10.1.1. .................. invalid\n",
      "Testing 0.77.22.19 ............... invalid\n",
      "Testing 10.1.1.x ................. invalid\n",
      "Testing 10.1.1.256 ............... invalid\n",
      "Testing 192.168.1 ................ invalid\n",
      "Testing 10.200.255.1 ............. valid\n",
      "Testing 127.0.0.1 ................ invalid\n",
      "Testing 192.168.17.1 ............. valid\n",
      "Testing 223.0.0.0 ................ valid\n",
      "Testing -1.88.99.17 .............. invalid\n",
      "Testing 192.168.-1.7 ............. invalid\n",
      "\n"
     ]
    }
   ],
   "source": [
    "def valid_ip(ip_address):\n",
    "    '''\n",
    "    Check if the IP address is valid\n",
    "    Return either True or False\n",
    "    '''\n",
    "\n",
    "    # Make sure IP has four octets\n",
    "    octets = ip_address.split('.')\n",
    "    if len(octets) != 4:\n",
    "        return False\n",
    "\n",
    "    # convert octet from string to int\n",
    "    for i, octet in enumerate(octets):\n",
    "\n",
    "        try:\n",
    "            octets[i] = int(octet)\n",
    "        except ValueError:\n",
    "            # couldn't convert octet to an integer\n",
    "            return False\n",
    "\n",
    "\n",
    "    # map variables to elements of octets list\n",
    "    first_octet, second_octet, third_octet, fourth_octet = octets\n",
    "\n",
    "    # Check first_octet meets conditions\n",
    "    if first_octet < 1:\n",
    "        return False\n",
    "    elif first_octet > 223:\n",
    "        return False\n",
    "    elif first_octet == 127:\n",
    "        return False\n",
    "\n",
    "    # Check 169.254.X.X condition\n",
    "    if first_octet == 169 and second_octet == 254:\n",
    "        return False\n",
    "\n",
    "    # Check 2nd - 4th octets\n",
    "    for octet in (second_octet, third_octet, fourth_octet):\n",
    "        if (octet < 0) or (octet > 255):\n",
    "            return False\n",
    "\n",
    "\n",
    "    # Passed all of the checks\n",
    "    return True\n",
    "\n",
    "\n",
    "\n",
    "# Technique to allow importable and executable code to coexist (will explain in class#8)\n",
    "if __name__ == '__main__':\n",
    "\n",
    "    # Create a bunch of test cases\n",
    "    test_ip_addresses = {\n",
    "        '192.168.1'     :   False,\n",
    "        '10.1.1.'       :   False,\n",
    "        '10.1.1.x'      :   False,\n",
    "        '0.77.22.19'    :   False,\n",
    "        '-1.88.99.17'   :   False,\n",
    "        '241.17.17.9'   :   False,\n",
    "        '127.0.0.1'     :   False,\n",
    "        '169.254.1.9'   :   False,\n",
    "        '192.256.7.7'   :   False,\n",
    "        '192.168.-1.7'  :   False,\n",
    "        '10.1.1.256'    :   False,\n",
    "        '1.1.1.1'       :   True,\n",
    "        '223.255.255.255':  True,\n",
    "        '223.0.0.0'     :   True,\n",
    "        '10.200.255.1'  :   True,\n",
    "        '192.168.17.1'  :   True,\n",
    "    }\n",
    "\n",
    "    print()\n",
    "\n",
    "    # Run the test cases\n",
    "    for ip, expected_return in test_ip_addresses.items():\n",
    "\n",
    "        # Make the output format nicer\n",
    "        dots_to_print = (25 - len(ip)) * '.'\n",
    "\n",
    "        if valid_ip(ip) is expected_return:\n",
    "            if expected_return:\n",
    "                print (\"Testing %s %s %s\" % (ip, dots_to_print, 'valid'))\n",
    "            else:\n",
    "                print (\"Testing %s %s %s\" % (ip, dots_to_print, 'invalid'))\n",
    "        else:\n",
    "            print (\"Testing %s %s %s\" % (ip, dots_to_print, 'test failed'))\n",
    "\n",
    "    print()"
   ]
  },
  {
   "cell_type": "markdown",
   "metadata": {},
   "source": [
    "<h3>Python modules and the import statement</h3><br>\n",
    "<p>\n",
    "A Python *module* is simply a file that contains one or more Python functions, classes and/or variables.  The concept here is that a Python module can be used to organize code in to a logical structure.  For example, a Python module that comes with the distribution is the *math* module. This module contains functions and variables that compute mathematical operations, such as trigonometric, logarithmic or other mathematical functions. \n",
    "</p>\n",
    "<p>\n",
    "To use an outside module, simply import it using the *import* statement.  Python searches for that module through its search path environment variable.  Note that the module is only loaded once, even if the import statement is declared multiple times.  \n",
    "</p>\n",
    "<p>\n",
    "We can also import specific functions or classes or variables from a module rather than loading the entire module by using the *from* clause.  We can write statements such as *from mymodule import myclass*.\n",
    "The module search path is stored in the system module sys as the sys.path variable. The sys.path variable contains the current directory, PYTHONPATH, and the installation-dependent default.<br><br>\n",
    "</p>\n",
    "Here is an example of using the import statement. \n",
    "<table width='750px' align='left'>\n",
    "<tr>\n",
    "<td>\n",
    "<p style='font-family:courier'>\n",
    "# Let's import the math module.<br>\n",
    "import math<br><br>\n",
    "# Now let's use some of its functions. <br>\n",
    "print (\"The square root of four is: \",math.sqrt(4))<br><br>\n",
    "# Let's use the PI constant in the math module to calculate the circumference of <br>\n",
    "# a circle with radius 3.<br>\n",
    "\n",
    "print (\"The circumference of a circle with radius 3 is: \",2 \\* math.pi * 3)<br><br>\n",
    "</p>\n",
    "</td>\n",
    "</tr>\n",
    "</table>\n",
    "\n",
    "<br><br><br><br><br><br><br><br><br><br><br><br>\n",
    "We can also use the *as* clause to act as an alias for a module name.  A common one is the following:\n",
    "<table width='400px' align='left'>\n",
    "<tr>\n",
    "<td>\n",
    "<p style='font-family:courier'>\n",
    "import numpy as np<br>\n",
    "\\# Create a rank 1 numpy array<br>\n",
    "a = np.array([1, 2, 3])  <br>\n",
    "print (a)<br>\n",
    "</td>\n",
    "</tr>\n",
    "</table>\n",
    "<br><br><br><br><br><br><br>\n",
    "Note that by using the as clause we can refer to the numpy module as np rather than constantly having to type out *numpy* for every method in the module that we wish to call.\n",
    "<br>\n",
    "When you import a module, the Python interpreter searches for the module in the following sequences<br>\n",
    "  - The current directory.\n",
    "  - Python then searches each directory in the shell variable PYTHONPATH.\n",
    "  - The default directory. On UNIX systems, this default path is /usr/local/lib/python.\n",
    "\n"
   ]
  },
  {
   "cell_type": "code",
   "execution_count": 26,
   "metadata": {
    "collapsed": false
   },
   "outputs": [
    {
     "name": "stdout",
     "output_type": "stream",
     "text": [
      "The square root of four is:  2.0\n",
      "The circumference of a circle with radius 3 is:  18.84955592153876\n"
     ]
    }
   ],
   "source": [
    "# Let's import the math module.\n",
    "import math\n",
    "\n",
    "# Now let's use some of its functions. \n",
    "print (\"The square root of four is: \",math.sqrt(4))\n",
    "\n",
    "# Let's use the PI constant in the math module to calculate the circumference of \n",
    "# a circle with radius 3.\n",
    "print (\"The circumference of a circle with radius 3 is: \",2 * math.pi * 3)"
   ]
  },
  {
   "cell_type": "code",
   "execution_count": 27,
   "metadata": {
    "collapsed": false
   },
   "outputs": [
    {
     "name": "stdout",
     "output_type": "stream",
     "text": [
      "[1 2 3]\n"
     ]
    }
   ],
   "source": [
    "import numpy as np\n",
    "# Create a rank 1 numpy array\n",
    "a = np.array([1, 2, 3]) \n",
    "print (a)"
   ]
  },
  {
   "cell_type": "markdown",
   "metadata": {},
   "source": [
    "<h2> Python I/O</h2>\n",
    "<br>\n",
    "<p>\n",
    "We've seen that the simplest method of producing output in Python is the *print()* function.  This function will take data passed in as a function parameter and print it out to the standard output device, usually the screen. \n",
    "</p>\n",
    "<p>\n",
    "\n",
    "We can also read data from the standard input device by using the *input()* function. Note that all data obtained from the input function is stored as a string.  If you want to use this data in some other fashion, for instance, to do numerical operations, you must convert it first. \n",
    "</p>\n",
    "<p>\n",
    "Here is an example of using the input function in Python.\n",
    "\n",
    "<table width='750px' align='left'>\n",
    "<tr>\n",
    "<td>\n",
    "<p style='font-family:courier'>\n",
    "\\# Let's get some data<br>\n",
    "name = input(\"Please enter your name: \")<br>\n",
    "age = input(\"Please enter your age: \")<br>\n",
    "print ('You entered your name as: ',name)<br>\n",
    "print ('You entered your age as: ',age)<br>\n",
    "</td>\n",
    "</tr>\n",
    "</table>\n",
    "</p>\n",
    "<br><br><br><br><br><br><br>\n",
    "Because input returns a string, we can simplify the above code by employing the\n",
    "split method and requesting both values in a single input statement, like so:<br>\n",
    "\n",
    "<table width='600px' align='left'>\n",
    "<tr>\n",
    "<td>\n",
    "<p style='font-family:courier'>\n",
    "\\# Let's get some data<br>\n",
    "name,age = input(\"Please enter your name and age: \").split()<br>\n",
    "print ('You entered your name as: ',name)<br>\n",
    "print (' =You entered your age as: ',age)<br>\n",
    "</td>\n",
    "</tr>\n",
    "</table>\n",
    "<br><br><br><br><br><br><br>\n",
    "We can also use the print function to format output.  Formatted output takes a *format string*.  This string consists of \n",
    "text as well as certain placeholder arguments that will be replaced by variable values.  <br><br>\n",
    "Here is a table of the format codes.<br>\n",
    "<table class=\"table table-bordered\">\n",
    "<tr>\n",
    "<th style=\"width:30%\">Format Symbol</th><th>Conversion</th>\n",
    "</tr>\n",
    "<tr><td>%c</td>\n",
    "<td>character</td></tr>\n",
    "<tr><td>%s</td>\n",
    "<td>string conversion via str() prior to formatting</td></tr>\n",
    "<tr><td>%i</td>\n",
    "<td>signed decimal integer</td></tr>\n",
    "<tr><td>%d</td>\n",
    "<td>signed decimal integer</td></tr>\n",
    "<tr><td>%u</td>\n",
    "<td>unsigned decimal integer</td></tr>\n",
    "<tr><td>%o</td>\n",
    "<td>octal integer</td></tr>\n",
    "<tr><td>%x</td>\n",
    "<td>hexadecimal integer (lowercase letters)</td></tr>\n",
    "<tr><td>%X</td>\n",
    "<td>hexadecimal integer (UPPERcase letters)</td></tr>\n",
    "<tr><td>%e</td>\n",
    "<td>exponential notation (with lowercase 'e')</td></tr>\n",
    "<tr><td>%E</td>\n",
    "<td>exponential notation (with UPPERcase 'E')</td></tr>\n",
    "<tr><td>%f</td>\n",
    "<td>floating point real number</td></tr>\n",
    "<tr><td>%g</td>\n",
    "<td>the shorter of %f and %e</td></tr>\n",
    "<tr><td>%G</td>\n",
    "<td>the shorter of %f and %E</td></tr>\n",
    "</table>\n",
    "\n",
    "Let's see an example of formatted output. Let's re-write the previous example so we use formatted output when \n",
    "printing out the name and the age values. We use the '%' operator to tell Python that the tuple following it\n",
    "contains the variables that correspond with the format codes. \n",
    "<table width='7500px' align='left'>\n",
    "<tr>\n",
    "<td>\n",
    "<p style='font-family:courier'>\n",
    "\\# Let's get some data<br>\n",
    "name,age = input(\"Please enter your name and age: \").split()<br>\n",
    "\\# Here is an example of formatted output. Note we're using the %s code to represent a string<br>\n",
    "\\# an the %d code to represent an integer. <br>\n",
    "\\# Don't forget that input returns a string.  If you want to use the parameter as an integer<br>\n",
    "\\# you must convert it!<br>\n",
    "print ('Your name is %s, your age is %d' % (name,int(age)))<br>\n",
    "</p>\n",
    "</td>\n",
    "</tr>\n",
    "</table>\n",
    "<br><br><br><br><br><br><br>\n"
   ]
  },
  {
   "cell_type": "code",
   "execution_count": 66,
   "metadata": {
    "collapsed": false,
    "scrolled": true
   },
   "outputs": [
    {
     "name": "stdout",
     "output_type": "stream",
     "text": [
      "Please enter your name: Braun\n",
      "Please enter your age: 21\n",
      "You entered your name as:  Braun\n",
      "You entered your age as:  21\n"
     ]
    }
   ],
   "source": [
    "# Let's get some data\n",
    "name = input(\"Please enter your name: \")\n",
    "age = input(\"Please enter your age: \")\n",
    "print ('You entered your name as: ',name)\n",
    "print ('You entered your age as: ',age)"
   ]
  },
  {
   "cell_type": "code",
   "execution_count": 35,
   "metadata": {
    "collapsed": false
   },
   "outputs": [
    {
     "name": "stdout",
     "output_type": "stream",
     "text": [
      "Please enter your name and age: Braun 21\n",
      " You entered your name as:  Braun\n",
      " You entered your age as:  21\n"
     ]
    }
   ],
   "source": [
    "# Let's get some data\n",
    "name,age = input(\"Please enter your name and age: \").split()\n",
    "print ('You entered your name as: ',name)\n",
    "print ('You entered your age as: ',age)"
   ]
  },
  {
   "cell_type": "code",
   "execution_count": 65,
   "metadata": {
    "collapsed": false
   },
   "outputs": [
    {
     "name": "stdout",
     "output_type": "stream",
     "text": [
      "Please enter your name and age: Braun 21\n",
      "Your name is Braun, your age is 21\n"
     ]
    }
   ],
   "source": [
    "# Let's get some data\n",
    "name,age = input(\"Please enter your name and age: \").split()\n",
    "# Here is an example of formatted output. Note we're using the %s code to represent a string\n",
    "# an the %d code to represent an integer. \n",
    "# Don't forget that input returns a string.  If you want to use the parameter as an integer\n",
    "# you must convert it!\n",
    "print ('Your name is %s, your age is %d' % (name,int(age)))"
   ]
  },
  {
   "cell_type": "markdown",
   "metadata": {},
   "source": [
    "<h3>Python File I/O</h3>\n",
    "<p>\n",
    "Often times, your program will want to read data in, not from the standard input, but from a data store such as a text file.  Python provides a simple way to do this by supplying a file object and a number of built-in functions.  \n",
    "</p>\n",
    "<p>\n",
    "We start by looking at our first I/O function, *open()*.  \n",
    "The open() function takes a file supplied by the programmer and maps it to a file object.  <br>\n",
    "The open function takes three arguments. <br><br>\n",
    "- file_name: The file_name argument is a string value that contains the name of the file that you want to access.<br>\n",
    "<br>\n",
    "- access_mode: The access_mode determines the mode in which the file has to be opened, i.e., read, write, append, etc. A complete list of possible values is given below in the table. This is optional parameter and the default file access mode is read (r).<br>\n",
    "<br>\n",
    "- buffering: If the buffering value is set to 0, no buffering takes place. If the buffering value is 1, line buffering is performed while accessing a file. If you specify the buffering value as an integer greater than 1, then buffering action is performed with the indicated buffer size. If negative, the buffer size is the system default (this is the default behavior). Buffering refers to the number of bytes read from the file for each read event. <br>\n",
    "</p>\n",
    "<p>\n",
    "The only required parameter is the file name.  Open treats the other two as default parameters and assigns a specific value to them when called.  In the case of the access mode, it uses 'read only' as its default mode. In the case of buffering, it uses the value -1 which specifies the system default behavior. \n",
    "</p>\n",
    "<p>\n",
    "This next table describes the different types of modes that is supported by the open function.<br>\n",
    "<table class=\"table table-bordered\">\n",
    "<tr><th style=\"width:10%\">Modes</th><th>Description</th></tr>\n",
    "<tr><td>r</td><td>Opens a file for reading only. The file pointer is placed at the beginning of the file. This is the default mode.</td></tr>\n",
    "<tr><td>rb</td><td>Opens a file for reading only in binary format. The file pointer is placed at the beginning of the file. This is the default mode.</td></tr>\n",
    "<tr><td>r+</td><td>Opens a file for both reading and writing. The file pointer placed at the beginning of the file.</td></tr>\n",
    "<tr><td>rb+</td><td>Opens a file for both reading and writing in binary format. The file pointer placed at the beginning of the file.</td></tr>\n",
    "<tr><td>w</td><td>Opens a file for writing only. Overwrites the file if the file exists. If the file does not exist, creates a new file for writing.</td></tr>\n",
    "<tr><td>wb</td><td>Opens a file for writing only in binary format. Overwrites the file if the file exists. If the file does not exist, creates a new file for writing.</td></tr>\n",
    "<tr><td>w+</td><td>Opens a file for both writing and reading. Overwrites the existing file if the file exists. If the file does not exist, creates a new file for\n",
    "reading and writing.</td></tr> \n",
    "<tr><td>wb+</td><td>Opens a file for both writing and reading in binary format. Overwrites the existing file if the file exists. If the file does not exist, creates a new file for reading and writing.</td></tr>\n",
    "<tr><td>a</td><td>Opens a file for appending. The file pointer is at the end of the file if the file exists. That is, the file is in the append mode. If the file does not exist, it creates a new file for writing.</td></tr> \n",
    "<tr><td>ab</td><td>Opens a file for appending in binary format. The file pointer is at the end of the file if the file exists. That is, the file is in the append mode. If the file does not exist, it creates a new file for writing.</td></tr> \n",
    "<tr><td>a+</td><td>Opens a file for both appending and reading. The file pointer is at the end of the file if the file exists. The file opens in the append mode. If the file does not exist, it creates a new file for reading and writing.</td></tr> \n",
    "<tr><td>ab+</td><td>Opens a file for both appending and reading in binary format. The file pointer is at the end of the file if the file exists. The file opens in the append mode. If the file does not exist, it creates a new file for reading and writing.</td></tr>\n",
    "</table>\n",
    "</p>\n",
    "<p>\n",
    "The companion function to open is the *close()* function.  It is important to remember that for every file that is opened in the program, a corresponding close() function should be called. \n",
    "Generally, the best time to invoke this function is immediately after the program is finished with it, rather than waiting until the end of the program's execution.  \n",
    "</p>\n",
    "<p>\n",
    "Let's quickly take a look at how to open and close files in Python. \n",
    "\n",
    "<table width='700px' align='left'>\n",
    "<tr>\n",
    "<td>\n",
    "<p style='font-family:courier'>\n",
    "# Here we open a file with the default arguments for the mode and buffer.<br>\n",
    "myfileobject = open('data/presidents.txt')<br><br>\n",
    "# Once we've obtained the file object, we can access a number of methods <br>\n",
    "# and attributes.<br>\n",
    "\n",
    "print (\"Name of the file: \", myfileobject.name)<br>\n",
    "print (\"Closed or not : \", myfileobject.closed)<br>\n",
    "print (\"Opening mode : \", myfileobject.mode)<br>\n",
    "<br>\n",
    "# Don't forget to close the file when you're done! <br>\n",
    "myfileobject.close()\n",
    "</p>\n",
    "</td>\n",
    "</tr>\n",
    "</table>\n"
   ]
  },
  {
   "cell_type": "code",
   "execution_count": 12,
   "metadata": {
    "collapsed": false,
    "scrolled": true
   },
   "outputs": [
    {
     "name": "stdout",
     "output_type": "stream",
     "text": [
      "Name of the file:  ../data/presidents.dat\n",
      "Closed or not :  False\n",
      "Opening mode :  a\n"
     ]
    }
   ],
   "source": [
    "# Here we open a file with the default arguments for the mode and buffer.\n",
    "myfileobject = open('../data/presidents.dat','a')\n",
    "\n",
    "# Once we've obtained the file object, we can access a number of methods \n",
    "# and attributes.\n",
    "print (\"Name of the file: \", myfileobject.name)\n",
    "print (\"Closed or not : \", myfileobject.closed)\n",
    "print (\"Opening mode : \", myfileobject.mode)\n",
    "\n",
    "# Don't forget to close the file when you're done! \n",
    "myfileobject.close()"
   ]
  },
  {
   "cell_type": "markdown",
   "metadata": {},
   "source": [
    "<p>\n",
    "Once we can access a file we can then read from it and write to it.  Python provides a number of ways to achieve this. \n",
    "\n",
    "Once we have a file object, we can then use its methods to read data.  Two common methods are *read()* and *readline()*. The read method takes the entire file and returns a list, where each line of the file becomes an element in that list. Alternatively, the readline() method will read in a single line and return a string object. \n",
    "\n",
    "Let's see an example of this. \n",
    "\n",
    "<table width='450px' align='left'>\n",
    "<tr>\n",
    "<td>\n",
    "<p style='font-family:courier'>\n",
    "myfileobject = open('../data/presidents.dat')<br>\n",
    "data = myfileobject.readline()<br>\n",
    "while data:<br>\n",
    "&nbsp;&nbsp;&nbsp;&nbsp;print (data)<br>\n",
    "&nbsp;&nbsp;&nbsp;&nbsp; data =  myfileobject.readline()<br>\n",
    "# Don't forget to close the file when you're done! <br>\n",
    "myfileobject.close()\n",
    "</p>\n",
    "</td>\n",
    "</tr>\n",
    "</table>"
   ]
  },
  {
   "cell_type": "code",
   "execution_count": 14,
   "metadata": {
    "collapsed": false
   },
   "outputs": [
    {
     "name": "stdout",
     "output_type": "stream",
     "text": [
      "George Washington\n",
      "John Adams\n",
      "Thomas Jefferson\n",
      "James Madison\n",
      "James Monroe\n",
      "\n"
     ]
    }
   ],
   "source": [
    "myfileobject = open('../data/presidents.dat')\n",
    "datalist = myfileobject.read()\n",
    "print (datalist)\n",
    "myfileobject.close()\n"
   ]
  },
  {
   "cell_type": "code",
   "execution_count": 53,
   "metadata": {
    "collapsed": false,
    "scrolled": true
   },
   "outputs": [
    {
     "name": "stdout",
     "output_type": "stream",
     "text": [
      "George Washington\n",
      "\n",
      "John Adams\n",
      "\n",
      "Thomas Jefferson\n",
      "\n",
      "James Madison\n",
      "\n",
      "James Monroe\n",
      "\n"
     ]
    }
   ],
   "source": [
    "myfileobject = open('../data/presidents.dat')\n",
    "data = myfileobject.readline()\n",
    "while data:\n",
    "    print (data)\n",
    "    data = myfileobject.readline()"
   ]
  },
  {
   "cell_type": "code",
   "execution_count": 16,
   "metadata": {
    "collapsed": false
   },
   "outputs": [
    {
     "name": "stdout",
     "output_type": "stream",
     "text": [
      "First name =  George Last name =  Washington\n",
      "First name =  John Last name =  Adams\n",
      "First name =  Thomas Last name =  Jefferson\n",
      "First name =  James Last name =  Madison\n",
      "First name =  James Last name =  Monroe\n"
     ]
    }
   ],
   "source": [
    "myfileobject = open('../data/presidents.dat')\n",
    "\n",
    "for line in myfileobject:\n",
    "    (fname,lname) = line.strip().split()\n",
    "    print ('First name = ',fname, 'Last name = ',lname)\n",
    "    \n",
    "myfileobject.close()"
   ]
  },
  {
   "cell_type": "markdown",
   "metadata": {},
   "source": [
    "<p>\n",
    "Note that in the previous example, the output of the presidents.dat file is double-spaced.  This is because the lines end in a newline character.  Often times, it is desirable to strip out the newline character before processing the file data.  To do this, we use a string method called *strip()*.<br>  \n",
    "Here is the preceeding example using the strip method. \n",
    "</p>\n",
    "<table width='450px' align='left'>\n",
    "<tr>\n",
    "<td>\n",
    "<p style='font-family:courier'>\n",
    "myfileobject = open('../data/presidents.dat')<br>\n",
    "data = myfileobject.readline().strip()<br>\n",
    "while data:<br>\n",
    "&nbsp;&nbsp;&nbsp;&nbsp;print (data)<br>\n",
    "&nbsp;&nbsp;&nbsp;&nbsp; data =  myfileobject.readline()<br>\n",
    "\\# Don't forget to close the file when you're done! <br>\n",
    "myfileobject.close()\n",
    "</p>\n",
    "</td>\n",
    "</tr>\n",
    "</table>\n",
    "<br><br><br><br><br><br><br><br><br>\n",
    "Note now that the output of this file is single-spaced rather than double-spaced."
   ]
  },
  {
   "cell_type": "code",
   "execution_count": 55,
   "metadata": {
    "collapsed": false
   },
   "outputs": [
    {
     "name": "stdout",
     "output_type": "stream",
     "text": [
      "George Washington\n",
      "John Adams\n",
      "Thomas Jefferson\n",
      "James Madison\n",
      "James Monroe\n"
     ]
    }
   ],
   "source": [
    "myfileobject = open('../data/presidents.dat')\n",
    "data = myfileobject.readline().strip()\n",
    "while data:\n",
    "    print (data)\n",
    "    data = myfileobject.readline().strip()\n",
    "# Don't forget to close the file when you're done! \n",
    "myfileobject.close()"
   ]
  },
  {
   "cell_type": "markdown",
   "metadata": {},
   "source": [
    "One way to iterate over every line in the file is to use the read() method to store the data in a list and then iterate over the list itself using a for loop.  However, Python gives us an easier and more elegant way of doing this. In Python, the file object is iterable, which means that we can run the for loop directly against the object itself.  Let's re-write our previous example looping over the file object directly.\n",
    "\n",
    "<table width='450px' align='left'>\n",
    "<tr>\n",
    "<td>\n",
    "<p style='font-family:courier'>\n",
    "myfileobject = open('../data/presidents.dat')<br>\n",
    "for data in myfileobject:<br>\n",
    "&nbsp;&nbsp;&nbsp;&nbsp;print (data.strip())<br><br>\n",
    "\\# Don't forget to close the file when you're done! <br>\n",
    "myfileobject.close()\n",
    "</p>\n",
    "</td>\n",
    "</tr>\n",
    "</table>\n",
    "<br><br><br><br><br><br><br><br><br>\n"
   ]
  },
  {
   "cell_type": "code",
   "execution_count": 58,
   "metadata": {
    "collapsed": false
   },
   "outputs": [
    {
     "name": "stdout",
     "output_type": "stream",
     "text": [
      "George Washington\n",
      "John Adams\n",
      "Thomas Jefferson\n",
      "James Madison\n",
      "James Monroe\n"
     ]
    }
   ],
   "source": [
    "myfileobject = open('../data/presidents.dat')\n",
    "for data in myfileobject:\n",
    "    print (data.strip())\n",
    "    \n",
    "# Don't forget to close the file when you're done! \n",
    "myfileobject.close()"
   ]
  },
  {
   "cell_type": "markdown",
   "metadata": {},
   "source": [
    "We can also write data to files as well as read it.  To do so, we must open the file in write mode.  There are several modes that allow this.  Once the file is opened for writing, we can use several different methods to write data.  Commonly, we use the *write()* method available in the file object.\n",
    "For example:\n",
    "\n",
    "<table width='700px' align='left'>\n",
    "<tr>\n",
    "<td>\n",
    "<p style='font-family:courier'>\n",
    "\\# Notice in the open that we're explicitly setting the file mode to 'w' or write.<br>\n",
    "\\# Write mode will automatically delete any existing data in the file before<br> \n",
    "\\# opening it. <br>\n",
    "myfileobject = open('../data/output_example.dat','w')<br>\n",
    "myfileobject.write('Writing some output')<br>\n",
    "myfileobject.close()<br>\n",
    "<br>\n",
    "\\# Now let's reopen for read only.<br>\n",
    "myfileobject = open('../data/output_example.dat')<br><br>\n",
    "\\# Let's read in what we outputted to the file. <br>\n",
    "for data in myfileobject:<br>\n",
    "&nbsp;&nbsp;&nbsp;&nbsp;print (data.strip())<br><br>\n",
    "\\# Don't forget to close the file when you're done! <br>\n",
    "myfileobject.close()\n",
    "</p>\n",
    "</td>\n",
    "</tr>\n",
    "</table>\n",
    "<br><br><br><br><br><br><br><br><br>\n",
    "\n"
   ]
  },
  {
   "cell_type": "code",
   "execution_count": 18,
   "metadata": {
    "collapsed": false
   },
   "outputs": [
    {
     "name": "stdout",
     "output_type": "stream",
     "text": [
      "/home/bbrelin/src/repos/basicpython/docs\n"
     ]
    }
   ],
   "source": [
    "import os\n",
    "print (os.getcwd())"
   ]
  },
  {
   "cell_type": "code",
   "execution_count": 20,
   "metadata": {
    "collapsed": false
   },
   "outputs": [
    {
     "name": "stdout",
     "output_type": "stream",
     "text": [
      "True\n",
      "False\n",
      "True\n"
     ]
    }
   ],
   "source": [
    "i = 2\n",
    "def isPrime(n):\n",
    "    global i\n",
    "    if n == 0 or n == 1:\n",
    "        return(False)\n",
    "    elif (n % i == 0) and (n == i):\n",
    "        i = 2\n",
    "        return(True)\n",
    "    elif n % i  == 0:\n",
    "        i = 2\n",
    "        return(False)\n",
    "    else:\n",
    "        i += 1\n",
    "        return(isPrime(n))\n",
    "\n",
    "print (isPrime(17))\n",
    "print (isPrime(4))\n",
    "print (isPrime(5))"
   ]
  },
  {
   "cell_type": "code",
   "execution_count": 17,
   "metadata": {
    "collapsed": false
   },
   "outputs": [
    {
     "name": "stdout",
     "output_type": "stream",
     "text": [
      "Writing some new output\n"
     ]
    }
   ],
   "source": [
    "# Notice in the open that we're explicitly setting the file mode to 'w' or write.\n",
    "# Write mode will automatically delete any existing data in the file before\n",
    "# opening it. \n",
    "myfileobject = open('../data/output_example.dat','w')\n",
    "myfileobject.write('Writing some new output')\n",
    "myfileobject.close()\n",
    "\n",
    "# Now let's reopen for read only.\n",
    "myfileobject = open('../data/output_example.dat')\n",
    "\n",
    "# Let's read in what we outputted to the file. \n",
    "for data in myfileobject:\n",
    "    print (data.strip())\n",
    "\n",
    "# Don't forget to close the file when you're done! \n",
    "myfileobject.close()"
   ]
  },
  {
   "cell_type": "markdown",
   "metadata": {},
   "source": [
    "<h3>Exception handling </h3><br>\n",
    "<p>\n",
    "In our previous module, we examined Python file I/O operations.  However, we left off one very important point.  What happens if, for example, the file name that we pass into the open function is incorrect?  \n",
    "</p>\n",
    "<p>\n",
    "With our naive implementation of file I/O as shown previously, the program will abort and print an error.  This behavior, however, is rarely desirable in a robust application.  Ideally, what we would like to do is to trap this error condition and perform some customized action rather than simply abort. \n",
    "</p>\n",
    "<p>\n",
    "Python exception handling is what allows us to do this.  In order to perform exception handling, we wrap our statements in a *try/except/finally* block of code.\n",
    "We put all of the python statements that might raise an error into our try block.  If an error is raised, we will catch it with the except and execute all of the statements defined in the except block.  Lastly, the finally statement will execute all the statements in its block regardless of whether an exception was caught or not.  A common use of this is to close a file regardless of whether or not we have an error.  \n",
    "\n",
    "All exceptions inherit from an object called *BaseException*.  These exceptions are defined in the Python documentation <a href = 'https://docs.python.org/3/library/exceptions.html'> here. </a> You can also refer to the documentation to find out what exceptions can be raised by the Python builtin functions. \n",
    "\n",
    "Let's take our previous example and modify it so that we can catch errors.\n",
    "\n",
    "<table width='950px' align='left'>\n",
    "<tr>\n",
    "<td>\n",
    "<p style='font-family:courier'>\n",
    "\n",
    "\\# We want the exit function from the sys module so we can quit the program if an error occurs.  <br>\n",
    "from sys import exit<br><br>\n",
    "\\# Notice in the open that we're explicitly setting the file mode to 'r+' or read/write mode.<br>\n",
    "try:<br>\n",
    "&nbsp;&nbsp;&nbsp;&nbsp;myfileobject = open('../data/some_invalid_filename.dat','r+')<br>\n",
    "&nbsp;&nbsp;&nbsp;&nbsp;myfileobject.write('Writing some output')<br><br>\n",
    "\\# Here we're going to catch any IOErrors by printing an error message, including the error string<br>\n",
    "\\# returned from the operating system and exit using the sys.exit() method. Note that we pass a non-zero <br>\n",
    "\\# value to indicate that we exited the program with an error condition.  <br>\n",
    "except IOError as e:<br>\n",
    "&nbsp;&nbsp;&nbsp;&nbsp;(errno,strerror) = e.args<br>\n",
    "&nbsp;&nbsp;&nbsp;&nbsp;print (\"An error occurred when trying to access the file: ERRNO: %d, ERROR: %s \" % (errno,strerror))<br>\n",
    "&nbsp;&nbsp;&nbsp;&nbsp;exit(1)<br><br>\n",
    "\\# The finally clause means that whether the operation worked or raised an exception, the finally code block<br>\n",
    "\\# will always be executed.<br> \n",
    "finally:<br>\n",
    "&nbsp;&nbsp;&nbsp;&nbsp;myfileobject.close()<br>\n",
    "<br>\n",
    "</p>\n",
    "</td>\n",
    "</tr>\n",
    "</table>\n"
   ]
  },
  {
   "cell_type": "code",
   "execution_count": 29,
   "metadata": {
    "collapsed": false
   },
   "outputs": [
    {
     "name": "stdout",
     "output_type": "stream",
     "text": [
      "Please enter a number 5\n",
      "5\n"
     ]
    }
   ],
   "source": [
    "while (True):\n",
    "    try:\n",
    "        a = int(input ('Please enter a number '))\n",
    "    except ValueError:\n",
    "        print (\"You entered an invalid number!\")\n",
    "        print ('Please re-enter!')\n",
    "    finally:\n",
    "        break\n",
    "    \n",
    "b = 0\n",
    "b = a + b\n",
    "print (b)"
   ]
  },
  {
   "cell_type": "code",
   "execution_count": 5,
   "metadata": {
    "collapsed": false
   },
   "outputs": [
    {
     "name": "stdout",
     "output_type": "stream",
     "text": [
      "An error occurred when trying to access the file: ERRNO: 2, ERROR: No such file or directory \n"
     ]
    },
    {
     "ename": "SystemExit",
     "evalue": "1",
     "output_type": "error",
     "traceback": [
      "An exception has occurred, use %tb to see the full traceback.\n",
      "\u001b[0;31mSystemExit\u001b[0m\u001b[0;31m:\u001b[0m 1\n"
     ]
    },
    {
     "name": "stderr",
     "output_type": "stream",
     "text": [
      "C:\\Users\\bbrelin\\Anaconda3\\lib\\site-packages\\IPython\\core\\interactiveshell.py:2889: UserWarning: To exit: use 'exit', 'quit', or Ctrl-D.\n",
      "  warn(\"To exit: use 'exit', 'quit', or Ctrl-D.\", stacklevel=1)\n"
     ]
    }
   ],
   "source": [
    "# We want the exit function from the sys module so we can quit the program if an error occurs. \n",
    "from sys import exit\n",
    "\n",
    "# Notice in the open that we're explicitly setting the file mode to 'r+' or read/write mode. \n",
    "try:\n",
    "    myfileobject = open('../data/some_invalid_filename.dat','r+')\n",
    "    myfileobject.write('Writing some output')\n",
    "\n",
    "# Here we're going to catch any IOErrors by printing an error message, including the error string\n",
    "# returned from the operating system and exit using the sys.exit() method. Note that we pass a non-zero \n",
    "# value to indicate that we exited the program with an error condition. \n",
    "except IOError as e:\n",
    "    (errno,strerror) = e.args\n",
    "    print (\"An error occurred when trying to access the file: ERRNO: %d, ERROR: %s \" % (errno,strerror))\n",
    "    exit(1)\n",
    "\n",
    "# The finally clause means that whether the operation worked or raised an exception, the finally code block\n",
    "# will always be executed.\n",
    "finally:\n",
    "    myfileobject.close()\n"
   ]
  },
  {
   "cell_type": "code",
   "execution_count": 15,
   "metadata": {
    "collapsed": false
   },
   "outputs": [
    {
     "name": "stdout",
     "output_type": "stream",
     "text": [
      "3.141592653589793\n"
     ]
    }
   ],
   "source": [
    "from math import pi,cos,sin,tan,log\n",
    "import numpy as np\n",
    "import pandas as pd\n",
    "import matplotlib as plt \n",
    "\n",
    "np.array\n",
    "\n",
    "print (pi)"
   ]
  },
  {
   "cell_type": "code",
   "execution_count": null,
   "metadata": {
    "collapsed": true
   },
   "outputs": [],
   "source": [
    "import sys\n",
    "try:\n",
    "    f  = open('baseballsalaries.csv')\n",
    "except OSError:\n",
    "    print ('File not found!')\n",
    "    sys.exit(1)\n",
    "    \n",
    "\n",
    "salaries = {}\n",
    "try:\n",
    "    for line in f:\n",
    "        record = line.strip().split(',')\n",
    "        if record[0] not in salaries:\n",
    "        try:\n",
    "            salaries[record[0]] = int(record[3])\n",
    "        except ValueError:\n",
    "            continue\n",
    "        else:\n",
    "            try:\n",
    "                salaries[record[0]] += int(record[3])\n",
    "            except ValueError:\n",
    "                continue\n",
    "except IOError:\n",
    "    print ('IO Error!  Program exiting!')\n",
    "    sys.exit(1)\n",
    "    \n",
    "finally:\n",
    "    f.close()\n",
    "    \n",
    "    \n",
    "team = input('Please enter a team name: ')\n",
    "try:\n",
    "    print (salaries[team])\n",
    "except KeyError:\n",
    "    print ('Invalid key!')"
   ]
  },
  {
   "cell_type": "markdown",
   "metadata": {},
   "source": [
    "<h3>Python comprehensions</h3><br>\n",
    "Let us consider the following problem.  If you are tasked to take a list of numbers and return a new list consisting of the squares of the original numbers, how would you do this?  Likely, you might do something like this:\n",
    "\n",
    "<table width='750px' align='left'>\n",
    "<tr>\n",
    "<td>\n",
    "<p style='font-family:courier'>\n",
    "\n",
    "\\# Let's create our original list of numbers.<br>\n",
    "mynums = [1,2,3,4,5] <br>\n",
    "\n",
    "\\# Let's define our squares function which takes in the original list of numbers<br>\n",
    "\\# and builds a new list of the squares by iterating over the original list.<br>\n",
    "def squares(original):<br>\n",
    "&nbsp;&nbsp;&nbsp;&nbsp;squares = []<br>\n",
    "&nbsp;&nbsp;&nbsp;&nbsp;for number in original:<br>\n",
    "&nbsp;&nbsp;&nbsp;&nbsp;&nbsp;&nbsp;&nbsp;&nbsp;squares.append(number \\*\\* 2)<br>\n",
    "&nbsp;&nbsp;&nbsp;&nbsp;return squares<br>\n",
    "<br>\n",
    "newlist = squares(mynums)<br>\n",
    "print (newlist)\n",
    "<br>\n",
    "</p>\n",
    "</td>\n",
    "</tr>\n",
    "</table>\n",
    "<br><br><br><br><br><br><br><br><br><br><br><br><br><br>\n",
    "Python, however, gives you a new construct to be able to perform this entire sequence far more succinctly using a *comprehension*.\n",
    "<table width='750px' align='left'>\n",
    "<tr>\n",
    "<td>\n",
    "<p style='font-family:courier'>\n",
    "\n",
    "\\# Let's create our original list of numbers.<br>\n",
    "mynums = [1,2,3,4,5] <br><br>\n",
    "\\# Here is our list comprehension.  Note that we've moved the code from the squares function<br>\n",
    "\\# directly inside the list operator.<br>\n",
    "newlist = [num \\*\\* 2 for num in mynums]<br><br>\n",
    "print (newlist)\n",
    "<br>\n",
    "</p>\n",
    "</td>\n",
    "</tr>\n",
    "</table>\n",
    "<br><br><br><br><br><br><br><br><br><br><br><br><br><br>\n",
    "This concept of a comprehension is derived from the *set builder* notation which is part of the mathematical discipline of \n",
    "*set theory*.\n",
    "\n",
    "We can also attach conditionals to our comprehensions.  For example, if we want to only calculate the squares of the even numbers of the original list, we can also do this with a list comprehension.\n",
    "\n",
    "<table width='750px' align='left'>\n",
    "<tr>\n",
    "<td>\n",
    "<p style='font-family:courier'>\n",
    "\n",
    "\\# Let's create our original list of numbers.<br>\n",
    "mynums = range(11) <br><br>\n",
    "\\# Here is our list comprehension.  Note that we've moved the code from the squares function<br>\n",
    "\\# directly inside the list operator. Also note that we only add to the newlist if the original number<br>\n",
    "\\# is even, as discovered using the modulo operator.<br>\n",
    "newlist = [num \\*\\* 2 for num in mynums if num % 2 == 0]<br><br>\n",
    "print (newlist)\n",
    "<br>\n",
    "</p>\n",
    "</td>\n",
    "</tr>\n",
    "</table>\n",
    "<br><br><br><br><br><br><br><br><br><br><br><br><br>\n",
    "Comprehensions have two major advantages over writing your own loops. \n",
    "- Often times, the code is clearer and more concise.\n",
    "- The code will run significantly faster in the Python Virtual Machine, often 30-40 per cent faster. "
   ]
  },
  {
   "cell_type": "code",
   "execution_count": 21,
   "metadata": {
    "collapsed": false
   },
   "outputs": [
    {
     "name": "stdout",
     "output_type": "stream",
     "text": [
      "[4, 16, 36, 64, 100]\n"
     ]
    }
   ],
   "source": [
    "nums = [1,2,3,4,5,6,7,8,9,10]\n",
    "newnums = [ num ** 2 for num in nums if num % 2 == 0 ]\n",
    "print (newnums)"
   ]
  },
  {
   "cell_type": "code",
   "execution_count": 22,
   "metadata": {
    "collapsed": false
   },
   "outputs": [
    {
     "name": "stdout",
     "output_type": "stream",
     "text": [
      "[18.333333333333336, -6.666666666666667, 37.77777777777778, 0.0]\n"
     ]
    }
   ],
   "source": [
    "fahrenheit = [65,20,100,32]\n",
    "celsius = [ 5/9 * (f - 32) for f in fahrenheit ]\n",
    "print (celsius)"
   ]
  },
  {
   "cell_type": "code",
   "execution_count": 31,
   "metadata": {
    "collapsed": false
   },
   "outputs": [
    {
     "name": "stdout",
     "output_type": "stream",
     "text": [
      "[(1, 'Mon'), (2, 'Tue'), (3, 'Wed'), (4, 'Thu'), (5, 'Fri'), (6, 'Sat'), (7, 'Sun')]\n"
     ]
    }
   ],
   "source": [
    "nums = [1,2,3,4,5,6,7,8]\n",
    "daysofweek = ['Mon','Tue','Wed','Thu','Fri','Sat','Sun']\n",
    "\n",
    "print (list(zip(nums,daysofweek)))\n",
    "#dowdict = {pair[0]:pair[1] for pair in zip(nums,daysofweek)}\n",
    "#print (dowdict[4])"
   ]
  },
  {
   "cell_type": "code",
   "execution_count": 20,
   "metadata": {
    "collapsed": false
   },
   "outputs": [
    {
     "name": "stdout",
     "output_type": "stream",
     "text": [
      "Number is divisible by two\n"
     ]
    }
   ],
   "source": [
    "x = 2\n",
    "\n",
    "if x % 2 == 0:\n",
    "    print ('Number is divisible by two')"
   ]
  },
  {
   "cell_type": "code",
   "execution_count": 19,
   "metadata": {
    "collapsed": false
   },
   "outputs": [
    {
     "name": "stdout",
     "output_type": "stream",
     "text": [
      "['FI', 'FO', 'FUM']\n"
     ]
    }
   ],
   "source": [
    "mylist = ['Fee','Fi','Fo','Fum']\n",
    "myupperlist = [ word.upper() for word in mylist if 'Fee' not in word ]\n",
    "\n",
    "print (myupperlist)\n",
    "#for word in mylist:\n",
    "#    myupperlist.append(word.upper())\n",
    "    \n",
    "\n"
   ]
  },
  {
   "cell_type": "code",
   "execution_count": 11,
   "metadata": {
    "collapsed": false
   },
   "outputs": [
    {
     "name": "stdout",
     "output_type": "stream",
     "text": [
      "[1, 4, 9, 16, 25]\n"
     ]
    }
   ],
   "source": [
    "# Let's create our original list of numbers. \n",
    "mynums = [1,2,3,4,5]\n",
    "# Let's define our squares function which takes in the original list of numbers\n",
    "# and builds a new list of the squares by iterating over the original list.\n",
    "def squares(original):\n",
    "    squares = []\n",
    "    for number in original:\n",
    "        squares.append(number ** 2)\n",
    "    return squares\n",
    "\n",
    "newlist = squares(mynums)\n",
    "print (newlist) "
   ]
  },
  {
   "cell_type": "code",
   "execution_count": 8,
   "metadata": {
    "collapsed": false
   },
   "outputs": [
    {
     "name": "stdout",
     "output_type": "stream",
     "text": [
      "[1, 4, 9, 16, 25]\n"
     ]
    }
   ],
   "source": [
    "# Let's create our original list of numbers.\n",
    "mynums = [1,2,3,4,5] \n",
    "\n",
    "# Here is our list comprehension. Note that we've moved the code from the squares function\n",
    "# directly inside the list operator.\n",
    "newlist = [num ** 2 for num in mynums]\n",
    "\n",
    "print (newlist) "
   ]
  },
  {
   "cell_type": "code",
   "execution_count": 12,
   "metadata": {
    "collapsed": false
   },
   "outputs": [
    {
     "name": "stdout",
     "output_type": "stream",
     "text": [
      "[0, 4, 16, 36, 64, 100]\n"
     ]
    }
   ],
   "source": [
    "# Let's create our original list of numbers.\n",
    "mynums = range(11)\n",
    "\n",
    "# Here is our list comprehension. Note that we've moved the code from the squares function\n",
    "# directly inside the list operator. Also note that we only add to the newlist if the original number\n",
    "# is even, as discovered using the modulo operator.\n",
    "newlist = [num ** 2 for num in mynums if num % 2 == 0]\n",
    "\n",
    "print (newlist) "
   ]
  },
  {
   "cell_type": "markdown",
   "metadata": {},
   "source": [
    "We can also use comprehensions with dictionaries.  To build a dictionary, we need to present it with key value pairs. Let's see an example.\n",
    "\n",
    "<table width='850px' align='left'>\n",
    "<tr>\n",
    "<td>\n",
    "<p style='font-family:courier'>\n",
    "\\# Let's create a list of tuples. Each tuple will contain an ID and a name.<br>\n",
    "names = [(12345,'Braun'),(12346,'Joe'),(12347,'James'),(12348,'Patrick'),(12349,'Paul')] <br><br>\n",
    "\\# Let's build a dictionary using a dictionary comprehension.  The key will be the ID, the value, the name<br>\n",
    "namedict = { name[0] : name[1] for name in names }<br><br>\n",
    "print (namedict)<br>\n",
    "<br>\n",
    "</p>\n",
    "</td>\n",
    "</tr>\n",
    "</table>\n",
    "<br><br><br><br><br><br><br><br><br><br><br><br><br><br>\n",
    "\n"
   ]
  },
  {
   "cell_type": "code",
   "execution_count": 14,
   "metadata": {
    "collapsed": false
   },
   "outputs": [
    {
     "name": "stdout",
     "output_type": "stream",
     "text": [
      "{12345: 'Braun', 12346: 'Joe', 12347: 'James', 12348: 'Patrick', 12349: 'Paul'}\n"
     ]
    }
   ],
   "source": [
    "# Let's create a list of tuples. Each tuple will contain an ID and a name.\n",
    "names = [(12345,'Braun'),(12346,'Joe'),(12347,'James'),(12348,'Patrick'),(12349,'Paul')] \n",
    "\n",
    "# Let's build a dictionary using a dictionary comprehension. The key will be the ID, the value, the name\n",
    "namedict = { name[0] : name[1] for name in names }\n",
    "\n",
    "print (namedict)\n"
   ]
  },
  {
   "cell_type": "markdown",
   "metadata": {},
   "source": [
    "<h3> Quick Exercise </h3><br>\n",
    "A common software pattern used with dictionary comprehensions is to take two lists and combine them into a dictionary\n",
    "where one list will contain the dictionary keys and the other the values.  Use the *zip()* built in function to assist you.  \n",
    "\n",
    "The next cell contains two lists, one of the top ten rarest gemstones, the other list contains the price per caret. \n",
    "Construct a dictionary that merges the two lists, where the gemstone name is the key and the price per caret is the value. "
   ]
  },
  {
   "cell_type": "code",
   "execution_count": 39,
   "metadata": {
    "collapsed": false
   },
   "outputs": [
    {
     "name": "stdout",
     "output_type": "stream",
     "text": [
      "Please enter the gemstone: Tanzanite\n",
      "The price for that gemstone is:  1000.0\n"
     ]
    }
   ],
   "source": [
    "# Here are the two lists that we want to combine into a dictionary. \n",
    "gemstonenames = ['Tanzanite','Taaffeite','Black Opal', 'Benitoite', 'Red Beryl', 'Alexandrite', \\\n",
    "                 'Jadeite','Musgraveite', 'Painite','Pink Diamond']\n",
    "gemstoneprice = [1000.00,1500.00,2300.00,3000.00,10000.00,12000.00,20000.00, 35000.00, 50000.00, 1300000.00]\n",
    "\n",
    "# Write a dictionary comprehension to combine the two lists.  The names will be the keys, the price will be the values. \n",
    "# Refer to the Python documentation for the zip() built in function. \n",
    "\n",
    "gemstonedict ={}\n",
    "#gemstonelist = zip(gemstonenames, gemstoneprice)\n",
    "#for gems in gemstonelist:\n",
    "#    gemstonedict [gems[0]] = gems[1]\n",
    "gemstonedict = {gems[0]:gems[1] for gems in zip(gemstonenames,gemstoneprice)}\n",
    "gemkey = input ('Please enter the gemstone: ')\n",
    "print ('The price for that gemstone is: ',gemstonedict[gemkey])\n"
   ]
  },
  {
   "cell_type": "code",
   "execution_count": 7,
   "metadata": {
    "collapsed": false
   },
   "outputs": [
    {
     "name": "stdout",
     "output_type": "stream",
     "text": [
      "{'d': 4, 'e': 5, 'b': 2, 'c': 3, 'a': 1}\n"
     ]
    }
   ],
   "source": [
    "list1 = ['a','b','c','d','e']\n",
    "list2 = [1,2,3,4,5]\n",
    "list3 = list(zip(list1,list2))\n",
    "d = {}\n",
    "d = {pair[0]:pair[1] for pair in list3}\n",
    "print (d)"
   ]
  },
  {
   "cell_type": "code",
   "execution_count": 10,
   "metadata": {
    "collapsed": false
   },
   "outputs": [
    {
     "name": "stdout",
     "output_type": "stream",
     "text": [
      "[1, 4, 27, 16, 125, 36, 343, 64, 729, 100]\n"
     ]
    }
   ],
   "source": [
    "mynums = [1,2,3,4,5,6,7,8,9,10]\n",
    "mysquares = [num **2 if num %2 == 0 else num **3 for num in mynums]\n",
    "print (mysquares)"
   ]
  },
  {
   "cell_type": "code",
   "execution_count": 17,
   "metadata": {
    "collapsed": false
   },
   "outputs": [
    {
     "name": "stdout",
     "output_type": "stream",
     "text": [
      "[4, 16, 36, 64, 100]\n"
     ]
    }
   ],
   "source": [
    "def square(x):\n",
    "    return x**2\n",
    "\n",
    "def get_even(x):\n",
    "    if x % 2 == 0:\n",
    "        return True\n",
    "    else:\n",
    "        return False\n",
    "\n",
    "mynums = [1,2,3,4,5,6,7,8,9,10]\n",
    "\n",
    "mysquares = map(square,filter(get_even,mynums))\n",
    "print (list(mysquares))"
   ]
  },
  {
   "cell_type": "code",
   "execution_count": 22,
   "metadata": {
    "collapsed": false
   },
   "outputs": [
    {
     "name": "stdout",
     "output_type": "stream",
     "text": [
      "Looking for this in Does this text match the pattern\n",
      "Found a match!\n",
      "The match started at position: 5 and ended at position: 9\n",
      "\n",
      "Looking for that in Does this text match the pattern\n",
      "No match found!\n"
     ]
    }
   ],
   "source": [
    "import re\n",
    "\n",
    "patterns = ['this','that']\n",
    "text = 'Does this text match the pattern'\n",
    "\n",
    "for pattern in patterns:\n",
    "    print ('Looking for %s in %s' %(pattern,text))\n",
    "    searchResult = re.search(pattern,text)\n",
    "    if searchResult:\n",
    "        print ('Found a match!')\n",
    "        print ('The match started at position: %d and ended at position: %d\\n'% (searchResult.start(),searchResult.end()))\n",
    "    else:\n",
    "        print ('No match found!')"
   ]
  },
  {
   "cell_type": "code",
   "execution_count": 53,
   "metadata": {
    "collapsed": false
   },
   "outputs": [
    {
     "name": "stdout",
     "output_type": "stream",
     "text": [
      "Account Name\tAccount Balance\n",
      "-------------------------------\n",
      "Braun Brelin\t10000.00\n",
      "Joe Blow\t500.41\n",
      "Jack Green\t251.24\n"
     ]
    }
   ],
   "source": [
    "name = 'Braun Brelin'\n",
    "age = 21\n",
    "\n",
    "acctlist = [('Braun Brelin',10000.00052),('Joe Blow',500.4102),('Jack Green',251.2351)]\n",
    "print ('Account Name\\tAccount Balance')\n",
    "print ('-'*31)\n",
    "for (acctname,acctbal) in acctlist:\n",
    "    print ('%s\\t%.2f' % (acctname,acctbal))\n",
    "    \n",
    "    \n",
    "\n",
    "\n"
   ]
  },
  {
   "cell_type": "code",
   "execution_count": 14,
   "metadata": {
    "collapsed": false
   },
   "outputs": [
    {
     "name": "stdout",
     "output_type": "stream",
     "text": [
      "r = 2.236 t = 1.107\n",
      "r = 7.810 t = 0.876\n",
      "r = 3.162 t = -1.249\n",
      "r = 5.657 t = 0.785\n"
     ]
    }
   ],
   "source": [
    "import math\n",
    "\n",
    "def convert_to_polar(coordt):\n",
    "    x,y = coordt\n",
    "    radius = math.sqrt(x**2 + y**2)\n",
    "    theta = math.atan(y/x)\n",
    "    return (radius,theta)\n",
    "\n",
    "coordlist = [(1,2),(5,6),(-1,3),(4,4)]\n",
    "polarlist = map(convert_to_polar,coordlist)\n",
    "for coord in polarlist:\n",
    "    print ('r = %.3f t = %.3f' % (coord[0],coord[1]))"
   ]
  },
  {
   "cell_type": "code",
   "execution_count": 60,
   "metadata": {
    "collapsed": false
   },
   "outputs": [
    {
     "name": "stdout",
     "output_type": "stream",
     "text": [
      "5 1\n"
     ]
    }
   ],
   "source": [
    "def myfunc(a,b=1):\n",
    "    print (a,b)\n",
    "    return\n",
    "\n",
    "myfunc(5)"
   ]
  },
  {
   "cell_type": "code",
   "execution_count": 65,
   "metadata": {
    "collapsed": false
   },
   "outputs": [
    {
     "name": "stdout",
     "output_type": "stream",
     "text": [
      "1\n",
      "2\n"
     ]
    }
   ],
   "source": [
    "class Foo:\n",
    "    def __init__(self,a,b):\n",
    "        self.first = a\n",
    "        self.second = b\n",
    "    \n",
    "    def returna(self):\n",
    "        return self.first\n",
    "    \n",
    "    def returnb(self):\n",
    "        return self.second\n",
    "    \n",
    "f = Foo(1,2)\n",
    "print (f.returna())\n",
    "print (f.returnb())"
   ]
  },
  {
   "cell_type": "code",
   "execution_count": 69,
   "metadata": {
    "collapsed": false,
    "scrolled": true
   },
   "outputs": [
    {
     "name": "stdout",
     "output_type": "stream",
     "text": [
      "Speak!\n",
      "3\n",
      "3\n",
      "4\n"
     ]
    }
   ],
   "source": [
    "class Animal:\n",
    "    \n",
    "    ''' This is my animal class.  It has a speak method '''\n",
    "    \n",
    "    def __init__(self,n,a,b):\n",
    "        self.name = n\n",
    "        self.age = a\n",
    "        self.breed = b\n",
    "        \n",
    "    def getAge(self):\n",
    "        return self.age\n",
    "    \n",
    "    def setAge(self,newAge):\n",
    "        self.age = newAge\n",
    "        return\n",
    "        \n",
    "    def speak(self):\n",
    "        return ('Speak!')\n",
    "    \n",
    "a = Animal('Rex',2,'German Shepherd')\n",
    "a1 = Animal('Bowser',3,'Boxer')\n",
    "a2 = Animal('Fido',4,'Poodle')\n",
    "\n",
    "print (a.speak())\n",
    "a.setAge(3)\n",
    "print (a.getAge())\n",
    "\n",
    "print (a1.getAge())\n",
    "print (a2.getAge())\n"
   ]
  },
  {
   "cell_type": "code",
   "execution_count": 74,
   "metadata": {
    "collapsed": false
   },
   "outputs": [
    {
     "name": "stdout",
     "output_type": "stream",
     "text": [
      "100.0\n",
      "500.0\n"
     ]
    }
   ],
   "source": [
    "class BankAcct:\n",
    "    def __init__(self,balance):\n",
    "        self.balance = balance\n",
    "        \n",
    "    def getBalance(self):\n",
    "        return (self.balance)\n",
    "    \n",
    "    def Deposit(self,deposit):\n",
    "        self.balance += newbal\n",
    "        \n",
    "    def Withdrawal(self,withdrawal):\n",
    "        self.balance -= withdrawal\n",
    "        \n",
    "    def setBalance(self,newbal):\n",
    "        self.balance = newbal\n",
    "        \n",
    "\n",
    "braun_checking = BankAcct(100.00)\n",
    "braun_saving = BankAcct(500.00)\n",
    "braun_ccacct = BankAcct(250.00)\n",
    "print (braun_checking.getBalance())\n",
    "braun_checking.setBalance(500.00)\n",
    "print (braun_checking.getBalance())       \n"
   ]
  },
  {
   "cell_type": "code",
   "execution_count": 61,
   "metadata": {
    "collapsed": false
   },
   "outputs": [
    {
     "name": "stdout",
     "output_type": "stream",
     "text": [
      "False\n",
      "True\n"
     ]
    }
   ],
   "source": [
    "class Light:\n",
    "    \n",
    "    ''' This is the Light class.\n",
    "    There are two methods, switch and getState \n",
    "    and there is one variable, state \n",
    "    '''\n",
    "    def __init__(self,s=False):\n",
    "        self.state=s\n",
    "    \n",
    "    def switch(self):\n",
    "        if (self.state == False):\n",
    "            self.state = True\n",
    "        else:\n",
    "            self.state = False\n",
    "    \n",
    "    def getState(self):\n",
    "        return self.state\n",
    "\n",
    "            \n",
    "light1 = Light(True)\n",
    "light2 = Light()\n",
    "\n",
    "light1.switch()\n",
    "light2.switch()\n",
    "print (light1.getState())\n",
    "print (light2.getState())"
   ]
  },
  {
   "cell_type": "code",
   "execution_count": 3,
   "metadata": {
    "collapsed": false
   },
   "outputs": [
    {
     "name": "stdout",
     "output_type": "stream",
     "text": [
      "Match found!\n"
     ]
    }
   ],
   "source": [
    "import re\n",
    "\n",
    "ipfile = open('ipaddrs.txt')\n",
    "\n",
    "repattern = '[0-9]{1,3}\\.[0-9]{1,3}\\.[0-9]{1,3}\\.[0-9]{1,3}'\n",
    "validipaddrs = 0\n",
    "invalidipaddrs=0\n",
    "for ipaddr in ipfile:\n",
    "    match_object = re.search(repattern,ipaddr\n",
    "\n",
    "if match_object is None:\n",
    "    invalidipaddrs +=1                        \n",
    "else:\n",
    "    validipaddrs +=1\n",
    "                        \n",
    "print ('Found %d valid ipaddresses' %(validipaddrs))\n",
    "print ('Found %d invalid ipaddresses' %(invalidipaddrs))\n",
    "print ('Processes %d total ipaddresses' %(validipaddrs + invalidipaddrs))                        "
   ]
  },
  {
   "cell_type": "code",
   "execution_count": null,
   "metadata": {
    "collapsed": true
   },
   "outputs": [],
   "source": []
  },
  {
   "cell_type": "markdown",
   "metadata": {},
   "source": [
    "# Exercise 6. "
   ]
  },
  {
   "cell_type": "markdown",
   "metadata": {},
   "source": [
    "## Part 1."
   ]
  },
  {
   "cell_type": "markdown",
   "metadata": {},
   "source": [
    "Create a Python class representing an IPAddress.  The class<br>\n",
    "should have only one initialization variable--an IP address in<br>\n",
    "dotted decimal formation.  You should be able to do the following<br>\n",
    "with your class:<br>\n",
    "\n",
    "    A. Write a method for this class that returns the IP address in<br>\n",
    "dotted binary format (each octet should be eight binary digits in<br>\n",
    "length).<br>\n",
    "<br>\n",
    "    B. Write a method for this class that returns the IP address in<br>\n",
    "dotted hex format (each octet should be two hex digits in length).<br>\n",
    "<br>\n",
    "    C. Using the IP address validation function previously created <br>\n",
    "        create an is_valid() method that returns either True or<br>\n",
    "False depending on whether the IP address is valid.<br>"
   ]
  },
  {
   "cell_type": "code",
   "execution_count": null,
   "metadata": {
    "collapsed": true
   },
   "outputs": [],
   "source": []
  },
  {
   "cell_type": "markdown",
   "metadata": {},
   "source": [
    "## Part 2."
   ]
  },
  {
   "cell_type": "markdown",
   "metadata": {},
   "source": [
    " Write a new class, IPAddressWithNetmask, that is based upon\n",
    "the IPAddress class created in exercise1 (i.e. use inheritance).\n",
    " The netmask should be stored in slash notation (i.e. /24).  With\n",
    "this class you should be able to do the following:\n",
    "\n",
    "If possible, the ip_addr attribute should be assigned via the\n",
    "__init__ method in the IPAddress Class (in other words, call the\n",
    "__init__ method of the base IPAddress class with '172.31.255.1' as\n",
    "an argument).\n",
    "All of the other methods from the IPAddress class should be left\n",
    "unchanged.\n",
    "\n",
    "    Create a new method in the IPAddressWithNetmask class that\n",
    "converts the slash notation netmask to dotted decimal.\n",
    "    "
   ]
  },
  {
   "cell_type": "code",
   "execution_count": null,
   "metadata": {
    "collapsed": true
   },
   "outputs": [],
   "source": []
  },
  {
   "cell_type": "markdown",
   "metadata": {},
   "source": [
    "# The solutions are below"
   ]
  },
  {
   "cell_type": "markdown",
   "metadata": {},
   "source": [
    "<img src='graphics/mario.jpg'> </img>"
   ]
  },
  {
   "cell_type": "code",
   "execution_count": null,
   "metadata": {
    "collapsed": true
   },
   "outputs": [],
   "source": []
  },
  {
   "cell_type": "code",
   "execution_count": null,
   "metadata": {
    "collapsed": true
   },
   "outputs": [],
   "source": []
  },
  {
   "cell_type": "code",
   "execution_count": 36,
   "metadata": {
    "collapsed": false
   },
   "outputs": [
    {
     "name": "stdout",
     "output_type": "stream",
     "text": [
      "\n",
      "Testing IP: 192.168.1.1\n",
      "IP in binary: 11000000.10101000.00000001.00000001\n",
      "IP in hex: c0.a8.01.01\n",
      "IP is valid: True\n",
      "\n",
      "\n",
      "Testing IP: 0.255.1.1\n",
      "IP in binary: 00000000.11111111.00000001.00000001\n",
      "IP in hex: 00.ff.01.01\n",
      "IP is valid: False\n",
      "\n"
     ]
    }
   ],
   "source": [
    "class IPAddress(object):\n",
    "    '''\n",
    "    A class representing an IP address\n",
    "    '''\n",
    "\n",
    "    def __init__(self, ip_addr):\n",
    "        self.ip_addr = ip_addr\n",
    "\n",
    "\n",
    "    def display_in_binary(self):\n",
    "        '''\n",
    "        Display the IP address in dotted binary format padded to eight\n",
    "        digits:\n",
    "        11000000.10101000.00000001.00000001\n",
    "        '''\n",
    "\n",
    "        octets = self.ip_addr.split(\".\")\n",
    "\n",
    "        binary_ip = []\n",
    "        for octet in octets:\n",
    "            # convert octet to binary\n",
    "            octet_bin = bin(int(octet))\n",
    "            octet_bin = octet_bin.split('0b')[1]\n",
    "\n",
    "            # pad to 8 digits using rjust() method\n",
    "            octet_bin = octet_bin.rjust(8, '0')\n",
    "            binary_ip.append(octet_bin)\n",
    "\n",
    "        return \".\".join(binary_ip)\n",
    "\n",
    "\n",
    "    def display_in_hex(self):\n",
    "        '''\n",
    "        Display the IP address in dotted hex format padded to eight\n",
    "        digits:\n",
    "        c0.a8.01.01\n",
    "        '''\n",
    "\n",
    "        octets = self.ip_addr.split(\".\")\n",
    "\n",
    "        hex_ip = []\n",
    "        for octet in octets:\n",
    "            # convert octet to hex\n",
    "            octet_hex = hex(int(octet))\n",
    "            octet_hex = octet_hex.split('0x')[1]\n",
    "\n",
    "            # pad to 2 digits using rjust() method\n",
    "            octet_hex = octet_hex.rjust(2, '0')\n",
    "            hex_ip.append(octet_hex)\n",
    "\n",
    "        return \".\".join(hex_ip)\n",
    "\n",
    "\n",
    "    def is_valid(self):\n",
    "        '''\n",
    "        Check if the IP address is valid\n",
    "        Return either True or False\n",
    "        '''\n",
    "\n",
    "        # Make sure IP has four octets\n",
    "        octets = self.ip_addr.split('.')\n",
    "        if len(octets) != 4:\n",
    "            return False\n",
    "\n",
    "        # convert octet from string to int\n",
    "        for i, octet in enumerate(octets):\n",
    "\n",
    "            try:\n",
    "                octets[i] = int(octet)\n",
    "            except ValueError:\n",
    "                # couldn't convert octet to an integer\n",
    "                return False\n",
    "\n",
    "\n",
    "        # map variables to elements of octets list\n",
    "        first_octet, second_octet, third_octet, fourth_octet = octets\n",
    "\n",
    "        # Check first_octet meets conditions\n",
    "        if first_octet < 1:\n",
    "            return False\n",
    "        elif first_octet > 223:\n",
    "            return False\n",
    "        elif first_octet == 127:\n",
    "            return False\n",
    "\n",
    "        # Check 169.254.X.X condition\n",
    "        if first_octet == 169 and second_octet == 254:\n",
    "            return False\n",
    "\n",
    "        # Check 2nd - 4th octets\n",
    "        for octet in (second_octet, third_octet, fourth_octet):\n",
    "            if (octet < 0) or (octet > 255):\n",
    "                return False\n",
    "\n",
    "\n",
    "        # Passed all of the checks\n",
    "        return True\n",
    "\n",
    "\n",
    "\n",
    "\n",
    "if __name__ == \"__main__\":\n",
    "\n",
    "    # Some simple testing\n",
    "    TEST_IP = ['192.168.1.1', '0.255.1.1']\n",
    "\n",
    "    for ip in TEST_IP:\n",
    "        print (\"\\nTesting IP: %s\" % ip)\n",
    "        test_ip = IPAddress(ip)\n",
    "        print (\"IP in binary: %s\" % test_ip.display_in_binary())\n",
    "        print (\"IP in hex: %s\" % test_ip.display_in_hex())\n",
    "        print (\"IP is valid: %s\" % test_ip.is_valid())\n",
    "        print ()\n"
   ]
  },
  {
   "cell_type": "code",
   "execution_count": null,
   "metadata": {
    "collapsed": true
   },
   "outputs": [],
   "source": []
  },
  {
   "cell_type": "code",
   "execution_count": null,
   "metadata": {
    "collapsed": true
   },
   "outputs": [],
   "source": []
  },
  {
   "cell_type": "code",
   "execution_count": 38,
   "metadata": {
    "collapsed": false
   },
   "outputs": [
    {
     "name": "stdout",
     "output_type": "stream",
     "text": [
      "\n",
      "             IP: 172.31.255.1                            \n",
      "        Netmask: /24                                     \n",
      "      Binary IP: 10101100.00011111.11111111.00000001     \n",
      "         Hex IP: ac.1f.ff.01                             \n",
      "       IP Valid: True                                    \n",
      "Netmask dot dec: 255.255.255.0                           \n",
      "\n"
     ]
    }
   ],
   "source": [
    "class IPAddressWithNetmask(IPAddress):\n",
    "    '''\n",
    "    Add a netmask to the IPAddress class\n",
    "    '''\n",
    "\n",
    "    def __init__(self, ip_addr):\n",
    "\n",
    "        (ip_addr, netmask) = ip_addr.split(\"/\")\n",
    "        self.netmask = '/' + netmask\n",
    "\n",
    "        # Call the base class\n",
    "        IPAddress.__init__(self, ip_addr)\n",
    "\n",
    "\n",
    "    def netmask_in_dotdecimal(self):\n",
    "        '''\n",
    "        Display the netmask in dotted decimal\n",
    "        '''\n",
    "\n",
    "        # Use the fact that you can repeat a string via multiplication\n",
    "        netmask = int(self.netmask.strip(\"/\"))\n",
    "        one_string = '1' * netmask\n",
    "\n",
    "        # Number of zeros\n",
    "        zero_string = '0' * (32 - netmask)\n",
    "\n",
    "        # New netmask string\n",
    "        netmask_str = one_string + zero_string\n",
    "\n",
    "        # Grab each octet\n",
    "        octet1 = netmask_str[:8]\n",
    "        octet2 = netmask_str[8:16]\n",
    "        octet3 = netmask_str[16:24]\n",
    "        octet4 = netmask_str[24:32]\n",
    "        netmask_tmp = [octet1, octet2, octet3, octet4]\n",
    "\n",
    "        # Convert from binary to decimal\n",
    "        for i, octet in enumerate(netmask_tmp):\n",
    "            # Must be a string to use the join method\n",
    "            netmask_tmp[i] = str(int(octet, 2))\n",
    "\n",
    "        return '.'.join(netmask_tmp)\n",
    "\n",
    "\n",
    "def main():\n",
    "    '''\n",
    "    Basic test on code\n",
    "    '''\n",
    "    test_ip2 = IPAddressWithNetmask('172.31.255.1/24')\n",
    "\n",
    "    print ()\n",
    "    print (\"%15s: %-40s\" % (\"IP\", test_ip2.ip_addr))\n",
    "    print (\"%15s: %-40s\" % (\"Netmask\", test_ip2.netmask))\n",
    "    print (\"%15s: %-40s\" % (\"Binary IP\", test_ip2.display_in_binary()))\n",
    "    print (\"%15s: %-40s\" % (\"Hex IP\", test_ip2.display_in_hex()))\n",
    "    print (\"%15s: %-40s\" % (\"IP Valid\", test_ip2.is_valid()))\n",
    "    print (\"%15s: %-40s\" % (\"Netmask dot dec\", test_ip2.netmask_in_dotdecimal()))\n",
    "    print ()\n",
    "\n",
    "\n",
    "if __name__ == \"__main__\":\n",
    "    main()\n",
    "\n"
   ]
  }
 ],
 "metadata": {
  "anaconda-cloud": {},
  "kernelspec": {
   "display_name": "Python 3",
   "language": "python",
   "name": "python3"
  },
  "language_info": {
   "codemirror_mode": {
    "name": "ipython",
    "version": 3
   },
   "file_extension": ".py",
   "mimetype": "text/x-python",
   "name": "python",
   "nbconvert_exporter": "python",
   "pygments_lexer": "ipython3",
   "version": "3.4.3"
  }
 },
 "nbformat": 4,
 "nbformat_minor": 2
}
